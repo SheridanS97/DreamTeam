{
 "cells": [
  {
   "cell_type": "code",
   "execution_count": 106,
   "metadata": {},
   "outputs": [],
   "source": [
    "import csv #loading csv package\n",
    "import pandas as pd #loading pandas package\n",
    "import re #loading regex package\n",
    "import numpy as np\n",
    "import statsmodels.api as sm\n",
    "import statsmodels.formula.api as smf\n",
    "import math\n",
    "from scipy.stats import norm\n",
    "from scipy.stats import hypergeom \n",
    "from bokeh.models import Span\n",
    "from bokeh.resources import CDN\n",
    "from bokeh.embed import file_html, components\n",
    "from bokeh.plotting import figure, ColumnDataSource, output_notebook, show, output_file\n",
    "from bokeh.models import HoverTool, WheelZoomTool, PanTool, BoxZoomTool, ResetTool, TapTool, SaveTool\n",
    "from bokeh.palettes import brewer"
   ]
  },
  {
   "cell_type": "markdown",
   "metadata": {},
   "source": [
    "# Contents\n",
    "\n",
    "1. Reading in the user input file\n",
    "2. Cleaning up the user input file\n",
    "3. Obtaining kinase relationship information from the database\n",
    "4. Carrying out delta count calculation method of KSEA activity\n",
    "    a)KSEA mean method\n",
    "    b)KSEA alternative mean method\n",
    "    c)Delta Count method\n",
    "5. Visualising the data"
   ]
  },
  {
   "cell_type": "code",
   "execution_count": 285,
   "metadata": {},
   "outputs": [
    {
     "data": {
      "text/html": [
       "<div>\n",
       "<style scoped>\n",
       "    .dataframe tbody tr th:only-of-type {\n",
       "        vertical-align: middle;\n",
       "    }\n",
       "\n",
       "    .dataframe tbody tr th {\n",
       "        vertical-align: top;\n",
       "    }\n",
       "\n",
       "    .dataframe thead th {\n",
       "        text-align: right;\n",
       "    }\n",
       "</style>\n",
       "<table border=\"1\" class=\"dataframe\">\n",
       "  <thead>\n",
       "    <tr style=\"text-align: right;\">\n",
       "      <th></th>\n",
       "      <th>Substrate</th>\n",
       "      <th>control_mean</th>\n",
       "      <th>AZ20_mean</th>\n",
       "      <th>AZ20_fold_change</th>\n",
       "      <th>AZ20_p-value</th>\n",
       "      <th>AZ20_ctrlCV</th>\n",
       "      <th>AZ20_treatCV</th>\n",
       "      <th>Phosphosite</th>\n",
       "    </tr>\n",
       "  </thead>\n",
       "  <tbody>\n",
       "    <tr>\n",
       "      <th>0</th>\n",
       "      <td>1A24_HUMAN</td>\n",
       "      <td>1.527934e+07</td>\n",
       "      <td>2.643439e+07</td>\n",
       "      <td>1.730074</td>\n",
       "      <td>0.554298</td>\n",
       "      <td>1.280092</td>\n",
       "      <td>0.902944</td>\n",
       "      <td>S356</td>\n",
       "    </tr>\n",
       "    <tr>\n",
       "      <th>1</th>\n",
       "      <td>1A24_HUMAN</td>\n",
       "      <td>1.527934e+07</td>\n",
       "      <td>2.643439e+07</td>\n",
       "      <td>1.730074</td>\n",
       "      <td>0.554298</td>\n",
       "      <td>1.280092</td>\n",
       "      <td>0.902944</td>\n",
       "      <td>S359</td>\n",
       "    </tr>\n",
       "    <tr>\n",
       "      <th>2</th>\n",
       "      <td>1B13_HUMAN</td>\n",
       "      <td>2.706473e+07</td>\n",
       "      <td>2.779116e+07</td>\n",
       "      <td>1.026841</td>\n",
       "      <td>0.962084</td>\n",
       "      <td>0.724637</td>\n",
       "      <td>0.580207</td>\n",
       "      <td>None</td>\n",
       "    </tr>\n",
       "    <tr>\n",
       "      <th>3</th>\n",
       "      <td>1B39_HUMAN</td>\n",
       "      <td>1.158130e+09</td>\n",
       "      <td>1.173595e+09</td>\n",
       "      <td>1.013353</td>\n",
       "      <td>0.958301</td>\n",
       "      <td>0.128036</td>\n",
       "      <td>0.399220</td>\n",
       "      <td>M1</td>\n",
       "    </tr>\n",
       "    <tr>\n",
       "      <th>4</th>\n",
       "      <td>1B39_HUMAN</td>\n",
       "      <td>1.158130e+09</td>\n",
       "      <td>1.173595e+09</td>\n",
       "      <td>1.013353</td>\n",
       "      <td>0.958301</td>\n",
       "      <td>0.128036</td>\n",
       "      <td>0.399220</td>\n",
       "      <td>M4</td>\n",
       "    </tr>\n",
       "  </tbody>\n",
       "</table>\n",
       "</div>"
      ],
      "text/plain": [
       "    Substrate  control_mean     AZ20_mean  AZ20_fold_change  AZ20_p-value  \\\n",
       "0  1A24_HUMAN  1.527934e+07  2.643439e+07          1.730074      0.554298   \n",
       "1  1A24_HUMAN  1.527934e+07  2.643439e+07          1.730074      0.554298   \n",
       "2  1B13_HUMAN  2.706473e+07  2.779116e+07          1.026841      0.962084   \n",
       "3  1B39_HUMAN  1.158130e+09  1.173595e+09          1.013353      0.958301   \n",
       "4  1B39_HUMAN  1.158130e+09  1.173595e+09          1.013353      0.958301   \n",
       "\n",
       "   AZ20_ctrlCV  AZ20_treatCV Phosphosite  \n",
       "0     1.280092      0.902944        S356  \n",
       "1     1.280092      0.902944        S359  \n",
       "2     0.724637      0.580207        None  \n",
       "3     0.128036      0.399220          M1  \n",
       "4     0.128036      0.399220          M4  "
      ]
     },
     "execution_count": 285,
     "metadata": {},
     "output_type": "execute_result"
    }
   ],
   "source": [
    "def ReadDataInput(userDataInput):\n",
    "\n",
    "    #read in txt file\n",
    "    df_input_original = pd.read_csv(userDataInput,  sep='\\t')\n",
    "\n",
    "    #There are 86 columns in the dataframe, but only 7 columns have values, the rest are empty\n",
    "    #Need to remove the empty columns\n",
    "    input_original_subset = df_input_original.iloc[:, 0:7]\n",
    "\n",
    "    #Make columns 2-7 type float instead of string\n",
    "    input_original_subset.iloc[:, 1:7] = input_original_subset.iloc[:, 1:7].astype(float)\n",
    "\n",
    "    #Need to separate the phosphosite from the substrate in the first column into 2 separate columns\n",
    "    input_original_subset[['Substrate','Phosphosite']] = input_original_subset.Substrate.str.split('\\(|\\)', expand=True).iloc[:,[0,1]]\n",
    "\n",
    "    #Remove any rows where there are NaN in any of the columns\n",
    "    input_original_subset=input_original_subset.dropna()\n",
    "\n",
    "    return input_original_subset\n",
    "\n",
    "input_original_subset=ReadDataInput('az20.txt')"
   ]
  },
  {
   "cell_type": "code",
   "execution_count": 286,
   "metadata": {},
   "outputs": [],
   "source": [
    "#Read in human kinase substrate and phosphosite csv\n",
    "#Add unique identifier for each unique p-site \n",
    "def SubstrateKinase(SubstrateKinaseCSV):\n",
    "    df_substrate = pd.read_csv(SubstrateKinaseCSV)\n",
    "    df_substrate['p-site'] = df_substrate['SUB_ACC_ID'] +'_' + df_substrate['SUB_MOD_RSD']\n",
    "    return df_substrate\n",
    "\n",
    "df_substrate=SubstrateKinase('new_clean_human_kinase_substrates.csv')"
   ]
  },
  {
   "cell_type": "code",
   "execution_count": 287,
   "metadata": {},
   "outputs": [],
   "source": [
    "#Obtain adjacency matrix of phosphosites to kinase relationships\n",
    "#1 means phsophorylation by a kinase\n",
    "#0 means no relationship\n",
    "#then sum number of relationships per kinase\n",
    "def Adj_Matrix(df_substrate):\n",
    "    df_substrate[\"value\"] = 1\n",
    "    rel_adj_matrix = pd.pivot_table(df_substrate, values='value' , index='p-site' , columns='GENE',fill_value=0) \n",
    "    rel_adj_matrix.sum(axis=0).sort_values(ascending=False).head()\n",
    "\n",
    "Adj_Matrix(df_substrate)"
   ]
  },
  {
   "cell_type": "code",
   "execution_count": 288,
   "metadata": {
    "scrolled": false
   },
   "outputs": [],
   "source": [
    "#Finding the kinase-substrate interactions\n",
    "def SubstrateKinaseInteractions(input_original_subset):\n",
    "    input_original_subset[\"Kinase\"] = \"\"\n",
    "    length=len(input_original_subset)\n",
    "\n",
    "    for i,j, k in zip(input_original_subset['Substrate'],input_original_subset['Phosphosite'], range(length)):\n",
    "        for l, m, n, o, p in zip(df_substrate['SUB_ENTRY_NAME'], df_substrate['SUBSTRATE'],  df_substrate['SUB_GENE'],df_substrate['SUB_MOD_RSD'], df_substrate['KINASE']):\n",
    "            if (i == l or i == m or i == n) and j == o:\n",
    "                input_original_subset.iloc[k ,8] += p + \",\"\n",
    "    Kin_Sub_Interactions=input_original_subset\n",
    "    return Kin_Sub_Interactions\n",
    "\n",
    "Kin_Sub_Interactions=SubstrateKinaseInteractions(input_original_subset)"
   ]
  },
  {
   "cell_type": "code",
   "execution_count": 289,
   "metadata": {},
   "outputs": [],
   "source": [
    "#There are empty values in the new kinase column in the user input file\n",
    "#These empty rows are where there was not a match - either because the phosphosite in the user input \n",
    "#didn't match our database, or where there was not phosphosite stated in the user input file\n",
    "#Remove rows where there are empty values in the kinase column\n",
    "\n",
    "def TidyKinaseSubstrate(Kin_Sub_Interactions):\n",
    "    #First, need to replace the empty values with NaN\n",
    "    nan_replace = float(\"NaN\")\n",
    "    Kin_Sub_Interactions.replace(\"\", nan_replace, inplace=True)\n",
    "\n",
    "    #then can use drop.na() to drop rows where 'NaN' appears\n",
    "    user_input_kinase=Kin_Sub_Interactions.dropna(subset = [\"Kinase\"])\n",
    "\n",
    "    return user_input_kinase\n",
    "\n",
    "tidy_input_kinase=TidyKinaseSubstrate(Kin_Sub_Interactions)"
   ]
  },
  {
   "cell_type": "code",
   "execution_count": 293,
   "metadata": {},
   "outputs": [
    {
     "data": {
      "text/html": [
       "<div>\n",
       "<style scoped>\n",
       "    .dataframe tbody tr th:only-of-type {\n",
       "        vertical-align: middle;\n",
       "    }\n",
       "\n",
       "    .dataframe tbody tr th {\n",
       "        vertical-align: top;\n",
       "    }\n",
       "\n",
       "    .dataframe thead th {\n",
       "        text-align: right;\n",
       "    }\n",
       "</style>\n",
       "<table border=\"1\" class=\"dataframe\">\n",
       "  <thead>\n",
       "    <tr style=\"text-align: right;\">\n",
       "      <th></th>\n",
       "      <th>AZ20_ctrlCV</th>\n",
       "      <th>AZ20_fold_change</th>\n",
       "      <th>AZ20_mean</th>\n",
       "      <th>AZ20_p-value</th>\n",
       "      <th>AZ20_treatCV</th>\n",
       "      <th>Kinase</th>\n",
       "      <th>Phosphosite</th>\n",
       "      <th>Substrate</th>\n",
       "      <th>control_mean</th>\n",
       "    </tr>\n",
       "  </thead>\n",
       "  <tbody>\n",
       "    <tr>\n",
       "      <th>0</th>\n",
       "      <td>0.339347</td>\n",
       "      <td>0.831641</td>\n",
       "      <td>2.678659e+08</td>\n",
       "      <td>0.572706</td>\n",
       "      <td>0.423268</td>\n",
       "      <td>CDK1</td>\n",
       "      <td>T389</td>\n",
       "      <td>AAK1</td>\n",
       "      <td>3.220931e+08</td>\n",
       "    </tr>\n",
       "    <tr>\n",
       "      <th>1</th>\n",
       "      <td>0.184789</td>\n",
       "      <td>1.578449</td>\n",
       "      <td>5.887469e+09</td>\n",
       "      <td>0.024749</td>\n",
       "      <td>0.178244</td>\n",
       "      <td>CK2A1</td>\n",
       "      <td>S109</td>\n",
       "      <td>ABCF1</td>\n",
       "      <td>3.729907e+09</td>\n",
       "    </tr>\n",
       "    <tr>\n",
       "      <th>2</th>\n",
       "      <td>0.209021</td>\n",
       "      <td>0.752334</td>\n",
       "      <td>3.859859e+09</td>\n",
       "      <td>0.171288</td>\n",
       "      <td>0.239829</td>\n",
       "      <td>CK2A1</td>\n",
       "      <td>S140</td>\n",
       "      <td>ABCF1</td>\n",
       "      <td>5.130510e+09</td>\n",
       "    </tr>\n",
       "    <tr>\n",
       "      <th>3</th>\n",
       "      <td>0.043769</td>\n",
       "      <td>1.349337</td>\n",
       "      <td>4.794626e+08</td>\n",
       "      <td>0.121853</td>\n",
       "      <td>0.246919</td>\n",
       "      <td>Abl</td>\n",
       "      <td>Y213</td>\n",
       "      <td>ABI1</td>\n",
       "      <td>3.553320e+08</td>\n",
       "    </tr>\n",
       "    <tr>\n",
       "      <th>4</th>\n",
       "      <td>1.001082</td>\n",
       "      <td>1.791091</td>\n",
       "      <td>5.593549e+07</td>\n",
       "      <td>0.446615</td>\n",
       "      <td>0.755225</td>\n",
       "      <td>CDK1</td>\n",
       "      <td>S12</td>\n",
       "      <td>ADD1</td>\n",
       "      <td>3.122984e+07</td>\n",
       "    </tr>\n",
       "  </tbody>\n",
       "</table>\n",
       "</div>"
      ],
      "text/plain": [
       "   AZ20_ctrlCV  AZ20_fold_change     AZ20_mean  AZ20_p-value  AZ20_treatCV  \\\n",
       "0     0.339347          0.831641  2.678659e+08      0.572706      0.423268   \n",
       "1     0.184789          1.578449  5.887469e+09      0.024749      0.178244   \n",
       "2     0.209021          0.752334  3.859859e+09      0.171288      0.239829   \n",
       "3     0.043769          1.349337  4.794626e+08      0.121853      0.246919   \n",
       "4     1.001082          1.791091  5.593549e+07      0.446615      0.755225   \n",
       "\n",
       "  Kinase Phosphosite Substrate  control_mean  \n",
       "0   CDK1        T389      AAK1  3.220931e+08  \n",
       "1  CK2A1        S109     ABCF1  3.729907e+09  \n",
       "2  CK2A1        S140     ABCF1  5.130510e+09  \n",
       "3    Abl        Y213      ABI1  3.553320e+08  \n",
       "4   CDK1         S12      ADD1  3.122984e+07  "
      ]
     },
     "execution_count": 293,
     "metadata": {},
     "output_type": "execute_result"
    }
   ],
   "source": [
    "def splitDataFrameList(df,target_column,separator):\n",
    "    def splitListToRows(row,row_accumulator,target_column,separator):\n",
    "        split_row = row[target_column].split(separator)\n",
    "        for s in split_row:\n",
    "            new_row = row.to_dict()\n",
    "            new_row[target_column] = s\n",
    "            row_accumulator.append(new_row)\n",
    "    new_rows = []\n",
    "    df.apply(splitListToRows,axis=1,args = (new_rows,target_column,separator))\n",
    "    new_df = pd.DataFrame(new_rows)\n",
    "    nan_replace = float(\"NaN\")\n",
    "    new_df.replace(\"\", nan_replace, inplace=True)\n",
    "    kinaseList=new_df.dropna(subset = [\"Kinase\"])\n",
    "    \n",
    "    ##Drop ambiguous phosphosites - phosphosites that are phosphorylated by multiple kinases\n",
    "    kinaseList.drop_duplicates(subset=['Phosphosite', 'Substrate'], keep=False, inplace=True)\n",
    "    kinaseList=kinaseList.reset_index(drop=True)\n",
    "    return kinaseList\n",
    "\n",
    "kinaseList = splitDataFrameList(tidy_input_kinase, 'Kinase', ',')\n",
    "kinaseList.head()"
   ]
  },
  {
   "cell_type": "code",
   "execution_count": 304,
   "metadata": {},
   "outputs": [],
   "source": [
    "def Accession_Add(df_substrate,kinaseList):\n",
    "    kinaseList[\"SUB_ACC_ID\"]=\"\"\n",
    "    length=len(kinaseList)\n",
    "\n",
    "    for i,j,k in zip(kinaseList['Phosphosite'],kinaseList['Kinase'], range(length)): \n",
    "        for l, m, n in zip(df_substrate['SUB_MOD_RSD'], df_substrate['KINASE'], df_substrate['SUB_ACC_ID']):    \n",
    "            if i == l and m == j:\n",
    "                kinaseList.at[k,'SUB_ACC_ID'] = n\n",
    "\n",
    "Accession_Kinase_df=Accession_Add(df_substrate,kinaseList)\n",
    "#kinaseList.head()"
   ]
  },
  {
   "cell_type": "code",
   "execution_count": 305,
   "metadata": {},
   "outputs": [],
   "source": [
    "def Unique_identifier_Kinase(df):\n",
    "    kinaseList['p-site'] = kinaseList['SUB_ACC_ID'] +'_' + kinaseList['Phosphosite']\n",
    "    return kinaseList\n",
    "\n",
    "Unique_identifier_kinase=Unique_identifier_Kinase(kinaseList)"
   ]
  },
  {
   "cell_type": "code",
   "execution_count": 306,
   "metadata": {},
   "outputs": [],
   "source": [
    "##Find how many phosphosites are found in both the substrate set and the kinase database \n",
    "\n",
    "def phosphosite_in_common(rel_adj_matrix, kinaseList):\n",
    "    common_phosphosite=[]\n",
    "    \n",
    "    for i in rel_adj_matrix:\n",
    "        substrate_set = rel_adj_matrix[i].replace(0, np.nan).dropna().index\n",
    "        detected_p_sites = kinaseList.iloc[:,10]\n",
    "        intersect = list(set(substrate_set).intersection(detected_p_sites))\n",
    "        common_phosphosite.append(intersect)\n",
    "    \n",
    "    return common_phosphosite\n",
    "\n",
    "common_phosphosite=phosphosite_in_common(rel_adj_matrix, kinaseList)\n",
    "\n",
    "def len_intersect(common_phosphosite):\n",
    "    len_intersect=[]\n",
    "    for i in common_phosphosite:\n",
    "        len_intersect.append(len(i))\n",
    "    return len_intersect\n",
    "\n",
    "len_intersect= len_intersect(common_phosphosite)\n",
    "\n",
    "gene_list=[] \n",
    "for i in rel_adj_matrix:\n",
    "    gene_list.append(i)\n",
    "    \n",
    "Phosphosite_number = {'Substrate':gene_list,'P-site Number':len_intersect}\n",
    "Phosphosite_no=pd.DataFrame(Phosphosite_number)"
   ]
  },
  {
   "cell_type": "code",
   "execution_count": 302,
   "metadata": {},
   "outputs": [],
   "source": [
    "##Carry out -log10 transform on P values\n",
    "def NegLog10(df):\n",
    "    \n",
    "    #Take -log10 of the corrected p-value.\n",
    "    uncorrected_p_values=df.iloc[ :,3].astype(np.float64)\n",
    "    log10_corrected_pvalue = (-np.log10(uncorrected_p_values))\n",
    "\n",
    "    #Append -log10(P-values) to a new column in data frame.\n",
    "    df[\"-Log10 Corrected P-Value\"]=log10_corrected_pvalue\n",
    "    NegLog10kinase=df\n",
    "    return NegLog10kinase\n",
    "\n",
    "NegLog10KinaseDF=NegLog10(Unique_identifier_kinase)"
   ]
  },
  {
   "cell_type": "code",
   "execution_count": 313,
   "metadata": {},
   "outputs": [],
   "source": [
    "#Calculate log2FC and add as new column\n",
    "def log2FC(df):\n",
    "    log2FC=np.log2(df.iloc[:, 1])\n",
    "    df[\"Log2 Fold Change\"]=log2FC\n",
    "    return df\n",
    "log2FCKinase= log2FC(NegLog10KinaseDF)"
   ]
  },
  {
   "cell_type": "markdown",
   "metadata": {},
   "source": [
    "# KSEA \"Mean\" Method"
   ]
  },
  {
   "cell_type": "markdown",
   "metadata": {},
   "source": [
    "MS = Mean fold changes in substrate set \n",
    "\n",
    "mP = mean FC of data set\n",
    "\n",
    "m=size of substrate set\n",
    "\n",
    "delta= std of fold change of complete data set "
   ]
  },
  {
   "cell_type": "code",
   "execution_count": 314,
   "metadata": {},
   "outputs": [],
   "source": [
    "def KSEA_Mean(df):#mS calculation\n",
    "    mS = df.groupby('Kinase')['Log2 Fold Change'].mean()\n",
    "    mP = df['Log2 Fold Change'].mean()\n",
    "    delta=df['Log2 Fold Change'].std()\n",
    "\n",
    "    m=[]\n",
    "    Kinase_phosphosite=df.groupby('Kinase')['Phosphosite']\n",
    "    for key, item in Kinase_phosphosite:\n",
    "        m.append(len(item))\n",
    "\n",
    "    Z_Scores=[]    \n",
    "    for i, j in zip(mS, m):\n",
    "        Z_Scores.append((i-mP)*math.sqrt(j)*1/delta)\n",
    "\n",
    "    p_means=[]\n",
    "    for i in Z_Scores:\n",
    "        p_means.append(norm.sf(abs(i)))\n",
    "\n",
    "    calculations_dict={'mS': mS, 'mP':mP, 'm':m, 'Delta':delta, 'Z_Scores':Z_Scores,\"P_value\":p_means}\n",
    "\n",
    "    calculations_df=pd.DataFrame(calculations_dict)\n",
    "    calculations_df=calculations_df.reset_index(level=['Kinase'])\n",
    "    return calculations_df\n",
    "\n",
    "calculations_df=KSEA_Mean(log2FCKinase)"
   ]
  },
  {
   "cell_type": "markdown",
   "metadata": {},
   "source": [
    "# Alternative Mean method"
   ]
  },
  {
   "cell_type": "markdown",
   "metadata": {},
   "source": [
    "In the alternative mean method, only the phosphosites in the substrate set that change signiﬁcantly between conditions are considered when calculating the mean of the fold changes in the substrate set. \n",
    "\n",
    "Therefore, a cut off is needed, where only phosphosites in the substrate set with a signiﬁcant increase or decrease are used."
   ]
  },
  {
   "cell_type": "code",
   "execution_count": 317,
   "metadata": {},
   "outputs": [
    {
     "name": "stdout",
     "output_type": "stream",
     "text": [
      "     AZ20_ctrlCV  AZ20_fold_change     AZ20_mean  AZ20_p-value  AZ20_treatCV  \\\n",
      "1       0.184789          1.578449  5.887469e+09      0.024749      0.178244   \n",
      "5       0.312763          0.212892  3.721304e+08      0.007357      0.664823   \n",
      "12      0.322419          1.666240  3.181032e+08      0.023345      0.122824   \n",
      "15      0.284972          0.356389  2.176100e+08      0.008361      0.131286   \n",
      "28      0.273054          2.472960  2.004610e+09      0.005000      0.211943   \n",
      "30      0.086407          1.421471  7.041092e+09      0.000221      0.023482   \n",
      "43      0.146188          0.358882  4.864442e+08      0.000440      0.179713   \n",
      "46      0.248967          1.943308  7.233623e+07      0.034177      0.280033   \n",
      "56      0.034670          1.581005  5.059355e+09      0.000998      0.104506   \n",
      "57      0.194614          1.801883  5.511817e+09      0.043778      0.282943   \n",
      "65      0.079779          1.524510  4.559793e+09      0.004012      0.120968   \n",
      "66      0.137253          1.323145  1.365169e+10      0.036344      0.118658   \n",
      "67      0.164712          0.094899  4.688622e+09      0.000137      0.827070   \n",
      "68      0.123573          1.674832  4.696493e+08      0.000193      0.044949   \n",
      "78      0.075850          0.758222  3.148304e+09      0.018883      0.141442   \n",
      "81      0.036364          2.180583  4.584709e+09      0.000128      0.106600   \n",
      "84      0.306417          0.341575  3.512916e+07      0.016734      0.478244   \n",
      "87      0.157549          0.635984  4.268366e+08      0.044782      0.303941   \n",
      "92      0.074452          1.223206  1.804189e+09      0.019526      0.079303   \n",
      "99      0.237125          0.475585  2.411677e+08      0.012035      0.201057   \n",
      "102     0.603229          2.635333  7.778794e+08      0.045256      0.359783   \n",
      "108     0.718342          2.275932  3.302063e+08      0.030178      0.136288   \n",
      "110     0.159888          1.315654  9.560579e+09      0.029686      0.081779   \n",
      "111     0.429162          3.034469  2.155919e+08      0.002545      0.186417   \n",
      "112     0.065313          1.222325  2.276200e+10      0.006596      0.056075   \n",
      "114     0.163951          1.334861  1.209489e+09      0.048151      0.125468   \n",
      "116     0.100892          1.605478  1.928768e+09      0.014631      0.182004   \n",
      "125     0.224675          3.201361  9.398135e+09      0.002390      0.226350   \n",
      "126     0.215491          0.002733  6.333716e+06      0.000201      1.016814   \n",
      "127     0.199504          0.051600  2.981967e+08      0.000176      0.293028   \n",
      "..           ...               ...           ...           ...           ...   \n",
      "300     0.052248          1.312792  5.350112e+09      0.000845      0.053993   \n",
      "311     0.262080          1.855186  3.316890e+09      0.006673      0.137018   \n",
      "312     0.525857          0.150692  2.926531e+07      0.033092      0.618186   \n",
      "316     0.058768          1.453861  2.024073e+09      0.000480      0.067920   \n",
      "321     0.211907          1.573189  2.837318e+08      0.024020      0.161609   \n",
      "331     0.019525          0.505869  1.971263e+09      0.015777      0.506363   \n",
      "332     0.093814          1.357871  4.870552e+08      0.006190      0.086490   \n",
      "340     0.137336          1.853439  1.782651e+09      0.000880      0.107582   \n",
      "342     0.081772          1.397796  4.505049e+09      0.005645      0.101534   \n",
      "347     0.191615          0.415491  3.009687e+08      0.002261      0.131191   \n",
      "360     0.229513          1.846341  2.327793e+09      0.035499      0.266294   \n",
      "373     0.059917          0.775586  3.800106e+09      0.006283      0.094325   \n",
      "375     0.476756          2.149003  6.794402e+09      0.009630      0.110076   \n",
      "377     0.041936          1.237445  2.650803e+10      0.003537      0.063086   \n",
      "387     0.506642          2.455322  1.710923e+09      0.009873      0.183460   \n",
      "409     0.089108          0.819314  2.780759e+09      0.026246      0.071785   \n",
      "414     0.236060          1.628782  2.013035e+09      0.026486      0.176862   \n",
      "417     0.076884          1.426316  1.144092e+10      0.024450      0.164790   \n",
      "422     0.605043          2.083607  3.193411e+08      0.022814      0.059146   \n",
      "423     1.300270        245.055213  3.250169e+07      0.027230      0.594194   \n",
      "424     0.603670          2.293686  3.518428e+08      0.013471      0.102274   \n",
      "434     0.104436          1.593499  5.055734e+09      0.000580      0.072441   \n",
      "454     0.223045          1.512080  1.018427e+09      0.022618      0.123762   \n",
      "457     0.032376          1.751248  2.315134e+09      0.000369      0.101801   \n",
      "459     0.303997          1.937046  7.908115e+08      0.030034      0.251293   \n",
      "464     0.187414          3.145480  4.074494e+09      0.047521      0.471780   \n",
      "471     0.250494          2.249449  2.588964e+08      0.002515      0.158107   \n",
      "476     0.161966          1.360537  1.458681e+09      0.046213      0.139284   \n",
      "491     0.365518          1.618690  4.168531e+08      0.047949      0.142812   \n",
      "499     0.619723          0.066413  3.415546e+07      0.040195      0.207749   \n",
      "\n",
      "     Kinase Phosphosite Substrate  control_mean SUB_ACC_ID        p-site  \\\n",
      "1     CK2A1        S109     ABCF1  3.729907e+09     Q8NE71   Q8NE71_S109   \n",
      "5     GSK3B        S613      ADD2  1.747978e+09     P35612   P35612_S613   \n",
      "12     CDK2         S18   AKIRIN2  1.909108e+08     Q53H80    Q53H80_S18   \n",
      "15     mTOR        S183    AKT1S1  6.105962e+08     Q96B36   Q96B36_S183   \n",
      "28     PKCT        S225   ARHGEF6  8.106116e+08     Q15052   Q15052_S225   \n",
      "30     PKCG        S518   ARHGEF7  4.953383e+09     Q14155   Q14155_S518   \n",
      "43     CDK1       S1191     BRCA1  1.355442e+09     P38398  P38398_S1191   \n",
      "46     CDK2         S37  C1orf198  3.722325e+07     Q03252    Q03252_S37   \n",
      "56     AurB         S92      CBX5  3.200088e+09     P45973    P45973_S92   \n",
      "57     Chk1        S240     CCDC6  3.058921e+09     Q16204   Q16204_S240   \n",
      "65     PKCA        S440       CD4  2.990989e+09     P28329   P28329_S440   \n",
      "66   CAMK2A        S706      CD44  1.031760e+10     P16070   P16070_S706   \n",
      "67     BUB1         S41     CDC20  4.940649e+10     Q12834    Q12834_S41   \n",
      "68     BUB1        T157     CDC20  2.804158e+08     Q12834   Q12834_T157   \n",
      "78     AurB        S219     CDCA8  4.152221e+09     Q53HL2   Q53HL2_S219   \n",
      "81     CDK7        T893     CDK12  2.102515e+09     Q9NYV4   Q9NYV4_T893   \n",
      "84    PKACA        S153     CDK16  1.028447e+08     Q00536   Q00536_S153   \n",
      "87     Akt1         S28     CELF1  6.711438e+08     Q13950    Q13950_S28   \n",
      "92   AMPKA1        S131       CGN  1.474968e+09     Q9P2M7   Q9P2M7_S131   \n",
      "99     PKCA        S879    CTNND1  5.070966e+08     O60716   O60716_S879   \n",
      "102    CDK1        S110    CUEDC2  2.951731e+08     Q9H467   Q9H467_S110   \n",
      "108    Chk1         S82     DDX24  1.450862e+08     Q9GZR7    Q9GZR7_S82   \n",
      "110    AurB        S592     DDX3Y  7.266788e+09     O15523   O15523_S592   \n",
      "111    AurA        S725    DLGAP5  7.104765e+07     Q15398   Q15398_S725   \n",
      "112    CDK4        S127     DNMT1  1.862189e+10     P26358   P26358_S127   \n",
      "114    mTOR        S714     DNMT1  9.060788e+08     P26358   P26358_S714   \n",
      "116   GSK3B        T509    DPYSL2  1.201367e+09     Q14195   Q14195_T509   \n",
      "125   EEF2K         T57      EEF2  2.935668e+09     P13639    P13639_T57   \n",
      "126    mTOR         S72     EEF2K  2.317356e+09     O00418    O00418_S72   \n",
      "127    mTOR         S74     EEF2K  5.779042e+09     O00418    O00418_S74   \n",
      "..      ...         ...       ...           ...        ...           ...   \n",
      "300    CDK2        T226      ORC2  4.075370e+09     Q13416   Q13416_T226   \n",
      "311    mTOR        S179     PATL1  1.787902e+09     Q86TB9   Q86TB9_S179   \n",
      "312   CK2A1        S231      PAWR  1.942059e+08     P49427   P49427_S231   \n",
      "316    PDK1        S241     PDPK1  1.392205e+09     O15530   O15530_S241   \n",
      "321    CDK2        S162       PGR  1.803545e+08     P06401   P06401_S162   \n",
      "331   HIPK2         S85     PPM1D  3.896785e+09     O15297    O15297_S85   \n",
      "332    Chk1         S15     PPME1  3.586903e+08     P04637    P04637_S15   \n",
      "340   PKACA        S573   PPP2R5D  9.618074e+08     Q14738   Q14738_S573   \n",
      "342    CDK1        T481      PRC1  3.222967e+09     O43663   O43663_T481   \n",
      "347    Chk1         S43   PROSER2  7.243695e+08     Q86WR7    Q86WR7_S43   \n",
      "360    CDK2         S99     RAD18  1.260760e+09     Q9NS91    Q9NS91_S99   \n",
      "373    CDK2        S662      RBL2  4.899659e+09     Q08999   Q08999_S662   \n",
      "375    Chk1        S627     RBM14  3.161653e+09     Q96RL1   Q96RL1_S627   \n",
      "377     Abl         Y95     RBM39  2.142159e+10     Q14498    Q14498_Y95   \n",
      "387    CDK2         S27    RPS27L  6.968223e+08     P49736    P49736_S27   \n",
      "409    CDK2         S48    SLAIN2  3.394007e+09     Q9P270    Q9P270_S48   \n",
      "414    ARAF        S303  SLC9A3R2  1.235914e+09     Q15599   Q15599_S303   \n",
      "417   PKACA         S17       SRC  8.021309e+09     P12931    P12931_S17   \n",
      "422    mTOR       S1318     SRRM2  1.532636e+08     Q9UQ35  Q9UQ35_S1318   \n",
      "423    mTOR       S1326     SRRM2  1.326301e+05     Q9UQ35  Q9UQ35_S1326   \n",
      "424    mTOR       S1329     SRRM2  1.533962e+08     Q9UQ35  Q9UQ35_S1329   \n",
      "434    AurB         S37      SSH3  3.172724e+09     Q8TE77    Q8TE77_S37   \n",
      "454    RSK2        S295     TINF2  6.735275e+08     Q9BSI4   Q9BSI4_S295   \n",
      "457    CDK1        S424      TMPO  1.321991e+09     P42166   P42166_S424   \n",
      "459    CDK2        S691  TNKS1BP1  4.082565e+08     Q9C0C2   Q9C0C2_S691   \n",
      "464    CDK2        S143  TOR1AIP1  1.295349e+09     Q5JTV8   Q5JTV8_S143   \n",
      "471   ChaK1       S1258     TRPM7  1.150933e+08     Q96QT4  Q96QT4_S1258   \n",
      "476    BRAF        S281       TTK  1.072136e+09     P33981   P33981_S281   \n",
      "491    CDK1        T761    VCPIP1  2.575249e+08     Q96JH7   Q96JH7_T761   \n",
      "499   PKACA        S334   ZFP36L1  5.142917e+08     P50549   P50549_S334   \n",
      "\n",
      "     -Log10 Corrected P-Value  Log2 Fold Change  color  \n",
      "1                    1.606443          0.658508    Red  \n",
      "5                    2.133321         -2.231807    Red  \n",
      "12                   1.631812          0.736597    Red  \n",
      "15                   2.077753         -1.488474    Red  \n",
      "28                   2.301065          1.306239  Green  \n",
      "30                   3.655401          0.507385    Red  \n",
      "43                   3.356196         -1.478417    Red  \n",
      "46                   1.466268          0.958514    Red  \n",
      "56                   3.000784          0.660842    Red  \n",
      "57                   1.358747          0.849505    Red  \n",
      "65                   2.396633          0.608346    Red  \n",
      "66                   1.439564          0.403972    Red  \n",
      "67                   3.864460         -3.397465    Red  \n",
      "68                   3.714841          0.744016    Red  \n",
      "78                   1.723937         -0.399308    Red  \n",
      "81                   3.892386          1.124714  Green  \n",
      "84                   1.776412         -1.549726    Red  \n",
      "87                   1.348900         -0.652938    Red  \n",
      "92                   1.709389          0.290667    Red  \n",
      "99                   1.919564         -1.072224    Red  \n",
      "102                  1.344320          1.397985  Green  \n",
      "108                  1.520314          1.186457  Green  \n",
      "110                  1.527442          0.395780    Red  \n",
      "111                  2.594273          1.601444  Green  \n",
      "112                  2.180710          0.289628    Red  \n",
      "114                  1.317391          0.416689    Red  \n",
      "116                  1.834723          0.683003    Red  \n",
      "125                  2.621550          1.678685  Green  \n",
      "126                  3.696044         -8.515212    Red  \n",
      "127                  3.754154         -4.276494    Red  \n",
      "..                        ...               ...    ...  \n",
      "300                  3.073054          0.392638    Red  \n",
      "311                  2.175676          0.891564    Red  \n",
      "312                  1.480270         -2.730324    Red  \n",
      "316                  3.319153          0.539889    Red  \n",
      "321                  1.619424          0.653692    Red  \n",
      "331                  1.801986         -0.983164    Red  \n",
      "332                  2.208296          0.441347    Red  \n",
      "340                  3.055414          0.890204    Red  \n",
      "342                  2.248322          0.483154    Red  \n",
      "347                  2.645635         -1.267112    Red  \n",
      "360                  1.449786          0.884669    Red  \n",
      "373                  2.201838         -0.366642    Red  \n",
      "375                  2.016370          1.103668  Green  \n",
      "377                  2.451378          0.307364    Red  \n",
      "387                  2.005533          1.295912  Green  \n",
      "409                  1.580932         -0.287511    Red  \n",
      "414                  1.576990          0.703794    Red  \n",
      "417                  1.611724          0.512294    Red  \n",
      "422                  1.641798          1.059083  Green  \n",
      "423                  1.564958          7.936963  Green  \n",
      "424                  1.870611          1.197668  Green  \n",
      "434                  3.236618          0.672198    Red  \n",
      "454                  1.645548          0.596534    Red  \n",
      "457                  3.433538          0.808383    Red  \n",
      "459                  1.522387          0.953858    Red  \n",
      "464                  1.323114          1.653280  Green  \n",
      "471                  2.599507          1.169572  Green  \n",
      "476                  1.335240          0.444176    Red  \n",
      "491                  1.319220          0.694827    Red  \n",
      "499                  1.395830         -3.912399    Red  \n",
      "\n",
      "[101 rows x 14 columns]\n"
     ]
    }
   ],
   "source": [
    "print new_kinaseList"
   ]
  },
  {
   "cell_type": "code",
   "execution_count": 334,
   "metadata": {},
   "outputs": [
    {
     "data": {
      "text/html": [
       "<div>\n",
       "<style scoped>\n",
       "    .dataframe tbody tr th:only-of-type {\n",
       "        vertical-align: middle;\n",
       "    }\n",
       "\n",
       "    .dataframe tbody tr th {\n",
       "        vertical-align: top;\n",
       "    }\n",
       "\n",
       "    .dataframe thead th {\n",
       "        text-align: right;\n",
       "    }\n",
       "</style>\n",
       "<table border=\"1\" class=\"dataframe\">\n",
       "  <thead>\n",
       "    <tr style=\"text-align: right;\">\n",
       "      <th></th>\n",
       "      <th>AZ20_ctrlCV</th>\n",
       "      <th>AZ20_fold_change</th>\n",
       "      <th>AZ20_mean</th>\n",
       "      <th>AZ20_p-value</th>\n",
       "      <th>AZ20_treatCV</th>\n",
       "      <th>Kinase</th>\n",
       "      <th>Phosphosite</th>\n",
       "      <th>Substrate</th>\n",
       "      <th>control_mean</th>\n",
       "      <th>SUB_ACC_ID</th>\n",
       "      <th>p-site</th>\n",
       "      <th>-Log10 Corrected P-Value</th>\n",
       "      <th>Log2 Fold Change</th>\n",
       "      <th>color</th>\n",
       "    </tr>\n",
       "  </thead>\n",
       "  <tbody>\n",
       "    <tr>\n",
       "      <th>0</th>\n",
       "      <td>0.339347</td>\n",
       "      <td>0.831641</td>\n",
       "      <td>2.678659e+08</td>\n",
       "      <td>0.572706</td>\n",
       "      <td>0.423268</td>\n",
       "      <td>CDK1</td>\n",
       "      <td>T389</td>\n",
       "      <td>AAK1</td>\n",
       "      <td>3.220931e+08</td>\n",
       "      <td>Q2M2I8</td>\n",
       "      <td>Q2M2I8_T389</td>\n",
       "      <td>0.242068</td>\n",
       "      <td>-0.265967</td>\n",
       "      <td>grey</td>\n",
       "    </tr>\n",
       "    <tr>\n",
       "      <th>1</th>\n",
       "      <td>0.184789</td>\n",
       "      <td>1.578449</td>\n",
       "      <td>5.887469e+09</td>\n",
       "      <td>0.024749</td>\n",
       "      <td>0.178244</td>\n",
       "      <td>CK2A1</td>\n",
       "      <td>S109</td>\n",
       "      <td>ABCF1</td>\n",
       "      <td>3.729907e+09</td>\n",
       "      <td>Q8NE71</td>\n",
       "      <td>Q8NE71_S109</td>\n",
       "      <td>1.606443</td>\n",
       "      <td>0.658508</td>\n",
       "      <td>Red</td>\n",
       "    </tr>\n",
       "    <tr>\n",
       "      <th>2</th>\n",
       "      <td>0.209021</td>\n",
       "      <td>0.752334</td>\n",
       "      <td>3.859859e+09</td>\n",
       "      <td>0.171288</td>\n",
       "      <td>0.239829</td>\n",
       "      <td>CK2A1</td>\n",
       "      <td>S140</td>\n",
       "      <td>ABCF1</td>\n",
       "      <td>5.130510e+09</td>\n",
       "      <td>P17936</td>\n",
       "      <td>P17936_S140</td>\n",
       "      <td>0.766272</td>\n",
       "      <td>-0.410554</td>\n",
       "      <td>grey</td>\n",
       "    </tr>\n",
       "    <tr>\n",
       "      <th>3</th>\n",
       "      <td>0.043769</td>\n",
       "      <td>1.349337</td>\n",
       "      <td>4.794626e+08</td>\n",
       "      <td>0.121853</td>\n",
       "      <td>0.246919</td>\n",
       "      <td>Abl</td>\n",
       "      <td>Y213</td>\n",
       "      <td>ABI1</td>\n",
       "      <td>3.553320e+08</td>\n",
       "      <td>Q8IZP0</td>\n",
       "      <td>Q8IZP0_Y213</td>\n",
       "      <td>0.914164</td>\n",
       "      <td>0.432251</td>\n",
       "      <td>grey</td>\n",
       "    </tr>\n",
       "    <tr>\n",
       "      <th>4</th>\n",
       "      <td>1.001082</td>\n",
       "      <td>1.791091</td>\n",
       "      <td>5.593549e+07</td>\n",
       "      <td>0.446615</td>\n",
       "      <td>0.755225</td>\n",
       "      <td>CDK1</td>\n",
       "      <td>S12</td>\n",
       "      <td>ADD1</td>\n",
       "      <td>3.122984e+07</td>\n",
       "      <td>P35611</td>\n",
       "      <td>P35611_S12</td>\n",
       "      <td>0.350066</td>\n",
       "      <td>0.840839</td>\n",
       "      <td>grey</td>\n",
       "    </tr>\n",
       "  </tbody>\n",
       "</table>\n",
       "</div>"
      ],
      "text/plain": [
       "   AZ20_ctrlCV  AZ20_fold_change     AZ20_mean  AZ20_p-value  AZ20_treatCV  \\\n",
       "0     0.339347          0.831641  2.678659e+08      0.572706      0.423268   \n",
       "1     0.184789          1.578449  5.887469e+09      0.024749      0.178244   \n",
       "2     0.209021          0.752334  3.859859e+09      0.171288      0.239829   \n",
       "3     0.043769          1.349337  4.794626e+08      0.121853      0.246919   \n",
       "4     1.001082          1.791091  5.593549e+07      0.446615      0.755225   \n",
       "\n",
       "  Kinase Phosphosite Substrate  control_mean SUB_ACC_ID       p-site  \\\n",
       "0   CDK1        T389      AAK1  3.220931e+08     Q2M2I8  Q2M2I8_T389   \n",
       "1  CK2A1        S109     ABCF1  3.729907e+09     Q8NE71  Q8NE71_S109   \n",
       "2  CK2A1        S140     ABCF1  5.130510e+09     P17936  P17936_S140   \n",
       "3    Abl        Y213      ABI1  3.553320e+08     Q8IZP0  Q8IZP0_Y213   \n",
       "4   CDK1         S12      ADD1  3.122984e+07     P35611   P35611_S12   \n",
       "\n",
       "   -Log10 Corrected P-Value  Log2 Fold Change color  \n",
       "0                  0.242068         -0.265967  grey  \n",
       "1                  1.606443          0.658508   Red  \n",
       "2                  0.766272         -0.410554  grey  \n",
       "3                  0.914164          0.432251  grey  \n",
       "4                  0.350066          0.840839  grey  "
      ]
     },
     "execution_count": 334,
     "metadata": {},
     "output_type": "execute_result"
    }
   ],
   "source": [
    "def KSEA_alt_mean(kinaseList):\n",
    "    #First, need to set cut off for -log10 corrected p values\n",
    "    #the cut off will be -log10 transformed 0.05 significance \n",
    "    cutOff = -np.log10(0.05)\n",
    "    #Filter kinase-phosphosites by the significance cut off\n",
    "    new_kinaseList=kinaseList.loc[kinaseList.iloc[:,11] > cutOff]\n",
    "\n",
    "    mP = kinaseList['Log2 Fold Change'].mean()\n",
    "    delta=kinaseList['Log2 Fold Change'].std()\n",
    "    \n",
    "    #Calculate m for reduced dataset\n",
    "    alt_m=[]\n",
    "    Kinase_phosphosite_alt=new_kinaseList.groupby('Kinase')['Phosphosite']\n",
    "    for key, item in Kinase_phosphosite_alt:\n",
    "        alt_m.append(len(item))\n",
    "\n",
    "    #Calculation alternative mS\n",
    "    alt_mS=new_kinaseList.groupby('Kinase')['Log2 Fold Change'].mean()\n",
    "\n",
    "    #Calculate Z score:\n",
    "    alt_z_scores=[]    \n",
    "    for i, j in zip(alt_mS, alt_m):\n",
    "        alt_z_scores.append((i-mP)*math.sqrt(j)*1/delta)\n",
    "\n",
    "    #calculate alternative p value mean from z score\n",
    "    alt_p_means=[]\n",
    "    for i in alt_z_scores:\n",
    "        alt_p_means.append(norm.sf(abs(i)))\n",
    "\n",
    "    #Make dataframe for calculations\n",
    "    alt_calculations_dict={'mS': alt_mS, 'mP':mP, 'm':alt_m, 'Delta':delta, 'Z_Scores':alt_z_scores,\"P_value\":alt_p_means}\n",
    "\n",
    "    alt_calculations_df=pd.DataFrame(alt_calculations_dict)\n",
    "    alt_calculations_df=alt_calculations_df.reset_index(level=['Kinase'])\n",
    "    return alt_calculations_df\n",
    "\n",
    "alt_calculations=KSEA_alt_mean(log2FCKinase)"
   ]
  },
  {
   "cell_type": "markdown",
   "metadata": {},
   "source": [
    "# The 'Delta Count' method of calculating KSEA"
   ]
  },
  {
   "cell_type": "markdown",
   "metadata": {},
   "source": [
    "In the ’Delta count’ method, the number of phosphosites that are signiﬁcantly decreased in the condition versus the control are substracted from the number of phosphosites in the substrate set that are signiﬁcantly increased.\n",
    "\n",
    "The p-value of the score is calculated with a hypergeometric test, since the number of signiﬁcantly regulated phosphosites is a discrete variable.\n",
    "\n",
    "Need as variables: \n",
    "M = the total number of detected phosphosites \n",
    "n = the size of the substrate set\n",
    "N = the total number of phosphosites that are in an arbitrary substrate set and signiﬁcantly regulated. "
   ]
  },
  {
   "cell_type": "code",
   "execution_count": 345,
   "metadata": {
    "scrolled": true
   },
   "outputs": [
    {
     "name": "stdout",
     "output_type": "stream",
     "text": [
      "35\n",
      "35\n"
     ]
    },
    {
     "name": "stderr",
     "output_type": "stream",
     "text": [
      "C:\\Users\\sheri\\Anaconda2\\lib\\site-packages\\ipykernel_launcher.py:16: FutureWarning:\n",
      "\n",
      "Sorting because non-concatenation axis is not aligned. A future version\n",
      "of pandas will change to not sort by default.\n",
      "\n",
      "To accept the future behavior, pass 'sort=False'.\n",
      "\n",
      "To retain the current behavior and silence the warning, pass 'sort=True'.\n",
      "\n",
      "\n"
     ]
    },
    {
     "data": {
      "text/plain": [
       "[0.0,\n",
       " 0.0,\n",
       " 0.0,\n",
       " 0.0,\n",
       " nan,\n",
       " 0.0,\n",
       " 0.0,\n",
       " 0.0,\n",
       " 0.0,\n",
       " 0.0,\n",
       " 0.0,\n",
       " 0.0,\n",
       " 0.0,\n",
       " 0.0,\n",
       " 0.0,\n",
       " 0.0,\n",
       " 0.0,\n",
       " 0.0,\n",
       " 0.0,\n",
       " 0.0,\n",
       " 0.0,\n",
       " 0.0,\n",
       " nan,\n",
       " nan,\n",
       " nan,\n",
       " 0.0,\n",
       " 0.0,\n",
       " 0.0,\n",
       " 0.0,\n",
       " 0.0,\n",
       " 0.0,\n",
       " 0.0,\n",
       " 0.0,\n",
       " 0.0,\n",
       " 0.0]"
      ]
     },
     "execution_count": 345,
     "metadata": {},
     "output_type": "execute_result"
    }
   ],
   "source": [
    "cutOff = -np.log10(0.05)\n",
    "#Filter kinase-phosphosites by the significance cut off\n",
    "new_kinaseList=log2FCKinase.loc[log2FCKinase.iloc[:,11] > cutOff]\n",
    "\n",
    "#Make 2 new objects, 1 containining a dataframe where the Fold Change is greater than 1 (upregulated),\n",
    "#The other containing a dataframe where the FOld Change is less than 1 (downregulated)\n",
    "upregulated_kinaseList=new_kinaseList.loc[new_kinaseList.iloc[:,12] > 0]\n",
    "downregulated_kinaseList=new_kinaseList.loc[new_kinaseList.iloc[:,12] < 0]\n",
    "\n",
    "#Sum the upregulation and downregulation fold changes across the substrate sets for each kinase\n",
    "upreg_sum_group=upregulated_kinaseList.groupby('Kinase')['Phosphosite'].count()\n",
    "downreg_sum_group=downregulated_kinaseList.groupby('Kinase')['Phosphosite'].count()\n",
    "\n",
    "#MAke a dataframe containing the kinases and the the upregulation and downregulation lists for each kinase\n",
    "#Fill nan with 0 where there were no upregulation/downregulation for a particular kinase\n",
    "delta_df= pd.concat([upreg_sum_group, downreg_sum_group], axis=1)\n",
    "delta_df.fillna(0, inplace=True)\n",
    "delta_df.head()\n",
    "\n",
    "#Create an empty list that will contain upregulation - downregulation (delta count) for each kinase\n",
    "sumList=[]\n",
    "for i,j in zip(delta_df.iloc[:,0], delta_df.iloc[:,1]):\n",
    "    sumList.append(i-j)\n",
    "delta_df['Delta_Count']=sumList\n",
    "delta_df.head()\n",
    "print len(sumList)\n",
    "print len(delta_df)\n",
    "#Hypergeometric test\n",
    "\n",
    "M = len(log2FCKinase) \n",
    "n= []\n",
    "Kinase_phosphosite=log2FCKinase.groupby('Kinase')['Phosphosite']\n",
    "for key, item in Kinase_phosphosite:\n",
    "    n.append(len(item))\n",
    "hypergeometric_p=[]\n",
    "for n, N in zip(n ,delta_df['Delta_Count']):\n",
    "    hypergeometric_test=hypergeom(M, n, N)\n",
    "    hypergeometric_p.append(hypergeometric_test.pmf(len(new_kinaseList)))\n",
    "hypergeometric_p"
   ]
  },
  {
   "cell_type": "code",
   "execution_count": null,
   "metadata": {},
   "outputs": [],
   "source": [
    "#Carry out a False Discovery Rate correction using Benjamini/Hochberg correction \n",
    "#Correct p-value for multiple testing errors\n",
    "#Pass p-value series to fdrcorrection function of statsmdodels module.\n",
    "\n",
    "#hypothesis_rej, corrected_pvalue =statsmodels.stats.multitest.fdrcorrection(input_original_subset.iloc[:, 4], alpha=0.05)\n",
    "\n",
    "#Convert hypothesis_rej and corrected_pvalue to dataframes.\n",
    "#hypothesis_rej_df = pd.DataFrame(hypothesis_rej)\n",
    "corrected_pvalue_df = pd.DataFrame(input_original_subset.iloc[:, 4])\n",
    "\n",
    "# Append hypothesis_rej_df and corrected_pvalue_df to new columns.\n",
    "input_original_subset[\"Corrected P-Value\"] = corrected_pvalue_df\n",
    "input_original_subset[\"Hypothesis Rejected?\"] = hypothesis_rej_df\n",
    "\n",
    "#Sort -log10(p-values) in descending order i.e. smallest p-values will have largest log10 values.\n",
    "#log10_corrected_pvalue_sorted = log10_corrected_pvalue.sort_values(0, ascending=False)\n",
    "\n",
    "#Sort data frame by ascending p-values i.e. smallest to largest.\n",
    "input_sorted = input_original_subset.sort_values(input_original_subset.columns[8])\n",
    "#print input_sorted\n",
    "#print input_sorted\n",
    "#input_sorted.to_csv('SortedPvalueDataAnalysis.csv')  \n",
    "print kinaseList"
   ]
  },
  {
   "cell_type": "code",
   "execution_count": 338,
   "metadata": {},
   "outputs": [
    {
     "data": {
      "text/html": [
       "<div>\n",
       "<style scoped>\n",
       "    .dataframe tbody tr th:only-of-type {\n",
       "        vertical-align: middle;\n",
       "    }\n",
       "\n",
       "    .dataframe tbody tr th {\n",
       "        vertical-align: top;\n",
       "    }\n",
       "\n",
       "    .dataframe thead th {\n",
       "        text-align: right;\n",
       "    }\n",
       "</style>\n",
       "<table border=\"1\" class=\"dataframe\">\n",
       "  <thead>\n",
       "    <tr style=\"text-align: right;\">\n",
       "      <th></th>\n",
       "      <th>AZ20_ctrlCV</th>\n",
       "      <th>AZ20_fold_change</th>\n",
       "      <th>AZ20_mean</th>\n",
       "      <th>AZ20_p-value</th>\n",
       "      <th>AZ20_treatCV</th>\n",
       "      <th>Kinase</th>\n",
       "      <th>Phosphosite</th>\n",
       "      <th>Substrate</th>\n",
       "      <th>control_mean</th>\n",
       "      <th>SUB_ACC_ID</th>\n",
       "      <th>p-site</th>\n",
       "      <th>-Log10 Corrected P-Value</th>\n",
       "      <th>Log2 Fold Change</th>\n",
       "    </tr>\n",
       "  </thead>\n",
       "  <tbody>\n",
       "    <tr>\n",
       "      <th>309</th>\n",
       "      <td>0.025886</td>\n",
       "      <td>0.270944</td>\n",
       "      <td>9.099772e+08</td>\n",
       "      <td>4.390000e-07</td>\n",
       "      <td>0.178333</td>\n",
       "      <td>Akt2</td>\n",
       "      <td>S161</td>\n",
       "      <td>EDC3</td>\n",
       "      <td>3.358543e+09</td>\n",
       "      <td></td>\n",
       "      <td>_S161</td>\n",
       "      <td>6.357535</td>\n",
       "      <td>-1.883933</td>\n",
       "    </tr>\n",
       "    <tr>\n",
       "      <th>310</th>\n",
       "      <td>0.025886</td>\n",
       "      <td>0.270944</td>\n",
       "      <td>9.099772e+08</td>\n",
       "      <td>4.390000e-07</td>\n",
       "      <td>0.178333</td>\n",
       "      <td>Akt1</td>\n",
       "      <td>S161</td>\n",
       "      <td>EDC3</td>\n",
       "      <td>3.358543e+09</td>\n",
       "      <td></td>\n",
       "      <td>_S161</td>\n",
       "      <td>6.357535</td>\n",
       "      <td>-1.883933</td>\n",
       "    </tr>\n",
       "    <tr>\n",
       "      <th>995</th>\n",
       "      <td>0.061562</td>\n",
       "      <td>0.157781</td>\n",
       "      <td>1.944612e+09</td>\n",
       "      <td>7.430000e-07</td>\n",
       "      <td>0.200451</td>\n",
       "      <td>PKCD</td>\n",
       "      <td>S236</td>\n",
       "      <td>RPS6</td>\n",
       "      <td>1.232477e+10</td>\n",
       "      <td></td>\n",
       "      <td>_S236</td>\n",
       "      <td>6.129011</td>\n",
       "      <td>-2.664007</td>\n",
       "    </tr>\n",
       "    <tr>\n",
       "      <th>996</th>\n",
       "      <td>0.061562</td>\n",
       "      <td>0.157781</td>\n",
       "      <td>1.944612e+09</td>\n",
       "      <td>7.430000e-07</td>\n",
       "      <td>0.200451</td>\n",
       "      <td>p90RSK</td>\n",
       "      <td>S236</td>\n",
       "      <td>RPS6</td>\n",
       "      <td>1.232477e+10</td>\n",
       "      <td></td>\n",
       "      <td>_S236</td>\n",
       "      <td>6.129011</td>\n",
       "      <td>-2.664007</td>\n",
       "    </tr>\n",
       "    <tr>\n",
       "      <th>997</th>\n",
       "      <td>0.061562</td>\n",
       "      <td>0.157781</td>\n",
       "      <td>1.944612e+09</td>\n",
       "      <td>7.430000e-07</td>\n",
       "      <td>0.200451</td>\n",
       "      <td>mTOR</td>\n",
       "      <td>S236</td>\n",
       "      <td>RPS6</td>\n",
       "      <td>1.232477e+10</td>\n",
       "      <td></td>\n",
       "      <td>_S236</td>\n",
       "      <td>6.129011</td>\n",
       "      <td>-2.664007</td>\n",
       "    </tr>\n",
       "  </tbody>\n",
       "</table>\n",
       "</div>"
      ],
      "text/plain": [
       "     AZ20_ctrlCV  AZ20_fold_change     AZ20_mean  AZ20_p-value  AZ20_treatCV  \\\n",
       "309     0.025886          0.270944  9.099772e+08  4.390000e-07      0.178333   \n",
       "310     0.025886          0.270944  9.099772e+08  4.390000e-07      0.178333   \n",
       "995     0.061562          0.157781  1.944612e+09  7.430000e-07      0.200451   \n",
       "996     0.061562          0.157781  1.944612e+09  7.430000e-07      0.200451   \n",
       "997     0.061562          0.157781  1.944612e+09  7.430000e-07      0.200451   \n",
       "\n",
       "     Kinase Phosphosite Substrate  control_mean SUB_ACC_ID p-site  \\\n",
       "309    Akt2        S161      EDC3  3.358543e+09             _S161   \n",
       "310    Akt1        S161      EDC3  3.358543e+09             _S161   \n",
       "995    PKCD        S236      RPS6  1.232477e+10             _S236   \n",
       "996  p90RSK        S236      RPS6  1.232477e+10             _S236   \n",
       "997    mTOR        S236      RPS6  1.232477e+10             _S236   \n",
       "\n",
       "     -Log10 Corrected P-Value  Log2 Fold Change  \n",
       "309                  6.357535         -1.883933  \n",
       "310                  6.357535         -1.883933  \n",
       "995                  6.129011         -2.664007  \n",
       "996                  6.129011         -2.664007  \n",
       "997                  6.129011         -2.664007  "
      ]
     },
     "execution_count": 338,
     "metadata": {},
     "output_type": "execute_result"
    }
   ],
   "source": [
    "top_200=kinaseList.nlargest(200, '-Log10 Corrected P-Value')\n",
    "top_200.head()"
   ]
  },
  {
   "cell_type": "code",
   "execution_count": 327,
   "metadata": {},
   "outputs": [
    {
     "data": {
      "text/html": [
       "\n",
       "    <div class=\"bk-root\">\n",
       "        <a href=\"https://bokeh.pydata.org\" target=\"_blank\" class=\"bk-logo bk-logo-small bk-logo-notebook\"></a>\n",
       "        <span id=\"9992\">Loading BokehJS ...</span>\n",
       "    </div>"
      ]
     },
     "metadata": {},
     "output_type": "display_data"
    },
    {
     "data": {
      "application/javascript": [
       "\n",
       "(function(root) {\n",
       "  function now() {\n",
       "    return new Date();\n",
       "  }\n",
       "\n",
       "  var force = true;\n",
       "\n",
       "  if (typeof root._bokeh_onload_callbacks === \"undefined\" || force === true) {\n",
       "    root._bokeh_onload_callbacks = [];\n",
       "    root._bokeh_is_loading = undefined;\n",
       "  }\n",
       "\n",
       "  var JS_MIME_TYPE = 'application/javascript';\n",
       "  var HTML_MIME_TYPE = 'text/html';\n",
       "  var EXEC_MIME_TYPE = 'application/vnd.bokehjs_exec.v0+json';\n",
       "  var CLASS_NAME = 'output_bokeh rendered_html';\n",
       "\n",
       "  /**\n",
       "   * Render data to the DOM node\n",
       "   */\n",
       "  function render(props, node) {\n",
       "    var script = document.createElement(\"script\");\n",
       "    node.appendChild(script);\n",
       "  }\n",
       "\n",
       "  /**\n",
       "   * Handle when an output is cleared or removed\n",
       "   */\n",
       "  function handleClearOutput(event, handle) {\n",
       "    var cell = handle.cell;\n",
       "\n",
       "    var id = cell.output_area._bokeh_element_id;\n",
       "    var server_id = cell.output_area._bokeh_server_id;\n",
       "    // Clean up Bokeh references\n",
       "    if (id != null && id in Bokeh.index) {\n",
       "      Bokeh.index[id].model.document.clear();\n",
       "      delete Bokeh.index[id];\n",
       "    }\n",
       "\n",
       "    if (server_id !== undefined) {\n",
       "      // Clean up Bokeh references\n",
       "      var cmd = \"from bokeh.io.state import curstate; print(curstate().uuid_to_server['\" + server_id + \"'].get_sessions()[0].document.roots[0]._id)\";\n",
       "      cell.notebook.kernel.execute(cmd, {\n",
       "        iopub: {\n",
       "          output: function(msg) {\n",
       "            var id = msg.content.text.trim();\n",
       "            if (id in Bokeh.index) {\n",
       "              Bokeh.index[id].model.document.clear();\n",
       "              delete Bokeh.index[id];\n",
       "            }\n",
       "          }\n",
       "        }\n",
       "      });\n",
       "      // Destroy server and session\n",
       "      var cmd = \"import bokeh.io.notebook as ion; ion.destroy_server('\" + server_id + \"')\";\n",
       "      cell.notebook.kernel.execute(cmd);\n",
       "    }\n",
       "  }\n",
       "\n",
       "  /**\n",
       "   * Handle when a new output is added\n",
       "   */\n",
       "  function handleAddOutput(event, handle) {\n",
       "    var output_area = handle.output_area;\n",
       "    var output = handle.output;\n",
       "\n",
       "    // limit handleAddOutput to display_data with EXEC_MIME_TYPE content only\n",
       "    if ((output.output_type != \"display_data\") || (!output.data.hasOwnProperty(EXEC_MIME_TYPE))) {\n",
       "      return\n",
       "    }\n",
       "\n",
       "    var toinsert = output_area.element.find(\".\" + CLASS_NAME.split(' ')[0]);\n",
       "\n",
       "    if (output.metadata[EXEC_MIME_TYPE][\"id\"] !== undefined) {\n",
       "      toinsert[toinsert.length - 1].firstChild.textContent = output.data[JS_MIME_TYPE];\n",
       "      // store reference to embed id on output_area\n",
       "      output_area._bokeh_element_id = output.metadata[EXEC_MIME_TYPE][\"id\"];\n",
       "    }\n",
       "    if (output.metadata[EXEC_MIME_TYPE][\"server_id\"] !== undefined) {\n",
       "      var bk_div = document.createElement(\"div\");\n",
       "      bk_div.innerHTML = output.data[HTML_MIME_TYPE];\n",
       "      var script_attrs = bk_div.children[0].attributes;\n",
       "      for (var i = 0; i < script_attrs.length; i++) {\n",
       "        toinsert[toinsert.length - 1].firstChild.setAttribute(script_attrs[i].name, script_attrs[i].value);\n",
       "      }\n",
       "      // store reference to server id on output_area\n",
       "      output_area._bokeh_server_id = output.metadata[EXEC_MIME_TYPE][\"server_id\"];\n",
       "    }\n",
       "  }\n",
       "\n",
       "  function register_renderer(events, OutputArea) {\n",
       "\n",
       "    function append_mime(data, metadata, element) {\n",
       "      // create a DOM node to render to\n",
       "      var toinsert = this.create_output_subarea(\n",
       "        metadata,\n",
       "        CLASS_NAME,\n",
       "        EXEC_MIME_TYPE\n",
       "      );\n",
       "      this.keyboard_manager.register_events(toinsert);\n",
       "      // Render to node\n",
       "      var props = {data: data, metadata: metadata[EXEC_MIME_TYPE]};\n",
       "      render(props, toinsert[toinsert.length - 1]);\n",
       "      element.append(toinsert);\n",
       "      return toinsert\n",
       "    }\n",
       "\n",
       "    /* Handle when an output is cleared or removed */\n",
       "    events.on('clear_output.CodeCell', handleClearOutput);\n",
       "    events.on('delete.Cell', handleClearOutput);\n",
       "\n",
       "    /* Handle when a new output is added */\n",
       "    events.on('output_added.OutputArea', handleAddOutput);\n",
       "\n",
       "    /**\n",
       "     * Register the mime type and append_mime function with output_area\n",
       "     */\n",
       "    OutputArea.prototype.register_mime_type(EXEC_MIME_TYPE, append_mime, {\n",
       "      /* Is output safe? */\n",
       "      safe: true,\n",
       "      /* Index of renderer in `output_area.display_order` */\n",
       "      index: 0\n",
       "    });\n",
       "  }\n",
       "\n",
       "  // register the mime type if in Jupyter Notebook environment and previously unregistered\n",
       "  if (root.Jupyter !== undefined) {\n",
       "    var events = require('base/js/events');\n",
       "    var OutputArea = require('notebook/js/outputarea').OutputArea;\n",
       "\n",
       "    if (OutputArea.prototype.mime_types().indexOf(EXEC_MIME_TYPE) == -1) {\n",
       "      register_renderer(events, OutputArea);\n",
       "    }\n",
       "  }\n",
       "\n",
       "  \n",
       "  if (typeof (root._bokeh_timeout) === \"undefined\" || force === true) {\n",
       "    root._bokeh_timeout = Date.now() + 5000;\n",
       "    root._bokeh_failed_load = false;\n",
       "  }\n",
       "\n",
       "  var NB_LOAD_WARNING = {'data': {'text/html':\n",
       "     \"<div style='background-color: #fdd'>\\n\"+\n",
       "     \"<p>\\n\"+\n",
       "     \"BokehJS does not appear to have successfully loaded. If loading BokehJS from CDN, this \\n\"+\n",
       "     \"may be due to a slow or bad network connection. Possible fixes:\\n\"+\n",
       "     \"</p>\\n\"+\n",
       "     \"<ul>\\n\"+\n",
       "     \"<li>re-rerun `output_notebook()` to attempt to load from CDN again, or</li>\\n\"+\n",
       "     \"<li>use INLINE resources instead, as so:</li>\\n\"+\n",
       "     \"</ul>\\n\"+\n",
       "     \"<code>\\n\"+\n",
       "     \"from bokeh.resources import INLINE\\n\"+\n",
       "     \"output_notebook(resources=INLINE)\\n\"+\n",
       "     \"</code>\\n\"+\n",
       "     \"</div>\"}};\n",
       "\n",
       "  function display_loaded() {\n",
       "    var el = document.getElementById(\"9992\");\n",
       "    if (el != null) {\n",
       "      el.textContent = \"BokehJS is loading...\";\n",
       "    }\n",
       "    if (root.Bokeh !== undefined) {\n",
       "      if (el != null) {\n",
       "        el.textContent = \"BokehJS \" + root.Bokeh.version + \" successfully loaded.\";\n",
       "      }\n",
       "    } else if (Date.now() < root._bokeh_timeout) {\n",
       "      setTimeout(display_loaded, 100)\n",
       "    }\n",
       "  }\n",
       "\n",
       "\n",
       "  function run_callbacks() {\n",
       "    try {\n",
       "      root._bokeh_onload_callbacks.forEach(function(callback) {\n",
       "        if (callback != null)\n",
       "          callback();\n",
       "      });\n",
       "    } finally {\n",
       "      delete root._bokeh_onload_callbacks\n",
       "    }\n",
       "    console.debug(\"Bokeh: all callbacks have finished\");\n",
       "  }\n",
       "\n",
       "  function load_libs(css_urls, js_urls, callback) {\n",
       "    if (css_urls == null) css_urls = [];\n",
       "    if (js_urls == null) js_urls = [];\n",
       "\n",
       "    root._bokeh_onload_callbacks.push(callback);\n",
       "    if (root._bokeh_is_loading > 0) {\n",
       "      console.debug(\"Bokeh: BokehJS is being loaded, scheduling callback at\", now());\n",
       "      return null;\n",
       "    }\n",
       "    if (js_urls == null || js_urls.length === 0) {\n",
       "      run_callbacks();\n",
       "      return null;\n",
       "    }\n",
       "    console.debug(\"Bokeh: BokehJS not loaded, scheduling load and callback at\", now());\n",
       "    root._bokeh_is_loading = css_urls.length + js_urls.length;\n",
       "\n",
       "    function on_load() {\n",
       "      root._bokeh_is_loading--;\n",
       "      if (root._bokeh_is_loading === 0) {\n",
       "        console.debug(\"Bokeh: all BokehJS libraries/stylesheets loaded\");\n",
       "        run_callbacks()\n",
       "      }\n",
       "    }\n",
       "\n",
       "    function on_error() {\n",
       "      console.error(\"failed to load \" + url);\n",
       "    }\n",
       "\n",
       "    for (var i = 0; i < css_urls.length; i++) {\n",
       "      var url = css_urls[i];\n",
       "      const element = document.createElement(\"link\");\n",
       "      element.onload = on_load;\n",
       "      element.onerror = on_error;\n",
       "      element.rel = \"stylesheet\";\n",
       "      element.type = \"text/css\";\n",
       "      element.href = url;\n",
       "      console.debug(\"Bokeh: injecting link tag for BokehJS stylesheet: \", url);\n",
       "      document.body.appendChild(element);\n",
       "    }\n",
       "\n",
       "    for (var i = 0; i < js_urls.length; i++) {\n",
       "      var url = js_urls[i];\n",
       "      var element = document.createElement('script');\n",
       "      element.onload = on_load;\n",
       "      element.onerror = on_error;\n",
       "      element.async = false;\n",
       "      element.src = url;\n",
       "      console.debug(\"Bokeh: injecting script tag for BokehJS library: \", url);\n",
       "      document.head.appendChild(element);\n",
       "    }\n",
       "  };var element = document.getElementById(\"9992\");\n",
       "  if (element == null) {\n",
       "    console.error(\"Bokeh: ERROR: autoload.js configured with elementid '9992' but no matching script tag was found. \")\n",
       "    return false;\n",
       "  }\n",
       "\n",
       "  function inject_raw_css(css) {\n",
       "    const element = document.createElement(\"style\");\n",
       "    element.appendChild(document.createTextNode(css));\n",
       "    document.body.appendChild(element);\n",
       "  }\n",
       "\n",
       "  var js_urls = [\"https://cdn.pydata.org/bokeh/release/bokeh-1.3.4.min.js\", \"https://cdn.pydata.org/bokeh/release/bokeh-widgets-1.3.4.min.js\", \"https://cdn.pydata.org/bokeh/release/bokeh-tables-1.3.4.min.js\", \"https://cdn.pydata.org/bokeh/release/bokeh-gl-1.3.4.min.js\"];\n",
       "  var css_urls = [];\n",
       "\n",
       "  var inline_js = [\n",
       "    function(Bokeh) {\n",
       "      Bokeh.set_log_level(\"info\");\n",
       "    },\n",
       "    \n",
       "    function(Bokeh) {\n",
       "      \n",
       "    },\n",
       "    function(Bokeh) {} // ensure no trailing comma for IE\n",
       "  ];\n",
       "\n",
       "  function run_inline_js() {\n",
       "    \n",
       "    if ((root.Bokeh !== undefined) || (force === true)) {\n",
       "      for (var i = 0; i < inline_js.length; i++) {\n",
       "        inline_js[i].call(root, root.Bokeh);\n",
       "      }if (force === true) {\n",
       "        display_loaded();\n",
       "      }} else if (Date.now() < root._bokeh_timeout) {\n",
       "      setTimeout(run_inline_js, 100);\n",
       "    } else if (!root._bokeh_failed_load) {\n",
       "      console.log(\"Bokeh: BokehJS failed to load within specified timeout.\");\n",
       "      root._bokeh_failed_load = true;\n",
       "    } else if (force !== true) {\n",
       "      var cell = $(document.getElementById(\"9992\")).parents('.cell').data().cell;\n",
       "      cell.output_area.append_execute_result(NB_LOAD_WARNING)\n",
       "    }\n",
       "\n",
       "  }\n",
       "\n",
       "  if (root._bokeh_is_loading === 0) {\n",
       "    console.debug(\"Bokeh: BokehJS loaded, going straight to plotting\");\n",
       "    run_inline_js();\n",
       "  } else {\n",
       "    load_libs(css_urls, js_urls, function() {\n",
       "      console.debug(\"Bokeh: BokehJS plotting callback run at\", now());\n",
       "      run_inline_js();\n",
       "    });\n",
       "  }\n",
       "}(window));"
      ],
      "application/vnd.bokehjs_load.v0+json": "\n(function(root) {\n  function now() {\n    return new Date();\n  }\n\n  var force = true;\n\n  if (typeof root._bokeh_onload_callbacks === \"undefined\" || force === true) {\n    root._bokeh_onload_callbacks = [];\n    root._bokeh_is_loading = undefined;\n  }\n\n  \n\n  \n  if (typeof (root._bokeh_timeout) === \"undefined\" || force === true) {\n    root._bokeh_timeout = Date.now() + 5000;\n    root._bokeh_failed_load = false;\n  }\n\n  var NB_LOAD_WARNING = {'data': {'text/html':\n     \"<div style='background-color: #fdd'>\\n\"+\n     \"<p>\\n\"+\n     \"BokehJS does not appear to have successfully loaded. If loading BokehJS from CDN, this \\n\"+\n     \"may be due to a slow or bad network connection. Possible fixes:\\n\"+\n     \"</p>\\n\"+\n     \"<ul>\\n\"+\n     \"<li>re-rerun `output_notebook()` to attempt to load from CDN again, or</li>\\n\"+\n     \"<li>use INLINE resources instead, as so:</li>\\n\"+\n     \"</ul>\\n\"+\n     \"<code>\\n\"+\n     \"from bokeh.resources import INLINE\\n\"+\n     \"output_notebook(resources=INLINE)\\n\"+\n     \"</code>\\n\"+\n     \"</div>\"}};\n\n  function display_loaded() {\n    var el = document.getElementById(\"9992\");\n    if (el != null) {\n      el.textContent = \"BokehJS is loading...\";\n    }\n    if (root.Bokeh !== undefined) {\n      if (el != null) {\n        el.textContent = \"BokehJS \" + root.Bokeh.version + \" successfully loaded.\";\n      }\n    } else if (Date.now() < root._bokeh_timeout) {\n      setTimeout(display_loaded, 100)\n    }\n  }\n\n\n  function run_callbacks() {\n    try {\n      root._bokeh_onload_callbacks.forEach(function(callback) {\n        if (callback != null)\n          callback();\n      });\n    } finally {\n      delete root._bokeh_onload_callbacks\n    }\n    console.debug(\"Bokeh: all callbacks have finished\");\n  }\n\n  function load_libs(css_urls, js_urls, callback) {\n    if (css_urls == null) css_urls = [];\n    if (js_urls == null) js_urls = [];\n\n    root._bokeh_onload_callbacks.push(callback);\n    if (root._bokeh_is_loading > 0) {\n      console.debug(\"Bokeh: BokehJS is being loaded, scheduling callback at\", now());\n      return null;\n    }\n    if (js_urls == null || js_urls.length === 0) {\n      run_callbacks();\n      return null;\n    }\n    console.debug(\"Bokeh: BokehJS not loaded, scheduling load and callback at\", now());\n    root._bokeh_is_loading = css_urls.length + js_urls.length;\n\n    function on_load() {\n      root._bokeh_is_loading--;\n      if (root._bokeh_is_loading === 0) {\n        console.debug(\"Bokeh: all BokehJS libraries/stylesheets loaded\");\n        run_callbacks()\n      }\n    }\n\n    function on_error() {\n      console.error(\"failed to load \" + url);\n    }\n\n    for (var i = 0; i < css_urls.length; i++) {\n      var url = css_urls[i];\n      const element = document.createElement(\"link\");\n      element.onload = on_load;\n      element.onerror = on_error;\n      element.rel = \"stylesheet\";\n      element.type = \"text/css\";\n      element.href = url;\n      console.debug(\"Bokeh: injecting link tag for BokehJS stylesheet: \", url);\n      document.body.appendChild(element);\n    }\n\n    for (var i = 0; i < js_urls.length; i++) {\n      var url = js_urls[i];\n      var element = document.createElement('script');\n      element.onload = on_load;\n      element.onerror = on_error;\n      element.async = false;\n      element.src = url;\n      console.debug(\"Bokeh: injecting script tag for BokehJS library: \", url);\n      document.head.appendChild(element);\n    }\n  };var element = document.getElementById(\"9992\");\n  if (element == null) {\n    console.error(\"Bokeh: ERROR: autoload.js configured with elementid '9992' but no matching script tag was found. \")\n    return false;\n  }\n\n  function inject_raw_css(css) {\n    const element = document.createElement(\"style\");\n    element.appendChild(document.createTextNode(css));\n    document.body.appendChild(element);\n  }\n\n  var js_urls = [\"https://cdn.pydata.org/bokeh/release/bokeh-1.3.4.min.js\", \"https://cdn.pydata.org/bokeh/release/bokeh-widgets-1.3.4.min.js\", \"https://cdn.pydata.org/bokeh/release/bokeh-tables-1.3.4.min.js\", \"https://cdn.pydata.org/bokeh/release/bokeh-gl-1.3.4.min.js\"];\n  var css_urls = [];\n\n  var inline_js = [\n    function(Bokeh) {\n      Bokeh.set_log_level(\"info\");\n    },\n    \n    function(Bokeh) {\n      \n    },\n    function(Bokeh) {} // ensure no trailing comma for IE\n  ];\n\n  function run_inline_js() {\n    \n    if ((root.Bokeh !== undefined) || (force === true)) {\n      for (var i = 0; i < inline_js.length; i++) {\n        inline_js[i].call(root, root.Bokeh);\n      }if (force === true) {\n        display_loaded();\n      }} else if (Date.now() < root._bokeh_timeout) {\n      setTimeout(run_inline_js, 100);\n    } else if (!root._bokeh_failed_load) {\n      console.log(\"Bokeh: BokehJS failed to load within specified timeout.\");\n      root._bokeh_failed_load = true;\n    } else if (force !== true) {\n      var cell = $(document.getElementById(\"9992\")).parents('.cell').data().cell;\n      cell.output_area.append_execute_result(NB_LOAD_WARNING)\n    }\n\n  }\n\n  if (root._bokeh_is_loading === 0) {\n    console.debug(\"Bokeh: BokehJS loaded, going straight to plotting\");\n    run_inline_js();\n  } else {\n    load_libs(css_urls, js_urls, function() {\n      console.debug(\"Bokeh: BokehJS plotting callback run at\", now());\n      run_inline_js();\n    });\n  }\n}(window));"
     },
     "metadata": {},
     "output_type": "display_data"
    },
    {
     "data": {
      "text/html": [
       "\n",
       "\n",
       "\n",
       "\n",
       "\n",
       "\n",
       "  <div class=\"bk-root\" id=\"caac542e-05c6-4863-be7f-6df6d611bf3b\" data-root-id=\"10000\"></div>\n"
      ]
     },
     "metadata": {},
     "output_type": "display_data"
    },
    {
     "data": {
      "application/javascript": [
       "(function(root) {\n",
       "  function embed_document(root) {\n",
       "    \n",
       "  var docs_json = {\"c3749a38-1313-47df-83db-f17a0e3be59d\":{\"roots\":{\"references\":[{\"attributes\":{\"line_dash\":[6],\"line_width\":{\"value\":3},\"location\":1.3010299956639813},\"id\":\"10033\",\"type\":\"Span\"},{\"attributes\":{\"callback\":null},\"id\":\"10005\",\"type\":\"DataRange1d\"},{\"attributes\":{},\"id\":\"10007\",\"type\":\"LinearScale\"},{\"attributes\":{\"below\":[{\"id\":\"10011\",\"type\":\"LinearAxis\"}],\"center\":[{\"id\":\"10015\",\"type\":\"Grid\"},{\"id\":\"10020\",\"type\":\"Grid\"},{\"id\":\"10033\",\"type\":\"Span\"},{\"id\":\"10034\",\"type\":\"Span\"},{\"id\":\"10035\",\"type\":\"Span\"}],\"left\":[{\"id\":\"10016\",\"type\":\"LinearAxis\"}],\"plot_height\":400,\"plot_width\":700,\"renderers\":[{\"id\":\"10031\",\"type\":\"GlyphRenderer\"}],\"title\":{\"id\":\"10001\",\"type\":\"Title\"},\"toolbar\":{\"id\":\"10021\",\"type\":\"Toolbar\"},\"toolbar_sticky\":false,\"x_range\":{\"id\":\"10003\",\"type\":\"DataRange1d\"},\"x_scale\":{\"id\":\"10007\",\"type\":\"LinearScale\"},\"y_range\":{\"id\":\"10005\",\"type\":\"DataRange1d\"},\"y_scale\":{\"id\":\"10009\",\"type\":\"LinearScale\"}},\"id\":\"10000\",\"subtype\":\"Figure\",\"type\":\"Plot\"},{\"attributes\":{\"text\":\"Volcano Plot\"},\"id\":\"10001\",\"type\":\"Title\"},{\"attributes\":{\"callback\":null},\"id\":\"10003\",\"type\":\"DataRange1d\"},{\"attributes\":{\"fill_color\":{\"field\":\"color\"},\"line_color\":{\"field\":\"color\"},\"size\":{\"units\":\"screen\",\"value\":10},\"x\":{\"field\":\"Log2 Fold Change\"},\"y\":{\"field\":\"-Log10 Corrected P-Value\"}},\"id\":\"10029\",\"type\":\"Scatter\"},{\"attributes\":{},\"id\":\"10009\",\"type\":\"LinearScale\"},{\"attributes\":{},\"id\":\"9999\",\"type\":\"SaveTool\"},{\"attributes\":{},\"id\":\"9998\",\"type\":\"ResetTool\"},{\"attributes\":{},\"id\":\"10349\",\"type\":\"BasicTickFormatter\"},{\"attributes\":{},\"id\":\"10012\",\"type\":\"BasicTicker\"},{\"attributes\":{\"callback\":null,\"data\":{\"-Log10 Corrected P-Value\":{\"__ndarray__\":\"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\",\"dtype\":\"float64\",\"shape\":[501]},\"AZ20_ctrlCV\":{\"__ndarray__\":\"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\",\"dtype\":\"float64\",\"shape\":[501]},\"AZ20_fold_change\":{\"__ndarray__\":\"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\",\"dtype\":\"float64\",\"shape\":[501]},\"AZ20_mean\":{\"__ndarray__\":\"zczMZ57ur0EAANBWuu71QQAAQJEYwuxBAAAAtgSUvEHNzMw0EKyKQZqZGYtCLrZBzczMObQ8uUEAAHCx0UPzQQAAwLXhS9RBzczMzGxrxUHNzAyKjTjKQc3MTP58e8FBAACAtd71skEzM3MJ5ULBQQAAILjvNfNBzczMVO7wqUFI4XoeARGFQTMzs8s/Z7hBAABg4qvf6EGx4emVFI0TQQAA4ENuBehBAADgwmLW80GuR+FyGh1wQWZmZmsr7rFBmpkZhaYswUEAAADI89+QQQAAAPhXN2tBmpmZXEoAtUEAAIAb+97dQZqZWQs5TsVBAACAjOg6+kEAAMCiz/TGQQAAABKadO1BeOkmkar4S0HsUbh6GpaVQZqZWeoZx8RBAACA12+W7kGamZlpyAdlQWZmZuC7IqFBAABYpsqeDkIAAMSipYUZQmZmZg75TbdBAAAA35SL0UEAAACJjP68QQAAgKlZD89BAAAAjY0W0UHsUbiXDT+RQQAAkKFsZvtBAAAAMv5JmkEzMzNLGpa3QXE9CqeUjI5BAABAkPV3BUIAAFTFbJQlQgAADnltkiFCAADAU4wuPUIAAIDOofvPQQAAMC762PJBAAAAd3qI9EEAAAAugz7OQQAAwM1qUMlBmpmZZDqbp0EAAIBwwtjPQQAAAIqrTu5BmplZtxT3xkGFfNDTof4rQQAAwKGO/PBBAABQeaFtCUIAAKAfa3fxQTMzs4pH/rtBAABAebjK6UHNzMxGaXGhQQAAAPAwy5hBAACAPW82zkFcj8JPXS2BQc3MTM8gBsVBAABoG7cRHkIAAECdZc/yQTMzM2H8m6tBAACg4+l050EAAMAaK2XbQQAAAPT8Kt9BAAAg01EU8UEAAADJhBnYQZqZGQpxJrJBFK5HRTrAgEHqJjEAGDhgQQAAAG7nMqFBAAAAaAJxuUHNzEyEWg2/QQAA4BM6duFBAAAAcNxbRUHNzMzcNwagQQAAQKtv4tpBK4cWdVqPYkEAAMB506DdQdejcCX5p21BzcwMzAgKxkEAAECRzsr9QQAAAFwIPedBMzMzAdu/rEGamZlkrMixQQAAoGQ5kulBAADAqb8ux0EAAGC6ZxHyQQAAQKEv+NZBK4cW4WUjUkGF61FY2sp5QTMzM5nYRsZBAACAdoyus0EzMzMHZw51QQAAIM/WzgFCAAAAilezqUEAAND34TIVQgAAAKjp+7xBAADAstUF0kFWn6ut6jYgQQAAALmqvdxBw/Uo9uPFg0EAAADaH32nQc3MTCKqgLZBAACgrzq2/kEAAOBTOppPQgAA4Iwg8kZCMzMzHw6bfkEAACDzOeXmQQAAwDdhgQFCarx060QpWEFmZuYHH8axQQAAMMWII/JBhetRHPaackGamVkG9g3JQQAAUDP2IBdCzczM9dwjqEEzMzPvBdB/QQAACGk9SgxCZmZmr5lwyEFmZmavmXDIQXnpJjEstFBBuB6FCaVigkFmZuZFxDm0Qc3MzKx2S3RBAABAEhBd0EEK16NzRzORQeF6FJ6p/2lBmpkZNekCxkHsUbh2i7dkQQAAoLYCmOdBw/UoFz89l0EAAADWXBHOQTMzM2M+wHRBAACAsRB3A0KamZnnBPimQVyPwgVnqmVBAADgdUhq5kEzM7OqMwe5Qc3MTAzLR7hBpHA9inNIikEAACBrOFjwQc3MjGNlc8pBuB6FO7UBT0EAAMCyGKfTQQAAzPsmIRtCZmZmgFDizEFmZmaAUOLMQQAAAHBB/dFBMzMzBtqyp0EAAPD57yD4QQAA8PnvIPhBAABmS7jlJ0IAAAABIVnSQQAA4NjMoeZBZmZm/AiupEGamVmqIq3LQQAAAEhXsutBAAAAqYt+w0EAAIA37znWQQAAYE9tH+BBAABgT20f4EEAAMB+IhPIQRxaZBPbdFtBzczM3/umxkEAAADg8VuJQQAAwJOo59FBmplZ3m+NwkEAANAS6wD4QQAAAFUJ39ZBAACAv5wqPEIzM7N5Jlm5QQAA0JCW2PpBMzMzkg9at0EAAKA0QFPmQTMzMxjdJbNBAAAAJKi02UGamZlZgu5uQQAAgBfXiANCAABgL9ru6UEAAMBTqwfGQZqZmT/3La1BmpkZwrpAvUFmZmaKk1CuQexRuEjC5IBBAAAAsniQoUEAAACyeJChQWZmZtWXlbtBUrge71nKg0GPwvUg2JSEQQAAAIDBINBBAABAq2BL10GamZmFZIquQQAAAErXWLVBzczM7hk0mEGamZnYNWivQZqZmTaeH6VBAADgjvVs5EEAAMCjy4QYQgAA4Cv9EvBBw/Uo5F6iWkEAAOByPwHgQc3MzOkL2LVBH4Xr4/OjhUEAAACnZyTYQQAAILpqG+dBmpmZmK0ep0EAABB9kssBQgAAAMMDgsZBAAAw14wK80FmZmamy+jMQQAAHjgTDSpCAAAgrtT86UEAAHCh7SslQgAAQEGqANhBAAAgHwpb5UEAAAA9RyYAQgAAgMr0981BAACwI8Bg9UEAADjY1tECQgAAAHGSiblBAAAAakN/zkEAAIDDDh3TQQAAgNi95NFBAACM89llEUIAAABYD5bgQc3MTBCV6bJBzcxMYs8nuEEAACC/LTABQs3MzInVSKVBw/UoHtV/kEEzMzO38UW4Qc3MzInVSKVBMzMzt/FFuEEAAHjBXLMBQjMzM9CaBadBAAAgz02pAUKamZmLYWWcQQAAIOX86OBBAAAAJJTgzkEAAECH52vjQTMzcw/ZPMdB9ihcI5UPcUEK16OMEL2IQQAAgPTjbt1BAABgA2mF4UEzMzPD+x9oQTMzMwk2E5pBmpmZNS4gckFmZuYg2cnKQQAAAPxb2NlBAADApBlc6EEAAPDeOrsTQs3MTMOaMslBSOF6GueLlEHNzMwD/1OQQcP1KA6mYJJBAADAXHsz50GamZlBQM+qQVyPwqNxaIlBZmZmW/8CrEEAAIBDOSPYQWZmZuarlX9BAAAAPkeerUFSuB4BKal4Qc3MzN6crbxBAACA4czguUEzM7N5Jlm5QQAAwE/vQ+dBAADAfAEB00EAAECDIG4IQgAAWDQbpQlCAAAA03bKOEIAAEAI+XzSQWZm5tj258BBAABg7kXc4EGamZmy91ahQQAAEMR9x/NBcT0KX4kzY0HNzEx7/L++QQAAgJ6GdOpBAADAYVyPw0GamRlBM1m4QQAAgOac1t9BAADgzEPu80EAAIDrsrraQVyPwkFf2HBBAABAc1IJ6kEAACDrJKv5Qc3MTPMaDMlBK4cWOf5iYkGamZnpmpS8QXE9CktQtohBAAAA8OEpt0EAAABjmN+5QQAAwGF3tuhBFK5HAdroe0FI4XqMDj54QQAAgCONxORBzcxM9eHgw0EAAMC3OSneQXE9Cnef93xBAAAgP/1i40EAACA1AXTnQWZmZnPqJKBBzcxMQmfpsEGamZmm302lQZqZmVnn1q1BZmbm+/6ttkHNzEyuvCzJQTMz883Jz8xBAAAAE/tCl0FSuB45DvqBQZqZWUOkXc1BAACAmAGZz0EAAMBuxV/dQc3MTI3fB71BFK5H61Fvh0GamZmyA4G3QQAAQCkp1tRBmpmZaNdxo0GamZlo13GjQWZmZtn1vr5BAACA5qd0vkEAAIAFRpDaQQAAgBEedLJBAACAjVnI8EEzM7NO0h3IQRSuR/N8rZJB4XoUboxuaUFmZuauhRK/QTMzs+Rq8LFBuB6F8yvfjEEAAOZFkJMhQgAAwK5bd95B9ihcH00qiUGamZlRKuOmQQAAAI2UPutBAADAHMl90EEzM7P8CmnLQTMzM8KWyLpBkxgEprGtTEFcj8LVithlQTMzM25UBblBAABA5OlX4UEAAA74GoslQgAAAPBm39FBAADA1z377UEzMzP+GvKrQdejcKNY3I1BAAAARreHoEGamRm7usXKQQAAgKWHmsFBw/UogAmWgkEzM3OYTgrLQQAAAD690sdBAAB4mPnNBkIAAMB7IFDsQZqZ2U5aZcRBAADgmqVP+UEzMzNnjfeYQQAAXO0BsBhCcT0Kh5AyZUEfhev5/7V2QQAArauylTFCH4XryR3Il0GamZkOaqfLQQAAwPas9MxBAADQGkd1FEJmZmZ6MaZzQQAAABBjPH1BAABASad+2UHNzMy81+SYQbx0k3jppD9BMzMzE4KEwkEzMzMTgoTCQQAAwDGNCcFBAAAA0oKcyUEAAABbYbbuQZqZGXsRfcFBAACwf8U09EEAACfwypozQgAAJ/DKmjNCAACgI19X6EEAAKDyMxLqQQAAIEJBguhBhetR6hHCjEEAAKC3krjkQQAAgFgtZ9BBAAAAgffL40EAAICQN5LIQW8Sg1DaLFFBAAAAjSzd50EAAGBX4LfkQQAAIE0R/+FBAACAYarV1kFmZmYRdNGvQQAA8q3NfylCAACAtB7/3UEAAOCooMf/QQAAxPk8lCBCAADI2XRPBUL2KFyxo0WIQQAAACL4QshBAAC8prRlEEIAALymtGUQQpqZmSvCCLNBKVyP6vv+fkEzMzPqsfi0QQAAgFDYELpBZmZm9nsMwEEAABBSJ+v8QQAAQG7UYQlCAAAA/7+m60EAAEDFRGbTQQAAQMVEZtNBAADcXNNDFUIAAFgyJ4grQgAAcPGF1fJBmpmZKdPtskHNzAzD/vPIQQAAgOxeAdJBAABAiVUV6EEAAMDQBC3WQQAAwNAELdZBZmZmh5txr0GamdmrGynHQQAAAPFw1qVBAADA8/OH8kEAAJBuxpjwQQAALGb5GRlCAABwtE2l+EEAACAvBZ0hQgAAoDBtlvVBAABQSpFa8kEzMzMmGQSyQTMzMyYZBLJBZmam8vUMyEEAAID5+1nOQQAAAEI679pBAADAu9/PxUEAAEC9xD/hQQAAANKHZ5tBZmbmxGmRx0EzMzObw+6CQWZmZlM/5LlBAAAAGAPnmEHNzEzPcc+5QQAAoOx6W+5BzczMsgZUo0FmZuYQFsfMQQAAAOdWx+NBAADAxKPd9kEAAMCl8MDjQZqZmYtQeKtBMzMzdeTcrkEzMzM2XCuoQc3MzOUHDcxBAAAAmVvdq0Hb+X7irc9aQQAAgPdsvNVBmpkZrznevEEAANT6zPQqQhSuR1t56ZRBj8L10uhrjkGPwvXS6GuOQWZmZhqMN3ZBAADA9qvN5EEAAIAo6LbUQWZm5iMlG8NBAACAClHI1UGuR+HyRwKEQQAA4NvkiOpBAACAwneuz0EAAICUPxXYQTMzs0qs2LhBAABQRHSZDkIAAADa1rnRQQAAgGc8fs5BAAAASAfmzkEAAMC0RTbgQQrXo+QxInJBAAAQtFbC+kEUrkcvXkmAQWZm5uobEMRB\",\"dtype\":\"float64\",\"shape\":[501]},\"AZ20_p-value\":{\"__ndarray__\":\"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\",\"dtype\":\"float64\",\"shape\":[501]},\"AZ20_treatCV\":{\"__ndarray__\":\"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\",\"dtype\":\"float64\",\"shape\":[501]},\"Kinase\":[\"CDK1\",\"CK2A1\",\"CK2A1\",\"Abl\",\"CDK1\",\"GSK3B\",\"CDK5\",\"Chk1\",\"CDK1\",\"PKACA\",\"CDK1\",\"PKACA\",\"CDK2\",\"CDK2\",\"CK2A1\",\"mTOR\",\"PKM\",\"mTOR\",\"CDK2\",\"CK2A1\",\"AAK1\",\"CDK2\",\"Brk\",\"PRKD1\",\"PAK2\",\"ROCK1\",\"MARK2\",\"CDK1\",\"PKCT\",\"PKCT\",\"PKCG\",\"CDK2\",\"CDK2\",\"ATM\",\"PKCA\",\"PKACA\",\"CDK2\",\"Akt1\",\"Chk1\",\"GSK3B\",\"Src\",\"CDK1\",\"AMPKA1\",\"CDK1\",\"ATM\",\"mTOR\",\"CDK2\",\"CDK2\",\"ERK1\",\"CDK2\",\"CAMK2G\",\"DAPK1\",\"DYRK2\",\"DYRK2\",\"DYRK2\",\"PKACA\",\"AurB\",\"Chk1\",\"YSK1\",\"DYRK1A\",\"DYRK1A\",\"DYRK1A\",\"CDK2\",\"CDK1\",\"PKCA\",\"PKCA\",\"CAMK2A\",\"BUB1\",\"BUB1\",\"CDK1\",\"Chk1\",\"P38B\",\"PKCA\",\"CDK2\",\"CDK2\",\"CDK1\",\"CDK1\",\"Akt1\",\"AurB\",\"Myt1\",\"Chk2\",\"CDK7\",\"Chk1\",\"CDK2\",\"PKACA\",\"Wee1\",\"CDK9\",\"Akt1\",\"CDK2\",\"MAPKAPK2\",\"MAPKAPK2\",\"CDK2\",\"AMPKA1\",\"CDK1\",\"Chk1\",\"CDK1\",\"CK2A1\",\"CK2A1\",\"CDK5\",\"PKCA\",\"PKCI\",\"AMPKA1\",\"CDK1\",\"PKACA\",\"mTOR\",\"DAPK3\",\"JNK1\",\"AurB\",\"Chk1\",\"AurB\",\"AurB\",\"AurA\",\"CDK4\",\"Akt1\",\"mTOR\",\"CDK4\",\"GSK3B\",\"GSK3B\",\"GSK3B\",\"AurB\",\"DYRK1B\",\"CDK1\",\"CK2A1\",\"CDK2\",\"CDK2\",\"EEF2K\",\"mTOR\",\"mTOR\",\"p70S6K\",\"CK2A1\",\"CDK2\",\"MELK\",\"DYRK2\",\"JNK1\",\"CDK1\",\"CK2A1\",\"CK2A1\",\"Chk1\",\"CDK5\",\"P38A\",\"ERK2\",\"Chk1\",\"Chk1\",\"ERK1\",\"PKCA\",\"Akt1\",\"ERK2\",\"CDK2\",\"ATM\",\"ATR\",\"CDK1\",\"CDK1\",\"PAK1\",\"CDK1\",\"AMPKA1\",\"ATR\",\"CDK1\",\"Chk1\",\"PKCA\",\"GSK3A\",\"CDK2\",\"GSK3A\",\"GTF2F1\",\"GTF2F1\",\"PKG1\",\"P38B\",\"CK2A1\",\"CK2A1\",\"CK2A1\",\"PRKD1\",\"Chk2\",\"CDK1\",\"CDK1\",\"CDK1\",\"Akt1\",\"CDK1\",\"CK2A1\",\"CK2A1\",\"CK2A1\",\"AurB\",\"AurB\",\"AurB\",\"CK1A\",\"GSK3B\",\"CDK2\",\"CK2A1\",\"CK2A1\",\"AurB\",\"ERK1\",\"PKACA\",\"ERK1\",\"CDK5\",\"CDK5\",\"CDK5\",\"CK2A1\",\"CK2A1\",\"PKCA\",\"CDK2\",\"mTOR\",\"PKACA\",\"PLK1\",\"CK2A1\",\"CK2A1\",\"CDK2\",\"ERK2\",\"ATM\",\"CDK1\",\"MARK2\",\"MARK2\",\"CDK1\",\"PLK1\",\"PKCA\",\"AMPKA1\",\"HIPK2\",\"HIPK2\",\"HIPK2\",\"Akt1\",\"TAK1\",\"mTOR\",\"CDK2\",\"mTOR\",\"CDK2\",\"CK2A1\",\"ERK1\",\"P38A\",\"CDK1\",\"Akt1\",\"CDK1\",\"CDK1\",\"CDK1\",\"CDK2\",\"CDK2\",\"MAPKAPK2\",\"mTOR\",\"PKACA\",\"CDK1\",\"CDK1\",\"MEK1\",\"ROCK1\",\"PKCA\",\"PKCA\",\"PKCA\",\"PKACA\",\"Chk1\",\"CDK2\",\"CK2A1\",\"CK2A1\",\"CK2A1\",\"CK2A1\",\"CK2A1\",\"CDK2\",\"ATM\",\"CDK2\",\"MELK\",\"MELK\",\"MELK\",\"CDC7\",\"PKCE\",\"CDK2\",\"AurB\",\"AurB\",\"Chk1\",\"CDK1\",\"MST2\",\"CK2A1\",\"CDK2\",\"mTOR\",\"CK2A1\",\"CK2A1\",\"CDK2\",\"CDK1\",\"CDK2\",\"p70S6K\",\"ERK2\",\"CDK1\",\"CDK1\",\"CDK1\",\"CDK1\",\"NEK9\",\"AurB\",\"MAPKAPK2\",\"PKACA\",\"CDK1\",\"AurB\",\"AurB\",\"CDK1\",\"CDK1\",\"CDK1\",\"ATR\",\"CDK1\",\"AurA\",\"AurA\",\"CDK1\",\"PKCI\",\"CDK2\",\"CDK2\",\"CDK1\",\"CDK2\",\"CDK2\",\"CDK2\",\"CDK2\",\"CDK1\",\"PRKD1\",\"Chk1\",\"mTOR\",\"PAK1\",\"CDK19\",\"Akt1\",\"PKCI\",\"MARK2\",\"MAPKAPK2\",\"mTOR\",\"CK2A1\",\"p90RSK\",\"CK2A1\",\"PKACA\",\"PDK1\",\"CDK1\",\"Akt1\",\"PAK1\",\"ERK2\",\"CDK2\",\"CDK1\",\"PKCZ\",\"Abl\",\"CDK1\",\"Akt1\",\"PKCA\",\"ERK5\",\"CDK7\",\"AurB\",\"HIPK2\",\"Chk1\",\"NuaK1\",\"CDK2\",\"CAMK2A\",\"CK2A1\",\"CK2A1\",\"PLK1\",\"PLK1\",\"PKACA\",\"PLK1\",\"CDK1\",\"AMPKA1\",\"MST2\",\"PKCD\",\"PKCD\",\"Chk1\",\"PKACA\",\"CK2A1\",\"CDK5\",\"PKCA\",\"Src\",\"CDK1\",\"PAK1\",\"Src\",\"CDK1\",\"CDK1\",\"CDK1\",\"Chk1\",\"CDK2\",\"CDK2\",\"CDK1\",\"PKACA\",\"PKCT\",\"JNK1\",\"PKACA\",\"CDK2\",\"CDK2\",\"CDK2\",\"CDK2\",\"CDK2\",\"CDK2\",\"CDK2\",\"CDK2\",\"Chk1\",\"Chk1\",\"Abl\",\"MAPKAPK2\",\"AurB\",\"CDK1\",\"PKACA\",\"CDK1\",\"RIPK2\",\"CDK2\",\"Akt1\",\"AurB\",\"CDK2\",\"p70S6K\",\"GSK3B\",\"CK2A1\",\"CK2A1\",\"CDK2\",\"ROCK1\",\"ROCK1\",\"mTOR\",\"CDK2\",\"KIS\",\"KIS\",\"CDK2\",\"CDK2\",\"CDK2\",\"DYRK1A\",\"CDK2\",\"CDK2\",\"GSK3B\",\"PKCB\",\"CDK1\",\"Akt1\",\"CDK2\",\"ERK2\",\"ERK2\",\"RSK2\",\"CDK1\",\"ARAF\",\"CDK2\",\"CDK2\",\"PKACA\",\"CDK5\",\"SRPK1\",\"mTOR\",\"mTOR\",\"mTOR\",\"mTOR\",\"mTOR\",\"Chk1\",\"Chk1\",\"CDK1\",\"CDK1\",\"SRPK1\",\"Akt1\",\"Akt1\",\"CDK2\",\"CK2A1\",\"AurB\",\"CDK1\",\"ERK2\",\"CDK1\",\"PKACA\",\"CDK9\",\"CDK9\",\"PLK1\",\"ERK1\",\"TAF1\",\"AMPKA1\",\"MLK2\",\"CDK1\",\"CDK1\",\"CDK2\",\"Chk1\",\"CDK1\",\"ATM\",\"ATM\",\"Akt1\",\"RSK2\",\"RSK2\",\"CDK5\",\"CDK1\",\"Chk1\",\"CDK2\",\"CDK1\",\"CDK1\",\"CK2A1\",\"CDK1\",\"CDK2\",\"ATM\",\"PLK1\",\"CAMK2D iso8\",\"CDK1\",\"IKKA\",\"PKG1\",\"ChaK1\",\"ChaK1\",\"ChaK1\",\"Akt1\",\"CDK2\",\"BRAF\",\"Tyk2\",\"CDK1\",\"p90RSK\",\"CK2A1\",\"CK2A1\",\"mTOR\",\"CDK2\",\"SMG1\",\"SMG1\",\"GSK3A\",\"PKACA\",\"CDK1\",\"CK2A1\",\"CDK1\",\"CDK1\",\"CDK4\",\"CDK2\",\"CK2A1\",\"CDK2\",\"CDK1\",\"CDK1\",\"CDK1\",\"PKACA\",\"PLK1\"],\"Log2 Fold Change\":{\"__ndarray__\":\"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\",\"dtype\":\"float64\",\"shape\":[501]},\"Phosphosite\":[\"T389\",\"S109\",\"S140\",\"Y213\",\"S12\",\"S613\",\"S701\",\"S693\",\"S119\",\"S627\",\"T767\",\"S1565\",\"S18\",\"S21\",\"S129\",\"S183\",\"S203\",\"S759\",\"S2401\",\"T244\",\"T156\",\"S1360\",\"Y231\",\"S132\",\"S43\",\"S1174\",\"S143\",\"S960\",\"S225\",\"S488\",\"S518\",\"S363\",\"S864\",\"T1885\",\"S146\",\"S435\",\"S224\",\"S29\",\"S1320\",\"S531\",\"Y284\",\"S252\",\"S729\",\"S1191\",\"S1542\",\"S588\",\"S37\",\"S215\",\"S789\",\"T730\",\"S319\",\"S511\",\"S30\",\"S32\",\"S41\",\"S93\",\"S92\",\"S240\",\"S384\",\"S330\",\"S338\",\"S369\",\"S400\",\"S285\",\"S433\",\"S440\",\"S706\",\"S41\",\"T157\",\"S18\",\"S230\",\"S249\",\"S80\",\"S106\",\"S54\",\"S21\",\"S75\",\"T163\",\"S219\",\"T14\",\"S752\",\"T893\",\"S437\",\"S138\",\"S153\",\"Y15\",\"S347\",\"S28\",\"S19\",\"S47\",\"S78\",\"S83\",\"S131\",\"T623\",\"S157\",\"S209\",\"S740\",\"S641\",\"S191\",\"S879\",\"S261\",\"T401\",\"S110\",\"S1270\",\"S51\",\"S311\",\"S315\",\"S33\",\"S82\",\"S594\",\"S592\",\"S725\",\"S127\",\"S143\",\"S714\",\"S954\",\"T509\",\"T514\",\"T509\",\"S109\",\"Y273\",\"S133\",\"S162\",\"S595\",\"T435\",\"T57\",\"S72\",\"S74\",\"S125\",\"S2\",\"T163\",\"S406\",\"S101\",\"S587\",\"S1231\",\"S389\",\"S390\",\"S176\",\"S886\",\"S796\",\"S161\",\"S251\",\"S302\",\"S213\",\"S284\",\"S582\",\"S36\",\"S143\",\"S1121\",\"S301\",\"S1084\",\"S1630\",\"S420\",\"S950\",\"T1337\",\"S182\",\"T318\",\"S71\",\"S408\",\"S35\",\"S670\",\"Y279\",\"S385\",\"T389\",\"S784\",\"S727\",\"S421\",\"S423\",\"S394\",\"S358\",\"S36\",\"S412\",\"S448\",\"S473\",\"S486\",\"S495\",\"S86\",\"S89\",\"S99\",\"S25\",\"S29\",\"S24\",\"S253\",\"S83\",\"S104\",\"S263\",\"S226\",\"S452\",\"S24\",\"S57\",\"T87\",\"S1179\",\"S1199\",\"S432\",\"S2409\",\"S2484\",\"T181\",\"S122\",\"S14\",\"S1021\",\"S57\",\"S131\",\"S137\",\"T550\",\"S622\",\"S274\",\"T926\",\"S1381\",\"S1410\",\"T1644\",\"S715\",\"S746\",\"S582\",\"S101\",\"S250\",\"S92\",\"S35\",\"S406\",\"S766\",\"T649\",\"S409\",\"S51\",\"S66\",\"S362\",\"S310\",\"S22\",\"S301\",\"S390\",\"T19\",\"S393\",\"S37\",\"S419\",\"S252\",\"S68\",\"S1782\",\"S787\",\"S209\",\"T185\",\"S365\",\"S163\",\"S167\",\"S170\",\"T507\",\"T150\",\"T722\",\"S299\",\"S329\",\"S376\",\"T301\",\"T378\",\"S1207\",\"S953\",\"T1215\",\"S356\",\"S505\",\"S529\",\"S116\",\"S303\",\"S357\",\"S374\",\"S538\",\"T1764\",\"T761\",\"T35\",\"S689\",\"S522\",\"S2454\",\"S1956\",\"S1943\",\"S432\",\"T931\",\"T49\",\"S22\",\"T233\",\"S436\",\"S473\",\"S763\",\"S282\",\"S206\",\"S131\",\"S251\",\"S245\",\"T238\",\"S448\",\"S585\",\"T94\",\"T607\",\"T610\",\"S125\",\"S140\",\"S1887\",\"S1991\",\"T2106\",\"S7\",\"S50\",\"S612\",\"S378\",\"S258\",\"S273\",\"T116\",\"T226\",\"T195\",\"S240\",\"S189\",\"S339\",\"S144\",\"S174\",\"S1118\",\"S827\",\"S873\",\"S557\",\"S179\",\"S231\",\"S76\",\"S119\",\"S318\",\"S241\",\"T1370\",\"S116\",\"S118\",\"S203\",\"S162\",\"S120\",\"T78\",\"Y570\",\"S259\",\"S307\",\"S117\",\"S403\",\"S1878\",\"S110\",\"S85\",\"S15\",\"S445\",\"S509\",\"S130\",\"S121\",\"S122\",\"S24\",\"S27\",\"S573\",\"S289\",\"T481\",\"S108\",\"S226\",\"S299\",\"T141\",\"S43\",\"S14\",\"S113\",\"S910\",\"S378\",\"Y174\",\"S165\",\"S258\",\"Y88\",\"S304\",\"S102\",\"S123\",\"S203\",\"S99\",\"S135\",\"S484\",\"S499\",\"S960\",\"S445\",\"S587\",\"S650\",\"S1068\",\"S1080\",\"S1112\",\"S413\",\"S639\",\"S662\",\"T417\",\"S627\",\"T629\",\"Y95\",\"S108\",\"S326\",\"S11\",\"S696\",\"S1275\",\"S178\",\"S38\",\"S106\",\"S104\",\"S27\",\"S240\",\"S877\",\"S170\",\"S172\",\"S44\",\"S1378\",\"S1508\",\"S26\",\"S1066\",\"S80\",\"S82\",\"T142\",\"T211\",\"T244\",\"T273\",\"T313\",\"T426\",\"T687\",\"S139\",\"S540\",\"S338\",\"S48\",\"S693\",\"S785\",\"S663\",\"S280\",\"S303\",\"S133\",\"S226\",\"S17\",\"S75\",\"S309\",\"T572\",\"T574\",\"S1318\",\"S1326\",\"S1329\",\"S1497\",\"S1499\",\"T1413\",\"T866\",\"S205\",\"S138\",\"S140\",\"S216\",\"S366\",\"S37\",\"S268\",\"S575\",\"S385\",\"S63\",\"T799\",\"T806\",\"S546\",\"T1257\",\"S264\",\"S237\",\"S379\",\"S156\",\"S583\",\"S203\",\"S23\",\"S180\",\"S312\",\"S314\",\"S231\",\"S295\",\"S330\",\"S425\",\"S424\",\"S502\",\"S691\",\"S112\",\"S394\",\"S1377\",\"S1424\",\"S143\",\"S1219\",\"S1618\",\"S176\",\"S738\",\"S426\",\"T70\",\"S1258\",\"S1477\",\"S1569\",\"S939\",\"S20\",\"S281\",\"Y292\",\"S79\",\"T637\",\"S44\",\"S46\",\"S758\",\"S23\",\"S1107\",\"S1127\",\"S186\",\"S333\",\"S2047\",\"S18\",\"S768\",\"T761\",\"T5\",\"S1133\",\"S94\",\"T455\",\"S289\",\"S367\",\"S395\",\"S334\",\"S305\"],\"SUB_ACC_ID\":[\"Q2M2I8\",\"Q8NE71\",\"P17936\",\"Q8IZP0\",\"P35611\",\"P35612\",\"P35612\",\"Q9UEY8\",\"Q96IF1\",\"Q02952\",\"Q02952\",\"Q12802\",\"Q53H80\",\"Q53H80\",\"P37840\",\"Q96B36\",\"Q96B36\",\"Q9Y2J4\",\"O75179\",\"Q92688\",\"Q96CW1\",\"P25054\",\"Q96P48\",\"P53367\",\"Q53QZ3\",\"Q9NRY4\",\"Q92974\",\"Q92974\",\"Q15052\",\"Q15052\",\"Q14155\",\"O14497\",\"P29374\",\"Q13315\",\"P38936\",\"Q13535\",\"Q8WXE1\",\"Q9NWV8\",\"Q9NRL2\",\"Q9NYF8\",\"Q9NYF8\",\"Q6PGQ7\",\"P15056\",\"P38398\",\"P38398\",\"Q9H8M2\",\"Q03252\",\"Q9H6K1\",\"Q05682\",\"Q05682\",\"Q13555\",\"Q96RR4\",\"Q9Y2V2\",\"Q9Y2V2\",\"Q9Y2V2\",\"Q13185\",\"P45973\",\"Q16204\",\"Q9BSQ5\",\"Q96S94\",\"Q96S94\",\"Q96S94\",\"P06401\",\"O15446\",\"Q9UH77\",\"P28329\",\"P16070\",\"Q12834\",\"Q12834\",\"P30304\",\"P30305\",\"P30305\",\"Q9H3Q1\",\"P03372\",\"P33991\",\"Q96FF9\",\"Q96FF9\",\"Q9BWT1\",\"Q53HL2\",\"P06493\",\"P21127\",\"Q9NYV4\",\"Q14004\",\"Q00536\",\"Q00536\",\"P06493\",\"P50750\",\"Q13950\",\"P49450\",\"Q9UPN4\",\"Q9UPN4\",\"Q8TAP6\",\"Q9P2M7\",\"Q8WWK9\",\"P49761\",\"Q14244\",\"Q9Y5B0\",\"P35221\",\"P35222\",\"O60716\",\"Q14247\",\"Q14247\",\"Q9H467\",\"P39880\",\"P51397\",\"O43293\",\"Q9NPI6\",\"Q9BW61\",\"Q9GZR7\",\"O00571\",\"O15523\",\"Q15398\",\"P26358\",\"P26358\",\"P26358\",\"P26358\",\"Q14195\",\"Q16555\",\"Q14195\",\"Q99661\",\"Q9Y463\",\"P29692\",\"P29692\",\"P13639\",\"P13639\",\"P13639\",\"O00418\",\"O00418\",\"Q9GZT9\",\"P67870\",\"P38919\",\"P23588\",\"Q13541\",\"Q9NRA8\",\"Q04637\",\"P55010\",\"P55010\",\"Q32P44\",\"P07814\",\"P42566\",\"P50548\",\"Q9UJM3\",\"Q9UJM3\",\"P41212\",\"Q9Y624\",\"Q9UNN5\",\"P29590\",\"Q5JTV8\",\"Q9NVI1\",\"Q9Y285\",\"P21333\",\"P21333\",\"P51114\",\"Q14C86\",\"Q92538\",\"Q9Y248\",\"P49915\",\"Q13439\",\"P81274\",\"Q9Y4H4\",\"P25098\",\"P49840\",\"P35269\",\"P35269\",\"P78347\",\"P13807\",\"Q13547\",\"Q13547\",\"Q92769\",\"Q8WUI4\",\"P16403\",\"Q8NCD3\",\"Q8NCD3\",\"Q9HCH0\",\"Q8NCD3\",\"Q01581\",\"P05114\",\"P05114\",\"P05114\",\"P05204\",\"P05204\",\"P82970\",\"P07910\",\"Q14103\",\"P55795\",\"P04198\",\"P08238\",\"P08238\",\"Q13950\",\"Q9UJY1\",\"Q9UJY1\",\"P42858\",\"P42858\",\"P42858\",\"P11717\",\"P11717\",\"Q13418\",\"P12268\",\"Q9H1K1\",\"P13612\",\"O95251\",\"O60341\",\"O60341\",\"Q9Y2K7\",\"O94953\",\"Q92945\",\"P52732\",\"Q9NQT8\",\"Q9NQT8\",\"Q96Q89\",\"Q99661\",\"P10721\",\"Q9H0B6\",\"P57682\",\"P57682\",\"P57682\",\"P08727\",\"Q8IVT5\",\"Q6PKG0\",\"Q6PKG0\",\"Q9BRS8\",\"P18858\",\"P18858\",\"Q9UHB6\",\"P53667\",\"P02545\",\"P02545\",\"P02545\",\"P02545\",\"P20700\",\"Q03252\",\"Q96II8\",\"P33241\",\"Q9H063\",\"P11137\",\"P27816\",\"Q14244\",\"P28482\",\"Q9UPT6\",\"P29966\",\"P29966\",\"P29966\",\"P27448\",\"P43243\",\"O15014\",\"P55042\",\"Q14676\",\"Q14676\",\"Q14676\",\"Q14676\",\"Q15648\",\"Q15648\",\"Q15648\",\"Q14680\",\"Q14680\",\"Q14680\",\"P55081\",\"Q5JXC2\",\"P46013\",\"P46013\",\"P46013\",\"P46013\",\"Q96JH7\",\"Q7L9L4\",\"P49959\",\"Q13330\",\"P42345\",\"P35580\",\"P35579\",\"O60934\",\"Q9BPX3\",\"Q15003\",\"Q09161\",\"P19878\",\"Q9HCH0\",\"Q9HCH0\",\"Q9HCH0\",\"Q9NXR1\",\"Q9HC98\",\"Q5T5U3\",\"P18615\",\"O95644\",\"Q9BYG3\",\"Q9Y2I6\",\"Q9Y2I6\",\"P15531\",\"Q14978\",\"Q14978\",\"P06748\",\"Q9UNZ2\",\"Q14980\",\"Q14980\",\"Q14980\",\"P49757\",\"Q8WUM0\",\"P06400\",\"Q9NZT2\",\"Q13415\",\"Q13415\",\"Q13416\",\"Q13416\",\"Q9Y5N6\",\"P22059\",\"Q9BXB4\",\"O95747\",\"Q13153\",\"Q13153\",\"Q8WX93\",\"Q8TEW0\",\"Q8TEW0\",\"O95453\",\"Q86TB9\",\"P49427\",\"Q53EL6\",\"O14737\",\"Q13370\",\"O15530\",\"Q9NTI5\",\"Q15121\",\"P18669\",\"Q13285\",\"P06401\",\"P15531\",\"O43175\",\"Q6ZUJ8\",\"O00443\",\"Q9Y2I7\",\"P08567\",\"P29590\",\"P24928\",\"Q8NEY8\",\"O15297\",\"P04637\",\"O14974\",\"Q9UIF9\",\"Q96A00\",\"P30291\",\"P41236\",\"Q15435\",\"Q15435\",\"Q14738\",\"O75170\",\"O43663\",\"Q9Y478\",\"P17252\",\"Q05655\",\"Q05655\",\"Q86WR7\",\"O00231\",\"Q15185\",\"Q05397\",\"P04637\",\"P53801\",\"Q9NZH5\",\"P49023\",\"P49023\",\"Q96C36\",\"O75154\",\"P61020\",\"Q9H0H5\",\"Q9NS91\",\"Q9UKM9\",\"P47736\",\"P47736\",\"Q9Y4G8\",\"P10276\",\"Q7LDG7\",\"P28749\",\"Q14676\",\"Q08999\",\"Q08999\",\"Q08999\",\"Q08999\",\"Q08999\",\"Q08999\",\"Q96RL1\",\"Q96PK6\",\"Q14498\",\"Q9Y580\",\"Q96E39\",\"P18754\",\"Q02952\",\"O14715\",\"O43353\",\"P16949\",\"P26373\",\"P46778\",\"P49736\",\"P62753\",\"Q8N122\",\"Q9NYV6\",\"Q9NYV6\",\"Q9NYV6\",\"Q14160\",\"Q14160\",\"Q9UPY5\",\"Q15047\",\"Q15637\",\"Q15637\",\"O75533\",\"O75533\",\"O75533\",\"O75533\",\"O75533\",\"O75533\",\"P23246\",\"P29353\",\"Q96EB6\",\"Q8N6T7\",\"Q9P270\",\"P19634\",\"P19634\",\"P48764\",\"O14745\",\"Q15599\",\"O95295\",\"P08621\",\"P12931\",\"P12931\",\"Q9BWF3\",\"Q8IYB3\",\"Q8IYB3\",\"Q9UQ35\",\"Q9UQ35\",\"Q9UQ35\",\"Q9UQ35\",\"Q9UQ35\",\"Q9UQ35\",\"Q9UQ35\",\"Q07955\",\"P84103\",\"P84103\",\"P61978\",\"Q14449\",\"Q8TE77\",\"P43307\",\"Q13586\",\"Q13188\",\"P16949\",\"O00267\",\"O00267\",\"Q15022\",\"Q92797\",\"Q15545\",\"Q86TI0\",\"P15923\",\"Q13428\",\"P27824\",\"Q9NYB0\",\"Q14186\",\"P0C1Z6\",\"Q13769\",\"O43683\",\"Q13009\",\"Q9BSI4\",\"Q9BSI4\",\"Q9Y490\",\"P42166\",\"Q13470\",\"Q9C0C2\",\"Q6PGQ7\",\"P11387\",\"P11388\",\"Q02880\",\"Q5JTV8\",\"Q12888\",\"Q12888\",\"P55327\",\"Q9ULW0\",\"Q9BUZ4\",\"Q9Y210\",\"Q96QT4\",\"Q96QT4\",\"Q96QT4\",\"P49815\",\"P31350\",\"P33981\",\"P29597\",\"Q96FF9\",\"O95071\",\"Q96RL1\",\"Q96RL1\",\"O75385\",\"Q0VD86\",\"Q92900\",\"Q92900\",\"P22415\",\"Q9Y2K6\",\"Q9UPU5\",\"Q93009\",\"Q96JH7\",\"Q96JH7\",\"Q9BQA1\",\"Q14191\",\"Q01831\",\"P12956\",\"P46937\",\"P46937\",\"Q86WB0\",\"P50549\",\"Q9UBW7\"],\"Substrate\":[\"AAK1\",\"ABCF1\",\"ABCF1\",\"ABI1\",\"ADD1\",\"ADD2\",\"ADD2\",\"ADD3\",\"AJUBA\",\"AKAP12\",\"AKAP12\",\"AKAP13\",\"AKIRIN2\",\"AKIRIN2\",\"AKT1\",\"AKT1S1\",\"AKT1S1\",\"AMOTL2\",\"ANKRD17\",\"ANP32B\",\"AP2M1\",\"APC\",\"ARAP1\",\"ARFIP1\",\"ARHGAP15\",\"ARHGAP35\",\"ARHGEF2\",\"ARHGEF2\",\"ARHGEF6\",\"ARHGEF6\",\"ARHGEF7\",\"ARID1A\",\"ARID4A\",\"ATM\",\"ATP5C1\",\"ATR\",\"ATRIP\",\"BABAM1\",\"BAZ1A\",\"BCLAF1\",\"BCLAF1\",\"BORA\",\"BRAF\",\"BRCA1\",\"BRCA1\",\"BRD9\",\"C1orf198\",\"C6orf106\",\"CALD1\",\"CALD1\",\"CAMK2G\",\"CAMKK2\",\"CARHSP1\",\"CARHSP1\",\"CARHSP1\",\"CBX3\",\"CBX5\",\"CCDC6\",\"CCM2\",\"CCNL2\",\"CCNL2\",\"CCNL2\",\"CCP110\",\"CD3EAP\",\"CD4\",\"CD4\",\"CD44\",\"CDC20\",\"CDC20\",\"CDC25A\",\"CDC25B\",\"CDC25B\",\"CDC42EP4\",\"CDC6\",\"CDC6\",\"CDCA5\",\"CDCA5\",\"CDCA7\",\"CDCA8\",\"CDK1\",\"CDK11B\",\"CDK12\",\"CDK13\",\"CDK16\",\"CDK16\",\"CDK2\",\"CDK9\",\"CELF1\",\"CENPA\",\"CEP131\",\"CEP131\",\"CEP76\",\"CGN\",\"CKAP2\",\"CLK3\",\"CSNK2B\",\"CTDP1\",\"CTNNA1\",\"CTNNB1\",\"CTNND1\",\"CTTN\",\"CTTN\",\"CUEDC2\",\"CUX1\",\"DAP\",\"DAPK3\",\"DCP1A\",\"DDA1\",\"DDX24\",\"DDX3X\",\"DDX3Y\",\"DLGAP5\",\"DNMT1\",\"DNMT1\",\"DNMT1\",\"DNMT1\",\"DPYSL2\",\"DPYSL2\",\"DPYSL3\",\"DSN1\",\"DYR1B_HUMAN\",\"EEF1D\",\"EEF1D\",\"EEF2\",\"EEF2\",\"EEF2\",\"EEF2K\",\"EEF2K\",\"EGLN1\",\"EIF2S2\",\"EIF4A3\",\"EIF4B\",\"EIF4EBP1\",\"EIF4ENIF1\",\"EIF4G1\",\"EIF5\",\"EIF5\",\"EML3\",\"EPRS\",\"EPS15\",\"ERF\",\"ERRFI1\",\"ERRFI1\",\"ETV6\",\"F11R\",\"FAF1\",\"FAM103A1\",\"FAM122A\",\"FANCI\",\"FARSA\",\"FLNA\",\"FLNA\",\"FXR1\",\"GAPVD1\",\"GBF1\",\"GINS2\",\"GMPS\",\"GOLGA4\",\"GPSM2\",\"GPSM3\",\"GRK2\",\"GSK3A\",\"GTF2F1\",\"GTF2F1\",\"GTF2I\",\"GYS1\",\"HDAC1\",\"HDAC1\",\"HDAC2\",\"HDAC7\",\"HIST1H1C\",\"HJURP\",\"HJURP\",\"HJURP\",\"HJURP\",\"HMGCS1\",\"HMGN1\",\"HMGN1\",\"HMGN1\",\"HMGN2\",\"HMGN2\",\"HMGN5\",\"HNRNPC\",\"HNRNPD\",\"HNRNPH1\",\"HSP90AA1\",\"HSP90AB1\",\"HSP90AB1\",\"HSPB8\",\"HSPB8\",\"HSPB8\",\"HTT\",\"HTT\",\"HTT\",\"IGF2R\",\"IGF2R\",\"ILK\",\"IMPDH2\",\"ISCU\",\"ITGA4\",\"KAT7\",\"KDM1A\",\"KDM1A\",\"KDM2A\",\"KDM4B\",\"KHSRP\",\"KIF11\",\"KIF13B\",\"KIF13B\",\"KIF20B\",\"KIF2C\",\"KIT\",\"KLC2\",\"KLF3\",\"KLF3\",\"KLF3\",\"KRT19\",\"KSR1\",\"LARP1\",\"LARP1\",\"LARP6\",\"LIG1\",\"LIG1\",\"LIMA1\",\"LIMK1\",\"LMNA\",\"LMNA\",\"LMNA\",\"LMNA\",\"LMNB1\",\"LMNB2\",\"LRCH3\",\"LSP1\",\"MAF1\",\"MAP2\",\"MAP4\",\"MAP7\",\"MAPK1\",\"MAPK8IP3\",\"MARCKS\",\"MARCKS\",\"MARCKS\",\"MARK3\",\"MATR3\",\"MCM3\",\"MDC1\",\"MDC1\",\"MDC1\",\"MDC1\",\"MDC1\",\"MED1\",\"MED1\",\"MED1\",\"MELK\",\"MELK\",\"MELK\",\"MFAP1\",\"MIIP\",\"MKI67\",\"MKI67\",\"MKI67\",\"MKI67\",\"MKI67\",\"MOB1A\",\"MRE11\",\"MTA1\",\"MTOR\",\"MYH10\",\"MYH9\",\"NBN\",\"NCAPG\",\"NCAPH\",\"NCBP1\",\"NCF2\",\"NCKAP5L\",\"NCKAP5L\",\"NCKAP5L\",\"NDE1\",\"NEK6\",\"NELFE\",\"NELFE\",\"NFATC1\",\"NIFK\",\"NINL\",\"NINL\",\"NME1\",\"NOLC1\",\"NOLC1\",\"NPM1\",\"NSFL1C\",\"NUMA1\",\"NUMA1\",\"NUMA1\",\"NUMB\",\"NUP133\",\"NUP98\",\"OGFR\",\"ORC1\",\"ORC1\",\"ORC2\",\"ORC2\",\"ORC6\",\"OSBP\",\"OSBPL11\",\"OXSR1\",\"PAK1\",\"PAK1\",\"PALLD\",\"PARD3\",\"PARD3\",\"PARN\",\"PATL1\",\"PAWR\",\"PDCD4\",\"PDCD5\",\"PDE3B\",\"PDPK1\",\"PDS5B\",\"PEA15\",\"PGAM1\",\"PGK1\",\"PGR\",\"PHF8\",\"PHGDH\",\"PIK3AP1\",\"PIK3C2A\",\"PIKFYVE\",\"PLEK\",\"PML\",\"POLR2A\",\"PPHLN1\",\"PPM1D\",\"PPME1\",\"PPP1R12A\",\"PPP1R12C\",\"PPP1R14A\",\"PPP1R2\",\"PPP1R2\",\"PPP1R7\",\"PPP1R7\",\"PPP2R5D\",\"PPP6R2\",\"PRC1\",\"PRKAB1\",\"PRKCA\",\"PRKCD\",\"PRKCD\",\"PROSER2\",\"PSMD11\",\"PTGES3\",\"PTK2\",\"PTPN1\",\"PTTG1IP\",\"PTTG2_HUMAN\",\"PXN\",\"PXN\",\"PYCR2\",\"RAB11FIP3\",\"RAB5B\",\"RACGAP1\",\"RAD18\",\"RALY\",\"RAP1GAP\",\"RAP1GAP\",\"RAPGEF2\",\"RARA\",\"RASGRP2\",\"RBL1\",\"RBL2\",\"RBL2\",\"RBL2\",\"RBL2\",\"RBL2\",\"RBL2\",\"RBL2\",\"RBM14\",\"RBM14\",\"RBM39\",\"RBM7\",\"RBMX\",\"RCC1\",\"RET\",\"RGPD8\",\"RIPK2\",\"RPL12\",\"RPL13\",\"RPL21\",\"RPS27L\",\"RPS6\",\"RPTOR\",\"RRN3\",\"RRN3\",\"RRN3\",\"SCRIB\",\"SCRIB\",\"SENP3\",\"SETDB1\",\"SF1\",\"SF1\",\"SF3B1\",\"SF3B1\",\"SF3B1\",\"SF3B1\",\"SF3B1\",\"SF3B1\",\"SFPQ\",\"SHC1\",\"SIRT1\",\"SIRT6\",\"SLAIN2\",\"SLC9A1\",\"SLC9A1\",\"SLC9A3\",\"SLC9A3R1\",\"SLC9A3R2\",\"SNAPIN\",\"SNRNP70\",\"SRC\",\"SRC\",\"SRPK1\",\"SRRM1\",\"SRRM1\",\"SRRM2\",\"SRRM2\",\"SRRM2\",\"SRRM2\",\"SRRM2\",\"SRRM2\",\"SRRM2\",\"SRSF1\",\"SRSF3\",\"SRSF3\",\"SRSF9\",\"SSB\",\"SSH3\",\"SSR1\",\"STIM1\",\"STK3\",\"STMN1\",\"SUPT5H\",\"SUPT5H\",\"SUZ12\",\"SYMPK\",\"TAF7\",\"TBC1D1\",\"TCF3\",\"TCOF1\",\"TCOF1\",\"TERF2IP\",\"TFDP1\",\"TFPT\",\"THOC5\",\"THOC5\",\"TIAM1\",\"TINF2\",\"TINF2\",\"TLN1\",\"TMPO\",\"TNK1\",\"TNKS1BP1\",\"TOP1\",\"TOP1\",\"TOP2A\",\"TOP2B\",\"TOR1AIP1\",\"TP53BP1\",\"TP53BP1\",\"TPD52\",\"TPX2\",\"TRAF4\",\"TRPC6\",\"TRPM7\",\"TRPM7\",\"TRPM7\",\"TSC2\",\"TSPYL2\",\"TTK\",\"TYK2\",\"U2AF2\",\"UBR5\",\"UIMC1\",\"UIMC1\",\"ULK1\",\"UNG\",\"UPF1\",\"UPF1\",\"USF1\",\"USP20\",\"USP24\",\"USP7\",\"VCPIP1\",\"VCPIP1\",\"WDR77\",\"WRN\",\"XPC\",\"XRCC6\",\"YAP1\",\"YAP1\",\"ZC3HC1\",\"ZFP36L1\",\"ZMYM2\"],\"color\":[\"grey\",\"Red\",\"grey\",\"grey\",\"grey\",\"Red\",\"grey\",\"grey\",\"grey\",\"grey\",\"grey\",\"grey\",\"Red\",\"grey\",\"grey\",\"Red\",\"grey\",\"grey\",\"grey\",\"grey\",\"grey\",\"grey\",\"grey\",\"grey\",\"grey\",\"grey\",\"grey\",\"grey\",\"Green\",\"grey\",\"Red\",\"grey\",\"grey\",\"grey\",\"grey\",\"grey\",\"grey\",\"grey\",\"grey\",\"grey\",\"grey\",\"grey\",\"grey\",\"Red\",\"grey\",\"grey\",\"Red\",\"grey\",\"grey\",\"grey\",\"grey\",\"grey\",\"grey\",\"grey\",\"grey\",\"grey\",\"Red\",\"Red\",\"grey\",\"grey\",\"grey\",\"grey\",\"grey\",\"grey\",\"grey\",\"Red\",\"Red\",\"Red\",\"Red\",\"grey\",\"grey\",\"grey\",\"grey\",\"grey\",\"grey\",\"grey\",\"grey\",\"grey\",\"Red\",\"grey\",\"grey\",\"Green\",\"grey\",\"grey\",\"Red\",\"grey\",\"grey\",\"Red\",\"grey\",\"grey\",\"grey\",\"grey\",\"Red\",\"grey\",\"grey\",\"grey\",\"grey\",\"grey\",\"grey\",\"Red\",\"grey\",\"grey\",\"Green\",\"grey\",\"grey\",\"grey\",\"grey\",\"grey\",\"Green\",\"grey\",\"Red\",\"Green\",\"Red\",\"grey\",\"Red\",\"grey\",\"Red\",\"grey\",\"grey\",\"grey\",\"grey\",\"grey\",\"grey\",\"grey\",\"grey\",\"Green\",\"Red\",\"Red\",\"Red\",\"grey\",\"Red\",\"Red\",\"grey\",\"grey\",\"Red\",\"grey\",\"grey\",\"grey\",\"Red\",\"grey\",\"grey\",\"grey\",\"grey\",\"grey\",\"Red\",\"Red\",\"grey\",\"grey\",\"grey\",\"grey\",\"grey\",\"grey\",\"grey\",\"Red\",\"Green\",\"Green\",\"grey\",\"grey\",\"grey\",\"grey\",\"grey\",\"grey\",\"Green\",\"Green\",\"Red\",\"grey\",\"grey\",\"grey\",\"grey\",\"grey\",\"grey\",\"grey\",\"grey\",\"grey\",\"grey\",\"grey\",\"grey\",\"grey\",\"grey\",\"grey\",\"grey\",\"grey\",\"grey\",\"grey\",\"grey\",\"grey\",\"grey\",\"grey\",\"grey\",\"Red\",\"grey\",\"Red\",\"Red\",\"grey\",\"grey\",\"grey\",\"grey\",\"grey\",\"grey\",\"grey\",\"grey\",\"grey\",\"grey\",\"grey\",\"grey\",\"grey\",\"Red\",\"grey\",\"grey\",\"grey\",\"grey\",\"grey\",\"grey\",\"Red\",\"grey\",\"Red\",\"grey\",\"grey\",\"Red\",\"grey\",\"grey\",\"grey\",\"grey\",\"grey\",\"grey\",\"grey\",\"grey\",\"grey\",\"grey\",\"Red\",\"Red\",\"Red\",\"grey\",\"grey\",\"grey\",\"grey\",\"Red\",\"grey\",\"grey\",\"Green\",\"Red\",\"grey\",\"grey\",\"grey\",\"grey\",\"Green\",\"grey\",\"grey\",\"Green\",\"grey\",\"grey\",\"grey\",\"grey\",\"grey\",\"grey\",\"grey\",\"Red\",\"grey\",\"grey\",\"grey\",\"grey\",\"grey\",\"grey\",\"grey\",\"grey\",\"grey\",\"grey\",\"grey\",\"grey\",\"grey\",\"grey\",\"grey\",\"grey\",\"grey\",\"grey\",\"grey\",\"grey\",\"grey\",\"Red\",\"Red\",\"grey\",\"Green\",\"Green\",\"grey\",\"Red\",\"grey\",\"Red\",\"Red\",\"grey\",\"grey\",\"Green\",\"grey\",\"Green\",\"Red\",\"grey\",\"grey\",\"Red\",\"grey\",\"grey\",\"Red\",\"Red\",\"grey\",\"grey\",\"grey\",\"grey\",\"grey\",\"grey\",\"grey\",\"grey\",\"grey\",\"grey\",\"Red\",\"Red\",\"grey\",\"grey\",\"grey\",\"Red\",\"grey\",\"grey\",\"grey\",\"grey\",\"Red\",\"grey\",\"grey\",\"grey\",\"grey\",\"grey\",\"grey\",\"grey\",\"grey\",\"grey\",\"Red\",\"Red\",\"grey\",\"grey\",\"grey\",\"grey\",\"grey\",\"grey\",\"grey\",\"Red\",\"grey\",\"Red\",\"grey\",\"grey\",\"grey\",\"grey\",\"Red\",\"grey\",\"grey\",\"grey\",\"grey\",\"grey\",\"grey\",\"grey\",\"grey\",\"grey\",\"grey\",\"grey\",\"grey\",\"Red\",\"grey\",\"grey\",\"grey\",\"grey\",\"grey\",\"grey\",\"grey\",\"grey\",\"grey\",\"grey\",\"grey\",\"grey\",\"Red\",\"grey\",\"Green\",\"grey\",\"Red\",\"grey\",\"grey\",\"grey\",\"grey\",\"grey\",\"grey\",\"grey\",\"grey\",\"grey\",\"Green\",\"grey\",\"grey\",\"grey\",\"grey\",\"grey\",\"grey\",\"grey\",\"grey\",\"grey\",\"grey\",\"grey\",\"grey\",\"grey\",\"grey\",\"grey\",\"grey\",\"grey\",\"grey\",\"grey\",\"grey\",\"grey\",\"Red\",\"grey\",\"grey\",\"grey\",\"grey\",\"Red\",\"grey\",\"grey\",\"Red\",\"grey\",\"grey\",\"grey\",\"grey\",\"Green\",\"Green\",\"Green\",\"grey\",\"grey\",\"grey\",\"grey\",\"grey\",\"grey\",\"grey\",\"grey\",\"grey\",\"Red\",\"grey\",\"grey\",\"grey\",\"grey\",\"grey\",\"grey\",\"grey\",\"grey\",\"grey\",\"grey\",\"grey\",\"grey\",\"grey\",\"grey\",\"grey\",\"grey\",\"grey\",\"grey\",\"grey\",\"Red\",\"grey\",\"grey\",\"Red\",\"grey\",\"Red\",\"grey\",\"grey\",\"grey\",\"grey\",\"Green\",\"grey\",\"grey\",\"grey\",\"grey\",\"grey\",\"grey\",\"Green\",\"grey\",\"grey\",\"grey\",\"grey\",\"Red\",\"grey\",\"grey\",\"grey\",\"grey\",\"grey\",\"grey\",\"grey\",\"grey\",\"grey\",\"grey\",\"grey\",\"grey\",\"grey\",\"grey\",\"Red\",\"grey\",\"grey\",\"grey\",\"grey\",\"grey\",\"grey\",\"grey\",\"Red\",\"grey\"],\"control_mean\":{\"__ndarray__\":\"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\",\"dtype\":\"float64\",\"shape\":[501]},\"index\":[0,1,2,3,4,5,6,7,8,9,10,11,12,13,14,15,16,17,18,19,20,21,22,23,24,25,26,27,28,29,30,31,32,33,34,35,36,37,38,39,40,41,42,43,44,45,46,47,48,49,50,51,52,53,54,55,56,57,58,59,60,61,62,63,64,65,66,67,68,69,70,71,72,73,74,75,76,77,78,79,80,81,82,83,84,85,86,87,88,89,90,91,92,93,94,95,96,97,98,99,100,101,102,103,104,105,106,107,108,109,110,111,112,113,114,115,116,117,118,119,120,121,122,123,124,125,126,127,128,129,130,131,132,133,134,135,136,137,138,139,140,141,142,143,144,145,146,147,148,149,150,151,152,153,154,155,156,157,158,159,160,161,162,163,164,165,166,167,168,169,170,171,172,173,174,175,176,177,178,179,180,181,182,183,184,185,186,187,188,189,190,191,192,193,194,195,196,197,198,199,200,201,202,203,204,205,206,207,208,209,210,211,212,213,214,215,216,217,218,219,220,221,222,223,224,225,226,227,228,229,230,231,232,233,234,235,236,237,238,239,240,241,242,243,244,245,246,247,248,249,250,251,252,253,254,255,256,257,258,259,260,261,262,263,264,265,266,267,268,269,270,271,272,273,274,275,276,277,278,279,280,281,282,283,284,285,286,287,288,289,290,291,292,293,294,295,296,297,298,299,300,301,302,303,304,305,306,307,308,309,310,311,312,313,314,315,316,317,318,319,320,321,322,323,324,325,326,327,328,329,330,331,332,333,334,335,336,337,338,339,340,341,342,343,344,345,346,347,348,349,350,351,352,353,354,355,356,357,358,359,360,361,362,363,364,365,366,367,368,369,370,371,372,373,374,375,376,377,378,379,380,381,382,383,384,385,386,387,388,389,390,391,392,393,394,395,396,397,398,399,400,401,402,403,404,405,406,407,408,409,410,411,412,413,414,415,416,417,418,419,420,421,422,423,424,425,426,427,428,429,430,431,432,433,434,435,436,437,438,439,440,441,442,443,444,445,446,447,448,449,450,451,452,453,454,455,456,457,458,459,460,461,462,463,464,465,466,467,468,469,470,471,472,473,474,475,476,477,478,479,480,481,482,483,484,485,486,487,488,489,490,491,492,493,494,495,496,497,498,499,500],\"p-site\":[\"Q2M2I8_T389\",\"Q8NE71_S109\",\"P17936_S140\",\"Q8IZP0_Y213\",\"P35611_S12\",\"P35612_S613\",\"P35612_S701\",\"Q9UEY8_S693\",\"Q96IF1_S119\",\"Q02952_S627\",\"Q02952_T767\",\"Q12802_S1565\",\"Q53H80_S18\",\"Q53H80_S21\",\"P37840_S129\",\"Q96B36_S183\",\"Q96B36_S203\",\"Q9Y2J4_S759\",\"O75179_S2401\",\"Q92688_T244\",\"Q96CW1_T156\",\"P25054_S1360\",\"Q96P48_Y231\",\"P53367_S132\",\"Q53QZ3_S43\",\"Q9NRY4_S1174\",\"Q92974_S143\",\"Q92974_S960\",\"Q15052_S225\",\"Q15052_S488\",\"Q14155_S518\",\"O14497_S363\",\"P29374_S864\",\"Q13315_T1885\",\"P38936_S146\",\"Q13535_S435\",\"Q8WXE1_S224\",\"Q9NWV8_S29\",\"Q9NRL2_S1320\",\"Q9NYF8_S531\",\"Q9NYF8_Y284\",\"Q6PGQ7_S252\",\"P15056_S729\",\"P38398_S1191\",\"P38398_S1542\",\"Q9H8M2_S588\",\"Q03252_S37\",\"Q9H6K1_S215\",\"Q05682_S789\",\"Q05682_T730\",\"Q13555_S319\",\"Q96RR4_S511\",\"Q9Y2V2_S30\",\"Q9Y2V2_S32\",\"Q9Y2V2_S41\",\"Q13185_S93\",\"P45973_S92\",\"Q16204_S240\",\"Q9BSQ5_S384\",\"Q96S94_S330\",\"Q96S94_S338\",\"Q96S94_S369\",\"P06401_S400\",\"O15446_S285\",\"Q9UH77_S433\",\"P28329_S440\",\"P16070_S706\",\"Q12834_S41\",\"Q12834_T157\",\"P30304_S18\",\"P30305_S230\",\"P30305_S249\",\"Q9H3Q1_S80\",\"P03372_S106\",\"P33991_S54\",\"Q96FF9_S21\",\"Q96FF9_S75\",\"Q9BWT1_T163\",\"Q53HL2_S219\",\"P06493_T14\",\"P21127_S752\",\"Q9NYV4_T893\",\"Q14004_S437\",\"Q00536_S138\",\"Q00536_S153\",\"P06493_Y15\",\"P50750_S347\",\"Q13950_S28\",\"P49450_S19\",\"Q9UPN4_S47\",\"Q9UPN4_S78\",\"Q8TAP6_S83\",\"Q9P2M7_S131\",\"Q8WWK9_T623\",\"P49761_S157\",\"Q14244_S209\",\"Q9Y5B0_S740\",\"P35221_S641\",\"P35222_S191\",\"O60716_S879\",\"Q14247_S261\",\"Q14247_T401\",\"Q9H467_S110\",\"P39880_S1270\",\"P51397_S51\",\"O43293_S311\",\"Q9NPI6_S315\",\"Q9BW61_S33\",\"Q9GZR7_S82\",\"O00571_S594\",\"O15523_S592\",\"Q15398_S725\",\"P26358_S127\",\"P26358_S143\",\"P26358_S714\",\"P26358_S954\",\"Q14195_T509\",\"Q16555_T514\",\"Q14195_T509\",\"Q99661_S109\",\"Q9Y463_Y273\",\"P29692_S133\",\"P29692_S162\",\"P13639_S595\",\"P13639_T435\",\"P13639_T57\",\"O00418_S72\",\"O00418_S74\",\"Q9GZT9_S125\",\"P67870_S2\",\"P38919_T163\",\"P23588_S406\",\"Q13541_S101\",\"Q9NRA8_S587\",\"Q04637_S1231\",\"P55010_S389\",\"P55010_S390\",\"Q32P44_S176\",\"P07814_S886\",\"P42566_S796\",\"P50548_S161\",\"Q9UJM3_S251\",\"Q9UJM3_S302\",\"P41212_S213\",\"Q9Y624_S284\",\"Q9UNN5_S582\",\"P29590_S36\",\"Q5JTV8_S143\",\"Q9NVI1_S1121\",\"Q9Y285_S301\",\"P21333_S1084\",\"P21333_S1630\",\"P51114_S420\",\"Q14C86_S950\",\"Q92538_T1337\",\"Q9Y248_S182\",\"P49915_T318\",\"Q13439_S71\",\"P81274_S408\",\"Q9Y4H4_S35\",\"P25098_S670\",\"P49840_Y279\",\"P35269_S385\",\"P35269_T389\",\"P78347_S784\",\"P13807_S727\",\"Q13547_S421\",\"Q13547_S423\",\"Q92769_S394\",\"Q8WUI4_S358\",\"P16403_S36\",\"Q8NCD3_S412\",\"Q8NCD3_S448\",\"Q9HCH0_S473\",\"Q8NCD3_S486\",\"Q01581_S495\",\"P05114_S86\",\"P05114_S89\",\"P05114_S99\",\"P05204_S25\",\"P05204_S29\",\"P82970_S24\",\"P07910_S253\",\"Q14103_S83\",\"P55795_S104\",\"P04198_S263\",\"P08238_S226\",\"P08238_S452\",\"Q13950_S24\",\"Q9UJY1_S57\",\"Q9UJY1_T87\",\"P42858_S1179\",\"P42858_S1199\",\"P42858_S432\",\"P11717_S2409\",\"P11717_S2484\",\"Q13418_T181\",\"P12268_S122\",\"Q9H1K1_S14\",\"P13612_S1021\",\"O95251_S57\",\"O60341_S131\",\"O60341_S137\",\"Q9Y2K7_T550\",\"O94953_S622\",\"Q92945_S274\",\"P52732_T926\",\"Q9NQT8_S1381\",\"Q9NQT8_S1410\",\"Q96Q89_T1644\",\"Q99661_S715\",\"P10721_S746\",\"Q9H0B6_S582\",\"P57682_S101\",\"P57682_S250\",\"P57682_S92\",\"P08727_S35\",\"Q8IVT5_S406\",\"Q6PKG0_S766\",\"Q6PKG0_T649\",\"Q9BRS8_S409\",\"P18858_S51\",\"P18858_S66\",\"Q9UHB6_S362\",\"P53667_S310\",\"P02545_S22\",\"P02545_S301\",\"P02545_S390\",\"P02545_T19\",\"P20700_S393\",\"Q03252_S37\",\"Q96II8_S419\",\"P33241_S252\",\"Q9H063_S68\",\"P11137_S1782\",\"P27816_S787\",\"Q14244_S209\",\"P28482_T185\",\"Q9UPT6_S365\",\"P29966_S163\",\"P29966_S167\",\"P29966_S170\",\"P27448_T507\",\"P43243_T150\",\"O15014_T722\",\"P55042_S299\",\"Q14676_S329\",\"Q14676_S376\",\"Q14676_T301\",\"Q14676_T378\",\"Q15648_S1207\",\"Q15648_S953\",\"Q15648_T1215\",\"Q14680_S356\",\"Q14680_S505\",\"Q14680_S529\",\"P55081_S116\",\"Q5JXC2_S303\",\"P46013_S357\",\"P46013_S374\",\"P46013_S538\",\"P46013_T1764\",\"Q96JH7_T761\",\"Q7L9L4_T35\",\"P49959_S689\",\"Q13330_S522\",\"P42345_S2454\",\"P35580_S1956\",\"P35579_S1943\",\"O60934_S432\",\"Q9BPX3_T931\",\"Q15003_T49\",\"Q09161_S22\",\"P19878_T233\",\"Q9HCH0_S436\",\"Q9HCH0_S473\",\"Q9HCH0_S763\",\"Q9NXR1_S282\",\"Q9HC98_S206\",\"Q5T5U3_S131\",\"P18615_S251\",\"O95644_S245\",\"Q9BYG3_T238\",\"Q9Y2I6_S448\",\"Q9Y2I6_S585\",\"P15531_T94\",\"Q14978_T607\",\"Q14978_T610\",\"P06748_S125\",\"Q9UNZ2_S140\",\"Q14980_S1887\",\"Q14980_S1991\",\"Q14980_T2106\",\"P49757_S7\",\"Q8WUM0_S50\",\"P06400_S612\",\"Q9NZT2_S378\",\"Q13415_S258\",\"Q13415_S273\",\"Q13416_T116\",\"Q13416_T226\",\"Q9Y5N6_T195\",\"P22059_S240\",\"Q9BXB4_S189\",\"O95747_S339\",\"Q13153_S144\",\"Q13153_S174\",\"Q8WX93_S1118\",\"Q8TEW0_S827\",\"Q8TEW0_S873\",\"O95453_S557\",\"Q86TB9_S179\",\"P49427_S231\",\"Q53EL6_S76\",\"O14737_S119\",\"Q13370_S318\",\"O15530_S241\",\"Q9NTI5_T1370\",\"Q15121_S116\",\"P18669_S118\",\"Q13285_S203\",\"P06401_S162\",\"P15531_S120\",\"O43175_T78\",\"Q6ZUJ8_Y570\",\"O00443_S259\",\"Q9Y2I7_S307\",\"P08567_S117\",\"P29590_S403\",\"P24928_S1878\",\"Q8NEY8_S110\",\"O15297_S85\",\"P04637_S15\",\"O14974_S445\",\"Q9UIF9_S509\",\"Q96A00_S130\",\"P30291_S121\",\"P41236_S122\",\"Q15435_S24\",\"Q15435_S27\",\"Q14738_S573\",\"O75170_S289\",\"O43663_T481\",\"Q9Y478_S108\",\"P17252_S226\",\"Q05655_S299\",\"Q05655_T141\",\"Q86WR7_S43\",\"O00231_S14\",\"Q15185_S113\",\"Q05397_S910\",\"P04637_S378\",\"P53801_Y174\",\"Q9NZH5_S165\",\"P49023_S258\",\"P49023_Y88\",\"Q96C36_S304\",\"O75154_S102\",\"P61020_S123\",\"Q9H0H5_S203\",\"Q9NS91_S99\",\"Q9UKM9_S135\",\"P47736_S484\",\"P47736_S499\",\"Q9Y4G8_S960\",\"P10276_S445\",\"Q7LDG7_S587\",\"P28749_S650\",\"Q14676_S1068\",\"Q08999_S1080\",\"Q08999_S1112\",\"Q08999_S413\",\"Q08999_S639\",\"Q08999_S662\",\"Q08999_T417\",\"Q96RL1_S627\",\"Q96PK6_T629\",\"Q14498_Y95\",\"Q9Y580_S108\",\"Q96E39_S326\",\"P18754_S11\",\"Q02952_S696\",\"O14715_S1275\",\"O43353_S178\",\"P16949_S38\",\"P26373_S106\",\"P46778_S104\",\"P49736_S27\",\"P62753_S240\",\"Q8N122_S877\",\"Q9NYV6_S170\",\"Q9NYV6_S172\",\"Q9NYV6_S44\",\"Q14160_S1378\",\"Q14160_S1508\",\"Q9UPY5_S26\",\"Q15047_S1066\",\"Q15637_S80\",\"Q15637_S82\",\"O75533_T142\",\"O75533_T211\",\"O75533_T244\",\"O75533_T273\",\"O75533_T313\",\"O75533_T426\",\"P23246_T687\",\"P29353_S139\",\"Q96EB6_S540\",\"Q8N6T7_S338\",\"Q9P270_S48\",\"P19634_S693\",\"P19634_S785\",\"P48764_S663\",\"O14745_S280\",\"Q15599_S303\",\"O95295_S133\",\"P08621_S226\",\"P12931_S17\",\"P12931_S75\",\"Q9BWF3_S309\",\"Q8IYB3_T572\",\"Q8IYB3_T574\",\"Q9UQ35_S1318\",\"Q9UQ35_S1326\",\"Q9UQ35_S1329\",\"Q9UQ35_S1497\",\"Q9UQ35_S1499\",\"Q9UQ35_T1413\",\"Q9UQ35_T866\",\"Q07955_S205\",\"P84103_S138\",\"P84103_S140\",\"P61978_S216\",\"Q14449_S366\",\"Q8TE77_S37\",\"P43307_S268\",\"Q13586_S575\",\"Q13188_S385\",\"P16949_S63\",\"O00267_T799\",\"O00267_T806\",\"Q15022_S546\",\"Q92797_T1257\",\"Q15545_S264\",\"Q86TI0_S237\",\"P15923_S379\",\"Q13428_S156\",\"P27824_S583\",\"Q9NYB0_S203\",\"Q14186_S23\",\"P0C1Z6_S180\",\"Q13769_S312\",\"O43683_S314\",\"Q13009_S231\",\"Q9BSI4_S295\",\"Q9BSI4_S330\",\"Q9Y490_S425\",\"P42166_S424\",\"Q13470_S502\",\"Q9C0C2_S691\",\"Q6PGQ7_S112\",\"P11387_S394\",\"P11388_S1377\",\"Q02880_S1424\",\"Q5JTV8_S143\",\"Q12888_S1219\",\"Q12888_S1618\",\"P55327_S176\",\"Q9ULW0_S738\",\"Q9BUZ4_S426\",\"Q9Y210_T70\",\"Q96QT4_S1258\",\"Q96QT4_S1477\",\"Q96QT4_S1569\",\"P49815_S939\",\"P31350_S20\",\"P33981_S281\",\"P29597_Y292\",\"Q96FF9_S79\",\"O95071_T637\",\"Q96RL1_S44\",\"Q96RL1_S46\",\"O75385_S758\",\"Q0VD86_S23\",\"Q92900_S1107\",\"Q92900_S1127\",\"P22415_S186\",\"Q9Y2K6_S333\",\"Q9UPU5_S2047\",\"Q93009_S18\",\"Q96JH7_S768\",\"Q96JH7_T761\",\"Q9BQA1_T5\",\"Q14191_S1133\",\"Q01831_S94\",\"P12956_T455\",\"P46937_S289\",\"P46937_S367\",\"Q86WB0_S395\",\"P50549_S334\",\"Q9UBW7_S305\"]},\"selected\":{\"id\":\"10350\",\"type\":\"Selection\"},\"selection_policy\":{\"id\":\"10351\",\"type\":\"UnionRenderers\"}},\"id\":\"9993\",\"type\":\"ColumnDataSource\"},{\"attributes\":{},\"id\":\"9995\",\"type\":\"WheelZoomTool\"},{\"attributes\":{\"callback\":null,\"tooltips\":[[\"Kinase\",\"@Kinase\"],[\"Substrate\",\"@Substrate\"],[\"Phosphosite\",\"@Phosphosite\"],[\"Fold_change\",\"@{Log2 Fold Change}\"],[\"p_value\",\"@{-Log10 Corrected P-Value}\"]]},\"id\":\"9994\",\"type\":\"HoverTool\"},{\"attributes\":{\"overlay\":{\"id\":\"10352\",\"type\":\"BoxAnnotation\"}},\"id\":\"9997\",\"type\":\"BoxZoomTool\"},{\"attributes\":{},\"id\":\"9996\",\"type\":\"PanTool\"},{\"attributes\":{},\"id\":\"10017\",\"type\":\"BasicTicker\"},{\"attributes\":{\"fill_alpha\":{\"value\":0.1},\"fill_color\":{\"value\":\"#1f77b4\"},\"line_alpha\":{\"value\":0.1},\"line_color\":{\"value\":\"#1f77b4\"},\"size\":{\"units\":\"screen\",\"value\":10},\"x\":{\"field\":\"Log2 Fold Change\"},\"y\":{\"field\":\"-Log10 Corrected P-Value\"}},\"id\":\"10030\",\"type\":\"Scatter\"},{\"attributes\":{\"dimension\":1,\"ticker\":{\"id\":\"10017\",\"type\":\"BasicTicker\"}},\"id\":\"10020\",\"type\":\"Grid\"},{\"attributes\":{\"active_drag\":\"auto\",\"active_inspect\":\"auto\",\"active_multi\":null,\"active_scroll\":\"auto\",\"active_tap\":\"auto\",\"tools\":[{\"id\":\"9994\",\"type\":\"HoverTool\"},{\"id\":\"9995\",\"type\":\"WheelZoomTool\"},{\"id\":\"9996\",\"type\":\"PanTool\"},{\"id\":\"9997\",\"type\":\"BoxZoomTool\"},{\"id\":\"9998\",\"type\":\"ResetTool\"},{\"id\":\"9999\",\"type\":\"SaveTool\"}]},\"id\":\"10021\",\"type\":\"Toolbar\"},{\"attributes\":{},\"id\":\"10350\",\"type\":\"Selection\"},{\"attributes\":{},\"id\":\"10351\",\"type\":\"UnionRenderers\"},{\"attributes\":{\"bottom_units\":\"screen\",\"fill_alpha\":{\"value\":0.5},\"fill_color\":{\"value\":\"lightgrey\"},\"left_units\":\"screen\",\"level\":\"overlay\",\"line_alpha\":{\"value\":1.0},\"line_color\":{\"value\":\"black\"},\"line_dash\":[4,4],\"line_width\":{\"value\":2},\"render_mode\":\"css\",\"right_units\":\"screen\",\"top_units\":\"screen\"},\"id\":\"10352\",\"type\":\"BoxAnnotation\"},{\"attributes\":{},\"id\":\"10347\",\"type\":\"BasicTickFormatter\"},{\"attributes\":{\"dimension\":\"height\",\"line_dash\":[6],\"line_width\":{\"value\":3},\"location\":-1},\"id\":\"10035\",\"type\":\"Span\"},{\"attributes\":{\"dimension\":\"height\",\"line_dash\":[6],\"line_width\":{\"value\":3},\"location\":1},\"id\":\"10034\",\"type\":\"Span\"},{\"attributes\":{\"formatter\":{\"id\":\"10347\",\"type\":\"BasicTickFormatter\"},\"ticker\":{\"id\":\"10012\",\"type\":\"BasicTicker\"}},\"id\":\"10011\",\"type\":\"LinearAxis\"},{\"attributes\":{\"data_source\":{\"id\":\"9993\",\"type\":\"ColumnDataSource\"},\"glyph\":{\"id\":\"10029\",\"type\":\"Scatter\"},\"hover_glyph\":null,\"muted_glyph\":null,\"nonselection_glyph\":{\"id\":\"10030\",\"type\":\"Scatter\"},\"selection_glyph\":null,\"view\":{\"id\":\"10032\",\"type\":\"CDSView\"}},\"id\":\"10031\",\"type\":\"GlyphRenderer\"},{\"attributes\":{\"formatter\":{\"id\":\"10349\",\"type\":\"BasicTickFormatter\"},\"ticker\":{\"id\":\"10017\",\"type\":\"BasicTicker\"}},\"id\":\"10016\",\"type\":\"LinearAxis\"},{\"attributes\":{\"ticker\":{\"id\":\"10012\",\"type\":\"BasicTicker\"}},\"id\":\"10015\",\"type\":\"Grid\"},{\"attributes\":{\"source\":{\"id\":\"9993\",\"type\":\"ColumnDataSource\"}},\"id\":\"10032\",\"type\":\"CDSView\"}],\"root_ids\":[\"10000\"]},\"title\":\"Bokeh Application\",\"version\":\"1.3.4\"}};\n",
       "  var render_items = [{\"docid\":\"c3749a38-1313-47df-83db-f17a0e3be59d\",\"roots\":{\"10000\":\"caac542e-05c6-4863-be7f-6df6d611bf3b\"}}];\n",
       "  root.Bokeh.embed.embed_items_notebook(docs_json, render_items);\n",
       "\n",
       "  }\n",
       "  if (root.Bokeh !== undefined) {\n",
       "    embed_document(root);\n",
       "  } else {\n",
       "    var attempts = 0;\n",
       "    var timer = setInterval(function(root) {\n",
       "      if (root.Bokeh !== undefined) {\n",
       "        embed_document(root);\n",
       "        clearInterval(timer);\n",
       "      }\n",
       "      attempts++;\n",
       "      if (attempts > 100) {\n",
       "        console.log(\"Bokeh: ERROR: Unable to run BokehJS code because BokehJS library is missing\");\n",
       "        clearInterval(timer);\n",
       "      }\n",
       "    }, 10, root)\n",
       "  }\n",
       "})(window);"
      ],
      "application/vnd.bokehjs_exec.v0+json": ""
     },
     "metadata": {
      "application/vnd.bokehjs_exec.v0+json": {
       "id": "10000"
      }
     },
     "output_type": "display_data"
    }
   ],
   "source": [
    "def VolcanoPlot(kinaseList):\n",
    "\n",
    "    FC_T=1\n",
    "    FC_TN=-1\n",
    "    PV_T=-np.log10(0.05)\n",
    "\n",
    "    kinaseList.loc[(kinaseList['Log2 Fold Change'] > FC_T) & (kinaseList['-Log10 Corrected P-Value'] > PV_T), 'color' ] = \"Green\"  # upregulated\n",
    "    kinaseList.loc[(kinaseList['Log2 Fold Change'] < FC_T) & (kinaseList['-Log10 Corrected P-Value'] > PV_T), 'color' ] = \"Red\"   # downregulated\n",
    "    kinaseList['color'].fillna('grey', inplace=True)\n",
    "\n",
    "    output_notebook()\n",
    "\n",
    "    category = 'Substrate'\n",
    "\n",
    "    category_items = kinaseList[category].unique()\n",
    "    title=\"Volcano Plot\"\n",
    "\n",
    "    #title = Inhibitor + \" :Data with identified kinases\"\n",
    "    #feeding data into ColumnDataSource\n",
    "\n",
    "    source = ColumnDataSource(kinaseList)\n",
    "\n",
    "    hover = HoverTool(tooltips=[('Kinase','@Kinase'),\n",
    "                                ('Substrate', '@Substrate'),\n",
    "                                ('Phosphosite', '@Phosphosite'),\n",
    "                                ('Fold_change', '@{Log2 Fold Change}'),\n",
    "                                ('p_value', '@{-Log10 Corrected P-Value}')])\n",
    "\n",
    "    tools = [hover, WheelZoomTool(), PanTool(), BoxZoomTool(), ResetTool(), SaveTool()]\n",
    "    \n",
    "    p = figure(tools=tools,title=title,plot_width=700,plot_height=400,toolbar_location='right',\n",
    "           toolbar_sticky=False)\n",
    "   \n",
    "    p.scatter(x = 'Log2 Fold Change', y = '-Log10 Corrected P-Value',source=source,size=10,color='color')\n",
    "   \n",
    "    p_sig = Span(location=PV_T,dimension='width', line_color='black',line_dash='dashed', line_width=3)\n",
    "    fold_sig_over=Span(location=FC_T,dimension='height', line_color='black',line_dash='dashed', line_width=3)\n",
    "    fold_sig_under=Span(location=FC_TN,dimension='height', line_color='black',line_dash='dashed', line_width=3)\n",
    "\n",
    "    p.add_layout(p_sig)   \n",
    "    p.add_layout(fold_sig_over)   \n",
    "    p.add_layout(fold_sig_under)   \n",
    "\n",
    "    show(p)\n",
    "volcano_plot=VolcanoPlot(log2FCKinase)"
   ]
  },
  {
   "cell_type": "code",
   "execution_count": 329,
   "metadata": {},
   "outputs": [],
   "source": [
    "def sortedDF(df):\n",
    "    sorted_df=df.sort_values(by='mS', ascending=False).head(25)\n",
    "    return sorted_df\n",
    "\n",
    "sorted_df=sortedDF(calculations_df)\n",
    "alt_sorted_df=sortedDF(alt_calculations_df)"
   ]
  },
  {
   "cell_type": "code",
   "execution_count": 330,
   "metadata": {},
   "outputs": [
    {
     "data": {
      "application/vnd.plotly.v1+json": {
       "config": {
        "plotlyServerURL": "https://plot.ly"
       },
       "data": [
        {
         "alignmentgroup": "True",
         "customdata": [
          [
           1.678685428582395,
           "EEF2K"
          ],
          [
           1.6593249626161775,
           "ATR"
          ],
          [
           1.6320869197884276,
           "P38B"
          ],
          [
           1.4640169135821381,
           "ERK5"
          ],
          [
           1.418793599943017,
           "PKCT"
          ],
          [
           1.2504417714422573,
           "TAF1"
          ],
          [
           1.0640449838644865,
           "GTF2F1"
          ],
          [
           1.0571604874456366,
           "MARK2"
          ],
          [
           1.0534390233540745,
           "AurA"
          ],
          [
           0.9749054321342082,
           "AMPKA1"
          ],
          [
           0.9513549889069126,
           "RIPK2"
          ],
          [
           0.8240300358142395,
           "Wee1"
          ],
          [
           0.8237994659696475,
           "PAK1"
          ],
          [
           0.7500826492722724,
           "CDC7"
          ],
          [
           0.703793678105434,
           "ARAF"
          ],
          [
           0.6592664690833683,
           "CK1A"
          ],
          [
           0.6571369555976329,
           "PLK1"
          ],
          [
           0.651356556441161,
           "DAPK3"
          ],
          [
           0.629032885569825,
           "RSK2"
          ],
          [
           0.5857611546855851,
           "Tyk2"
          ],
          [
           0.5770770791427284,
           "ChaK1"
          ],
          [
           0.5764197800253611,
           "PKCA"
          ],
          [
           0.5503625646245826,
           "PRKD1"
          ],
          [
           0.5398893314922536,
           "PDK1"
          ],
          [
           0.5073848875704527,
           "PKCG"
          ]
         ],
         "hoverlabel": {
          "namelength": 0
         },
         "hovertemplate": "mS=%{customdata[0]}<br>Kinase=%{customdata[1]}",
         "legendgroup": "",
         "marker": {
          "color": "#636efa"
         },
         "name": "",
         "offsetgroup": "",
         "orientation": "h",
         "showlegend": false,
         "textposition": "auto",
         "type": "bar",
         "x": [
          1.678685428582395,
          1.6593249626161775,
          1.6320869197884276,
          1.4640169135821381,
          1.418793599943017,
          1.2504417714422573,
          1.0640449838644865,
          1.0571604874456366,
          1.0534390233540745,
          0.9749054321342082,
          0.9513549889069126,
          0.8240300358142395,
          0.8237994659696475,
          0.7500826492722724,
          0.703793678105434,
          0.6592664690833683,
          0.6571369555976329,
          0.651356556441161,
          0.629032885569825,
          0.5857611546855851,
          0.5770770791427284,
          0.5764197800253611,
          0.5503625646245826,
          0.5398893314922536,
          0.5073848875704527
         ],
         "xaxis": "x",
         "y": [
          "EEF2K",
          "ATR",
          "P38B",
          "ERK5",
          "PKCT",
          "TAF1",
          "GTF2F1",
          "MARK2",
          "AurA",
          "AMPKA1",
          "RIPK2",
          "Wee1",
          "PAK1",
          "CDC7",
          "ARAF",
          "CK1A",
          "PLK1",
          "DAPK3",
          "RSK2",
          "Tyk2",
          "ChaK1",
          "PKCA",
          "PRKD1",
          "PDK1",
          "PKCG"
         ],
         "yaxis": "y"
        }
       ],
       "layout": {
        "barmode": "relative",
        "height": 600,
        "legend": {
         "tracegroupgap": 0
        },
        "template": {
         "data": {
          "bar": [
           {
            "error_x": {
             "color": "#2a3f5f"
            },
            "error_y": {
             "color": "#2a3f5f"
            },
            "marker": {
             "line": {
              "color": "#E5ECF6",
              "width": 0.5
             }
            },
            "type": "bar"
           }
          ],
          "barpolar": [
           {
            "marker": {
             "line": {
              "color": "#E5ECF6",
              "width": 0.5
             }
            },
            "type": "barpolar"
           }
          ],
          "carpet": [
           {
            "aaxis": {
             "endlinecolor": "#2a3f5f",
             "gridcolor": "white",
             "linecolor": "white",
             "minorgridcolor": "white",
             "startlinecolor": "#2a3f5f"
            },
            "baxis": {
             "endlinecolor": "#2a3f5f",
             "gridcolor": "white",
             "linecolor": "white",
             "minorgridcolor": "white",
             "startlinecolor": "#2a3f5f"
            },
            "type": "carpet"
           }
          ],
          "choropleth": [
           {
            "colorbar": {
             "outlinewidth": 0,
             "ticks": ""
            },
            "type": "choropleth"
           }
          ],
          "contour": [
           {
            "colorbar": {
             "outlinewidth": 0,
             "ticks": ""
            },
            "colorscale": [
             [
              0,
              "#0d0887"
             ],
             [
              0.1111111111111111,
              "#46039f"
             ],
             [
              0.2222222222222222,
              "#7201a8"
             ],
             [
              0.3333333333333333,
              "#9c179e"
             ],
             [
              0.4444444444444444,
              "#bd3786"
             ],
             [
              0.5555555555555556,
              "#d8576b"
             ],
             [
              0.6666666666666666,
              "#ed7953"
             ],
             [
              0.7777777777777778,
              "#fb9f3a"
             ],
             [
              0.8888888888888888,
              "#fdca26"
             ],
             [
              1,
              "#f0f921"
             ]
            ],
            "type": "contour"
           }
          ],
          "contourcarpet": [
           {
            "colorbar": {
             "outlinewidth": 0,
             "ticks": ""
            },
            "type": "contourcarpet"
           }
          ],
          "heatmap": [
           {
            "colorbar": {
             "outlinewidth": 0,
             "ticks": ""
            },
            "colorscale": [
             [
              0,
              "#0d0887"
             ],
             [
              0.1111111111111111,
              "#46039f"
             ],
             [
              0.2222222222222222,
              "#7201a8"
             ],
             [
              0.3333333333333333,
              "#9c179e"
             ],
             [
              0.4444444444444444,
              "#bd3786"
             ],
             [
              0.5555555555555556,
              "#d8576b"
             ],
             [
              0.6666666666666666,
              "#ed7953"
             ],
             [
              0.7777777777777778,
              "#fb9f3a"
             ],
             [
              0.8888888888888888,
              "#fdca26"
             ],
             [
              1,
              "#f0f921"
             ]
            ],
            "type": "heatmap"
           }
          ],
          "heatmapgl": [
           {
            "colorbar": {
             "outlinewidth": 0,
             "ticks": ""
            },
            "colorscale": [
             [
              0,
              "#0d0887"
             ],
             [
              0.1111111111111111,
              "#46039f"
             ],
             [
              0.2222222222222222,
              "#7201a8"
             ],
             [
              0.3333333333333333,
              "#9c179e"
             ],
             [
              0.4444444444444444,
              "#bd3786"
             ],
             [
              0.5555555555555556,
              "#d8576b"
             ],
             [
              0.6666666666666666,
              "#ed7953"
             ],
             [
              0.7777777777777778,
              "#fb9f3a"
             ],
             [
              0.8888888888888888,
              "#fdca26"
             ],
             [
              1,
              "#f0f921"
             ]
            ],
            "type": "heatmapgl"
           }
          ],
          "histogram": [
           {
            "marker": {
             "colorbar": {
              "outlinewidth": 0,
              "ticks": ""
             }
            },
            "type": "histogram"
           }
          ],
          "histogram2d": [
           {
            "colorbar": {
             "outlinewidth": 0,
             "ticks": ""
            },
            "colorscale": [
             [
              0,
              "#0d0887"
             ],
             [
              0.1111111111111111,
              "#46039f"
             ],
             [
              0.2222222222222222,
              "#7201a8"
             ],
             [
              0.3333333333333333,
              "#9c179e"
             ],
             [
              0.4444444444444444,
              "#bd3786"
             ],
             [
              0.5555555555555556,
              "#d8576b"
             ],
             [
              0.6666666666666666,
              "#ed7953"
             ],
             [
              0.7777777777777778,
              "#fb9f3a"
             ],
             [
              0.8888888888888888,
              "#fdca26"
             ],
             [
              1,
              "#f0f921"
             ]
            ],
            "type": "histogram2d"
           }
          ],
          "histogram2dcontour": [
           {
            "colorbar": {
             "outlinewidth": 0,
             "ticks": ""
            },
            "colorscale": [
             [
              0,
              "#0d0887"
             ],
             [
              0.1111111111111111,
              "#46039f"
             ],
             [
              0.2222222222222222,
              "#7201a8"
             ],
             [
              0.3333333333333333,
              "#9c179e"
             ],
             [
              0.4444444444444444,
              "#bd3786"
             ],
             [
              0.5555555555555556,
              "#d8576b"
             ],
             [
              0.6666666666666666,
              "#ed7953"
             ],
             [
              0.7777777777777778,
              "#fb9f3a"
             ],
             [
              0.8888888888888888,
              "#fdca26"
             ],
             [
              1,
              "#f0f921"
             ]
            ],
            "type": "histogram2dcontour"
           }
          ],
          "mesh3d": [
           {
            "colorbar": {
             "outlinewidth": 0,
             "ticks": ""
            },
            "type": "mesh3d"
           }
          ],
          "parcoords": [
           {
            "line": {
             "colorbar": {
              "outlinewidth": 0,
              "ticks": ""
             }
            },
            "type": "parcoords"
           }
          ],
          "pie": [
           {
            "automargin": true,
            "type": "pie"
           }
          ],
          "scatter": [
           {
            "marker": {
             "colorbar": {
              "outlinewidth": 0,
              "ticks": ""
             }
            },
            "type": "scatter"
           }
          ],
          "scatter3d": [
           {
            "line": {
             "colorbar": {
              "outlinewidth": 0,
              "ticks": ""
             }
            },
            "marker": {
             "colorbar": {
              "outlinewidth": 0,
              "ticks": ""
             }
            },
            "type": "scatter3d"
           }
          ],
          "scattercarpet": [
           {
            "marker": {
             "colorbar": {
              "outlinewidth": 0,
              "ticks": ""
             }
            },
            "type": "scattercarpet"
           }
          ],
          "scattergeo": [
           {
            "marker": {
             "colorbar": {
              "outlinewidth": 0,
              "ticks": ""
             }
            },
            "type": "scattergeo"
           }
          ],
          "scattergl": [
           {
            "marker": {
             "colorbar": {
              "outlinewidth": 0,
              "ticks": ""
             }
            },
            "type": "scattergl"
           }
          ],
          "scattermapbox": [
           {
            "marker": {
             "colorbar": {
              "outlinewidth": 0,
              "ticks": ""
             }
            },
            "type": "scattermapbox"
           }
          ],
          "scatterpolar": [
           {
            "marker": {
             "colorbar": {
              "outlinewidth": 0,
              "ticks": ""
             }
            },
            "type": "scatterpolar"
           }
          ],
          "scatterpolargl": [
           {
            "marker": {
             "colorbar": {
              "outlinewidth": 0,
              "ticks": ""
             }
            },
            "type": "scatterpolargl"
           }
          ],
          "scatterternary": [
           {
            "marker": {
             "colorbar": {
              "outlinewidth": 0,
              "ticks": ""
             }
            },
            "type": "scatterternary"
           }
          ],
          "surface": [
           {
            "colorbar": {
             "outlinewidth": 0,
             "ticks": ""
            },
            "colorscale": [
             [
              0,
              "#0d0887"
             ],
             [
              0.1111111111111111,
              "#46039f"
             ],
             [
              0.2222222222222222,
              "#7201a8"
             ],
             [
              0.3333333333333333,
              "#9c179e"
             ],
             [
              0.4444444444444444,
              "#bd3786"
             ],
             [
              0.5555555555555556,
              "#d8576b"
             ],
             [
              0.6666666666666666,
              "#ed7953"
             ],
             [
              0.7777777777777778,
              "#fb9f3a"
             ],
             [
              0.8888888888888888,
              "#fdca26"
             ],
             [
              1,
              "#f0f921"
             ]
            ],
            "type": "surface"
           }
          ],
          "table": [
           {
            "cells": {
             "fill": {
              "color": "#EBF0F8"
             },
             "line": {
              "color": "white"
             }
            },
            "header": {
             "fill": {
              "color": "#C8D4E3"
             },
             "line": {
              "color": "white"
             }
            },
            "type": "table"
           }
          ]
         },
         "layout": {
          "annotationdefaults": {
           "arrowcolor": "#2a3f5f",
           "arrowhead": 0,
           "arrowwidth": 1
          },
          "coloraxis": {
           "colorbar": {
            "outlinewidth": 0,
            "ticks": ""
           }
          },
          "colorscale": {
           "diverging": [
            [
             0,
             "#8e0152"
            ],
            [
             0.1,
             "#c51b7d"
            ],
            [
             0.2,
             "#de77ae"
            ],
            [
             0.3,
             "#f1b6da"
            ],
            [
             0.4,
             "#fde0ef"
            ],
            [
             0.5,
             "#f7f7f7"
            ],
            [
             0.6,
             "#e6f5d0"
            ],
            [
             0.7,
             "#b8e186"
            ],
            [
             0.8,
             "#7fbc41"
            ],
            [
             0.9,
             "#4d9221"
            ],
            [
             1,
             "#276419"
            ]
           ],
           "sequential": [
            [
             0,
             "#0d0887"
            ],
            [
             0.1111111111111111,
             "#46039f"
            ],
            [
             0.2222222222222222,
             "#7201a8"
            ],
            [
             0.3333333333333333,
             "#9c179e"
            ],
            [
             0.4444444444444444,
             "#bd3786"
            ],
            [
             0.5555555555555556,
             "#d8576b"
            ],
            [
             0.6666666666666666,
             "#ed7953"
            ],
            [
             0.7777777777777778,
             "#fb9f3a"
            ],
            [
             0.8888888888888888,
             "#fdca26"
            ],
            [
             1,
             "#f0f921"
            ]
           ],
           "sequentialminus": [
            [
             0,
             "#0d0887"
            ],
            [
             0.1111111111111111,
             "#46039f"
            ],
            [
             0.2222222222222222,
             "#7201a8"
            ],
            [
             0.3333333333333333,
             "#9c179e"
            ],
            [
             0.4444444444444444,
             "#bd3786"
            ],
            [
             0.5555555555555556,
             "#d8576b"
            ],
            [
             0.6666666666666666,
             "#ed7953"
            ],
            [
             0.7777777777777778,
             "#fb9f3a"
            ],
            [
             0.8888888888888888,
             "#fdca26"
            ],
            [
             1,
             "#f0f921"
            ]
           ]
          },
          "colorway": [
           "#636efa",
           "#EF553B",
           "#00cc96",
           "#ab63fa",
           "#FFA15A",
           "#19d3f3",
           "#FF6692",
           "#B6E880",
           "#FF97FF",
           "#FECB52"
          ],
          "font": {
           "color": "#2a3f5f"
          },
          "geo": {
           "bgcolor": "white",
           "lakecolor": "white",
           "landcolor": "#E5ECF6",
           "showlakes": true,
           "showland": true,
           "subunitcolor": "white"
          },
          "hoverlabel": {
           "align": "left"
          },
          "hovermode": "closest",
          "mapbox": {
           "style": "light"
          },
          "paper_bgcolor": "white",
          "plot_bgcolor": "#E5ECF6",
          "polar": {
           "angularaxis": {
            "gridcolor": "white",
            "linecolor": "white",
            "ticks": ""
           },
           "bgcolor": "#E5ECF6",
           "radialaxis": {
            "gridcolor": "white",
            "linecolor": "white",
            "ticks": ""
           }
          },
          "scene": {
           "xaxis": {
            "backgroundcolor": "#E5ECF6",
            "gridcolor": "white",
            "gridwidth": 2,
            "linecolor": "white",
            "showbackground": true,
            "ticks": "",
            "zerolinecolor": "white"
           },
           "yaxis": {
            "backgroundcolor": "#E5ECF6",
            "gridcolor": "white",
            "gridwidth": 2,
            "linecolor": "white",
            "showbackground": true,
            "ticks": "",
            "zerolinecolor": "white"
           },
           "zaxis": {
            "backgroundcolor": "#E5ECF6",
            "gridcolor": "white",
            "gridwidth": 2,
            "linecolor": "white",
            "showbackground": true,
            "ticks": "",
            "zerolinecolor": "white"
           }
          },
          "shapedefaults": {
           "line": {
            "color": "#2a3f5f"
           }
          },
          "ternary": {
           "aaxis": {
            "gridcolor": "white",
            "linecolor": "white",
            "ticks": ""
           },
           "baxis": {
            "gridcolor": "white",
            "linecolor": "white",
            "ticks": ""
           },
           "bgcolor": "#E5ECF6",
           "caxis": {
            "gridcolor": "white",
            "linecolor": "white",
            "ticks": ""
           }
          },
          "title": {
           "x": 0.05
          },
          "xaxis": {
           "automargin": true,
           "gridcolor": "white",
           "linecolor": "white",
           "ticks": "",
           "title": {
            "standoff": 15
           },
           "zerolinecolor": "white",
           "zerolinewidth": 2
          },
          "yaxis": {
           "automargin": true,
           "gridcolor": "white",
           "linecolor": "white",
           "ticks": "",
           "title": {
            "standoff": 15
           },
           "zerolinecolor": "white",
           "zerolinewidth": 2
          }
         }
        },
        "title": {
         "text": "Kinase Substrate Enrichment (Mean Method)"
        },
        "xaxis": {
         "anchor": "y",
         "domain": [
          0,
          1
         ],
         "title": {
          "text": "mS"
         }
        },
        "yaxis": {
         "anchor": "x",
         "domain": [
          0,
          1
         ],
         "title": {
          "text": "Kinase"
         }
        }
       }
      },
      "text/html": [
       "<div>\n",
       "        \n",
       "        \n",
       "            <div id=\"29da0ee8-ba45-403c-b2a8-5eb335ab8e21\" class=\"plotly-graph-div\" style=\"height:600px; width:100%;\"></div>\n",
       "            <script type=\"text/javascript\">\n",
       "                require([\"plotly\"], function(Plotly) {\n",
       "                    window.PLOTLYENV=window.PLOTLYENV || {};\n",
       "                    \n",
       "                if (document.getElementById(\"29da0ee8-ba45-403c-b2a8-5eb335ab8e21\")) {\n",
       "                    Plotly.newPlot(\n",
       "                        '29da0ee8-ba45-403c-b2a8-5eb335ab8e21',\n",
       "                        [{\"alignmentgroup\": \"True\", \"customdata\": [[1.678685428582395, \"EEF2K\"], [1.6593249626161775, \"ATR\"], [1.6320869197884276, \"P38B\"], [1.4640169135821381, \"ERK5\"], [1.418793599943017, \"PKCT\"], [1.2504417714422573, \"TAF1\"], [1.0640449838644865, \"GTF2F1\"], [1.0571604874456366, \"MARK2\"], [1.0534390233540745, \"AurA\"], [0.9749054321342082, \"AMPKA1\"], [0.9513549889069126, \"RIPK2\"], [0.8240300358142395, \"Wee1\"], [0.8237994659696475, \"PAK1\"], [0.7500826492722724, \"CDC7\"], [0.703793678105434, \"ARAF\"], [0.6592664690833683, \"CK1A\"], [0.6571369555976329, \"PLK1\"], [0.651356556441161, \"DAPK3\"], [0.629032885569825, \"RSK2\"], [0.5857611546855851, \"Tyk2\"], [0.5770770791427284, \"ChaK1\"], [0.5764197800253611, \"PKCA\"], [0.5503625646245826, \"PRKD1\"], [0.5398893314922536, \"PDK1\"], [0.5073848875704527, \"PKCG\"]], \"hoverlabel\": {\"namelength\": 0}, \"hovertemplate\": \"mS=%{customdata[0]}<br>Kinase=%{customdata[1]}\", \"legendgroup\": \"\", \"marker\": {\"color\": \"#636efa\"}, \"name\": \"\", \"offsetgroup\": \"\", \"orientation\": \"h\", \"showlegend\": false, \"textposition\": \"auto\", \"type\": \"bar\", \"x\": [1.678685428582395, 1.6593249626161775, 1.6320869197884276, 1.4640169135821381, 1.418793599943017, 1.2504417714422573, 1.0640449838644865, 1.0571604874456366, 1.0534390233540745, 0.9749054321342082, 0.9513549889069126, 0.8240300358142395, 0.8237994659696475, 0.7500826492722724, 0.703793678105434, 0.6592664690833683, 0.6571369555976329, 0.651356556441161, 0.629032885569825, 0.5857611546855851, 0.5770770791427284, 0.5764197800253611, 0.5503625646245826, 0.5398893314922536, 0.5073848875704527], \"xaxis\": \"x\", \"y\": [\"EEF2K\", \"ATR\", \"P38B\", \"ERK5\", \"PKCT\", \"TAF1\", \"GTF2F1\", \"MARK2\", \"AurA\", \"AMPKA1\", \"RIPK2\", \"Wee1\", \"PAK1\", \"CDC7\", \"ARAF\", \"CK1A\", \"PLK1\", \"DAPK3\", \"RSK2\", \"Tyk2\", \"ChaK1\", \"PKCA\", \"PRKD1\", \"PDK1\", \"PKCG\"], \"yaxis\": \"y\"}],\n",
       "                        {\"barmode\": \"relative\", \"height\": 600, \"legend\": {\"tracegroupgap\": 0}, \"template\": {\"data\": {\"bar\": [{\"error_x\": {\"color\": \"#2a3f5f\"}, \"error_y\": {\"color\": \"#2a3f5f\"}, \"marker\": {\"line\": {\"color\": \"#E5ECF6\", \"width\": 0.5}}, \"type\": \"bar\"}], \"barpolar\": [{\"marker\": {\"line\": {\"color\": \"#E5ECF6\", \"width\": 0.5}}, \"type\": \"barpolar\"}], \"carpet\": [{\"aaxis\": {\"endlinecolor\": \"#2a3f5f\", \"gridcolor\": \"white\", \"linecolor\": \"white\", \"minorgridcolor\": \"white\", \"startlinecolor\": \"#2a3f5f\"}, \"baxis\": {\"endlinecolor\": \"#2a3f5f\", \"gridcolor\": \"white\", \"linecolor\": \"white\", \"minorgridcolor\": \"white\", \"startlinecolor\": \"#2a3f5f\"}, \"type\": \"carpet\"}], \"choropleth\": [{\"colorbar\": {\"outlinewidth\": 0, \"ticks\": \"\"}, \"type\": \"choropleth\"}], \"contour\": [{\"colorbar\": {\"outlinewidth\": 0, \"ticks\": \"\"}, \"colorscale\": [[0.0, \"#0d0887\"], [0.1111111111111111, \"#46039f\"], [0.2222222222222222, \"#7201a8\"], [0.3333333333333333, \"#9c179e\"], [0.4444444444444444, \"#bd3786\"], [0.5555555555555556, \"#d8576b\"], [0.6666666666666666, \"#ed7953\"], [0.7777777777777778, \"#fb9f3a\"], [0.8888888888888888, \"#fdca26\"], [1.0, \"#f0f921\"]], \"type\": \"contour\"}], \"contourcarpet\": [{\"colorbar\": {\"outlinewidth\": 0, \"ticks\": \"\"}, \"type\": \"contourcarpet\"}], \"heatmap\": [{\"colorbar\": {\"outlinewidth\": 0, \"ticks\": \"\"}, \"colorscale\": [[0.0, \"#0d0887\"], [0.1111111111111111, \"#46039f\"], [0.2222222222222222, \"#7201a8\"], [0.3333333333333333, \"#9c179e\"], [0.4444444444444444, \"#bd3786\"], [0.5555555555555556, \"#d8576b\"], [0.6666666666666666, \"#ed7953\"], [0.7777777777777778, \"#fb9f3a\"], [0.8888888888888888, \"#fdca26\"], [1.0, \"#f0f921\"]], \"type\": \"heatmap\"}], \"heatmapgl\": [{\"colorbar\": {\"outlinewidth\": 0, \"ticks\": \"\"}, \"colorscale\": [[0.0, \"#0d0887\"], [0.1111111111111111, \"#46039f\"], [0.2222222222222222, \"#7201a8\"], [0.3333333333333333, \"#9c179e\"], [0.4444444444444444, \"#bd3786\"], [0.5555555555555556, \"#d8576b\"], [0.6666666666666666, \"#ed7953\"], [0.7777777777777778, \"#fb9f3a\"], [0.8888888888888888, \"#fdca26\"], [1.0, \"#f0f921\"]], \"type\": \"heatmapgl\"}], \"histogram\": [{\"marker\": {\"colorbar\": {\"outlinewidth\": 0, \"ticks\": \"\"}}, \"type\": \"histogram\"}], \"histogram2d\": [{\"colorbar\": {\"outlinewidth\": 0, \"ticks\": \"\"}, \"colorscale\": [[0.0, \"#0d0887\"], [0.1111111111111111, \"#46039f\"], [0.2222222222222222, \"#7201a8\"], [0.3333333333333333, \"#9c179e\"], [0.4444444444444444, \"#bd3786\"], [0.5555555555555556, \"#d8576b\"], [0.6666666666666666, \"#ed7953\"], [0.7777777777777778, \"#fb9f3a\"], [0.8888888888888888, \"#fdca26\"], [1.0, \"#f0f921\"]], \"type\": \"histogram2d\"}], \"histogram2dcontour\": [{\"colorbar\": {\"outlinewidth\": 0, \"ticks\": \"\"}, \"colorscale\": [[0.0, \"#0d0887\"], [0.1111111111111111, \"#46039f\"], [0.2222222222222222, \"#7201a8\"], [0.3333333333333333, \"#9c179e\"], [0.4444444444444444, \"#bd3786\"], [0.5555555555555556, \"#d8576b\"], [0.6666666666666666, \"#ed7953\"], [0.7777777777777778, \"#fb9f3a\"], [0.8888888888888888, \"#fdca26\"], [1.0, \"#f0f921\"]], \"type\": \"histogram2dcontour\"}], \"mesh3d\": [{\"colorbar\": {\"outlinewidth\": 0, \"ticks\": \"\"}, \"type\": \"mesh3d\"}], \"parcoords\": [{\"line\": {\"colorbar\": {\"outlinewidth\": 0, \"ticks\": \"\"}}, \"type\": \"parcoords\"}], \"pie\": [{\"automargin\": true, \"type\": \"pie\"}], \"scatter\": [{\"marker\": {\"colorbar\": {\"outlinewidth\": 0, \"ticks\": \"\"}}, \"type\": \"scatter\"}], \"scatter3d\": [{\"line\": {\"colorbar\": {\"outlinewidth\": 0, \"ticks\": \"\"}}, \"marker\": {\"colorbar\": {\"outlinewidth\": 0, \"ticks\": \"\"}}, \"type\": \"scatter3d\"}], \"scattercarpet\": [{\"marker\": {\"colorbar\": {\"outlinewidth\": 0, \"ticks\": \"\"}}, \"type\": \"scattercarpet\"}], \"scattergeo\": [{\"marker\": {\"colorbar\": {\"outlinewidth\": 0, \"ticks\": \"\"}}, \"type\": \"scattergeo\"}], \"scattergl\": [{\"marker\": {\"colorbar\": {\"outlinewidth\": 0, \"ticks\": \"\"}}, \"type\": \"scattergl\"}], \"scattermapbox\": [{\"marker\": {\"colorbar\": {\"outlinewidth\": 0, \"ticks\": \"\"}}, \"type\": \"scattermapbox\"}], \"scatterpolar\": [{\"marker\": {\"colorbar\": {\"outlinewidth\": 0, \"ticks\": \"\"}}, \"type\": \"scatterpolar\"}], \"scatterpolargl\": [{\"marker\": {\"colorbar\": {\"outlinewidth\": 0, \"ticks\": \"\"}}, \"type\": \"scatterpolargl\"}], \"scatterternary\": [{\"marker\": {\"colorbar\": {\"outlinewidth\": 0, \"ticks\": \"\"}}, \"type\": \"scatterternary\"}], \"surface\": [{\"colorbar\": {\"outlinewidth\": 0, \"ticks\": \"\"}, \"colorscale\": [[0.0, \"#0d0887\"], [0.1111111111111111, \"#46039f\"], [0.2222222222222222, \"#7201a8\"], [0.3333333333333333, \"#9c179e\"], [0.4444444444444444, \"#bd3786\"], [0.5555555555555556, \"#d8576b\"], [0.6666666666666666, \"#ed7953\"], [0.7777777777777778, \"#fb9f3a\"], [0.8888888888888888, \"#fdca26\"], [1.0, \"#f0f921\"]], \"type\": \"surface\"}], \"table\": [{\"cells\": {\"fill\": {\"color\": \"#EBF0F8\"}, \"line\": {\"color\": \"white\"}}, \"header\": {\"fill\": {\"color\": \"#C8D4E3\"}, \"line\": {\"color\": \"white\"}}, \"type\": \"table\"}]}, \"layout\": {\"annotationdefaults\": {\"arrowcolor\": \"#2a3f5f\", \"arrowhead\": 0, \"arrowwidth\": 1}, \"coloraxis\": {\"colorbar\": {\"outlinewidth\": 0, \"ticks\": \"\"}}, \"colorscale\": {\"diverging\": [[0, \"#8e0152\"], [0.1, \"#c51b7d\"], [0.2, \"#de77ae\"], [0.3, \"#f1b6da\"], [0.4, \"#fde0ef\"], [0.5, \"#f7f7f7\"], [0.6, \"#e6f5d0\"], [0.7, \"#b8e186\"], [0.8, \"#7fbc41\"], [0.9, \"#4d9221\"], [1, \"#276419\"]], \"sequential\": [[0.0, \"#0d0887\"], [0.1111111111111111, \"#46039f\"], [0.2222222222222222, \"#7201a8\"], [0.3333333333333333, \"#9c179e\"], [0.4444444444444444, \"#bd3786\"], [0.5555555555555556, \"#d8576b\"], [0.6666666666666666, \"#ed7953\"], [0.7777777777777778, \"#fb9f3a\"], [0.8888888888888888, \"#fdca26\"], [1.0, \"#f0f921\"]], \"sequentialminus\": [[0.0, \"#0d0887\"], [0.1111111111111111, \"#46039f\"], [0.2222222222222222, \"#7201a8\"], [0.3333333333333333, \"#9c179e\"], [0.4444444444444444, \"#bd3786\"], [0.5555555555555556, \"#d8576b\"], [0.6666666666666666, \"#ed7953\"], [0.7777777777777778, \"#fb9f3a\"], [0.8888888888888888, \"#fdca26\"], [1.0, \"#f0f921\"]]}, \"colorway\": [\"#636efa\", \"#EF553B\", \"#00cc96\", \"#ab63fa\", \"#FFA15A\", \"#19d3f3\", \"#FF6692\", \"#B6E880\", \"#FF97FF\", \"#FECB52\"], \"font\": {\"color\": \"#2a3f5f\"}, \"geo\": {\"bgcolor\": \"white\", \"lakecolor\": \"white\", \"landcolor\": \"#E5ECF6\", \"showlakes\": true, \"showland\": true, \"subunitcolor\": \"white\"}, \"hoverlabel\": {\"align\": \"left\"}, \"hovermode\": \"closest\", \"mapbox\": {\"style\": \"light\"}, \"paper_bgcolor\": \"white\", \"plot_bgcolor\": \"#E5ECF6\", \"polar\": {\"angularaxis\": {\"gridcolor\": \"white\", \"linecolor\": \"white\", \"ticks\": \"\"}, \"bgcolor\": \"#E5ECF6\", \"radialaxis\": {\"gridcolor\": \"white\", \"linecolor\": \"white\", \"ticks\": \"\"}}, \"scene\": {\"xaxis\": {\"backgroundcolor\": \"#E5ECF6\", \"gridcolor\": \"white\", \"gridwidth\": 2, \"linecolor\": \"white\", \"showbackground\": true, \"ticks\": \"\", \"zerolinecolor\": \"white\"}, \"yaxis\": {\"backgroundcolor\": \"#E5ECF6\", \"gridcolor\": \"white\", \"gridwidth\": 2, \"linecolor\": \"white\", \"showbackground\": true, \"ticks\": \"\", \"zerolinecolor\": \"white\"}, \"zaxis\": {\"backgroundcolor\": \"#E5ECF6\", \"gridcolor\": \"white\", \"gridwidth\": 2, \"linecolor\": \"white\", \"showbackground\": true, \"ticks\": \"\", \"zerolinecolor\": \"white\"}}, \"shapedefaults\": {\"line\": {\"color\": \"#2a3f5f\"}}, \"ternary\": {\"aaxis\": {\"gridcolor\": \"white\", \"linecolor\": \"white\", \"ticks\": \"\"}, \"baxis\": {\"gridcolor\": \"white\", \"linecolor\": \"white\", \"ticks\": \"\"}, \"bgcolor\": \"#E5ECF6\", \"caxis\": {\"gridcolor\": \"white\", \"linecolor\": \"white\", \"ticks\": \"\"}}, \"title\": {\"x\": 0.05}, \"xaxis\": {\"automargin\": true, \"gridcolor\": \"white\", \"linecolor\": \"white\", \"ticks\": \"\", \"title\": {\"standoff\": 15}, \"zerolinecolor\": \"white\", \"zerolinewidth\": 2}, \"yaxis\": {\"automargin\": true, \"gridcolor\": \"white\", \"linecolor\": \"white\", \"ticks\": \"\", \"title\": {\"standoff\": 15}, \"zerolinecolor\": \"white\", \"zerolinewidth\": 2}}}, \"title\": {\"text\": \"Kinase Substrate Enrichment (Mean Method)\"}, \"xaxis\": {\"anchor\": \"y\", \"domain\": [0.0, 1.0], \"title\": {\"text\": \"mS\"}}, \"yaxis\": {\"anchor\": \"x\", \"domain\": [0.0, 1.0], \"title\": {\"text\": \"Kinase\"}}},\n",
       "                        {\"responsive\": true}\n",
       "                    ).then(function(){\n",
       "                            \n",
       "var gd = document.getElementById('29da0ee8-ba45-403c-b2a8-5eb335ab8e21');\n",
       "var x = new MutationObserver(function (mutations, observer) {{\n",
       "        var display = window.getComputedStyle(gd).display;\n",
       "        if (!display || display === 'none') {{\n",
       "            console.log([gd, 'removed!']);\n",
       "            Plotly.purge(gd);\n",
       "            observer.disconnect();\n",
       "        }}\n",
       "}});\n",
       "\n",
       "// Listen for the removal of the full notebook cells\n",
       "var notebookContainer = gd.closest('#notebook-container');\n",
       "if (notebookContainer) {{\n",
       "    x.observe(notebookContainer, {childList: true});\n",
       "}}\n",
       "\n",
       "// Listen for the clearing of the current output cell\n",
       "var outputEl = gd.closest('.output');\n",
       "if (outputEl) {{\n",
       "    x.observe(outputEl, {childList: true});\n",
       "}}\n",
       "\n",
       "                        })\n",
       "                };\n",
       "                });\n",
       "            </script>\n",
       "        </div>"
      ]
     },
     "metadata": {},
     "output_type": "display_data"
    }
   ],
   "source": [
    "import plotly.express as px\n",
    "fig = px.bar(sorted_df, x=\"mS\", y=\"Kinase\", orientation='h',\n",
    "             hover_data=[\"mS\", \"Kinase\"],\n",
    "             height=600,\n",
    "             title='Kinase Substrate Enrichment (Mean Method)')\n",
    "fig.show()"
   ]
  },
  {
   "cell_type": "code",
   "execution_count": 331,
   "metadata": {},
   "outputs": [
    {
     "data": {
      "application/vnd.plotly.v1+json": {
       "config": {
        "plotlyServerURL": "https://plot.ly"
       },
       "data": [
        {
         "alignmentgroup": "True",
         "customdata": [
          [
           124.12879712879999,
           "PKCA"
          ],
          [
           28.12354568777777,
           "mTOR"
          ],
          [
           13.47968069,
           "ATR"
          ],
          [
           4.4468505364999995,
           "AMPKA1"
          ],
          [
           3.2013611280000003,
           "EEF2K"
          ],
          [
           2.68135850525,
           "CK2A1"
          ],
          [
           2.6318286805,
           "AurA"
          ],
          [
           2.4729599909999997,
           "PKCT"
          ],
          [
           2.2494489069999997,
           "ChaK1"
          ],
          [
           2.180583013,
           "CDK7"
          ],
          [
           2.090785391,
           "GTF2F1"
          ],
          [
           1.9894654713333328,
           "CDK1"
          ],
          [
           1.984630528,
           "PKG1"
          ],
          [
           1.68188918,
           "CDC7"
          ],
          [
           1.6335557757142856,
           "CDK2"
          ],
          [
           1.628782175,
           "ARAF"
          ],
          [
           1.6000360046000002,
           "Chk1"
          ],
          [
           1.5120799790000001,
           "RSK2"
          ],
          [
           1.4538609880000002,
           "PDK1"
          ],
          [
           1.4214712180000002,
           "PKCG"
          ],
          [
           1.4143892135,
           "AurB"
          ],
          [
           1.36053729,
           "BRAF"
          ],
          [
           1.345539302,
           "PKCI"
          ],
          [
           1.323145397,
           "CAMK2A"
          ],
          [
           1.2972075303333332,
           "PKACA"
          ]
         ],
         "hoverlabel": {
          "namelength": 0
         },
         "hovertemplate": "mS=%{customdata[0]}<br>Kinase=%{customdata[1]}",
         "legendgroup": "",
         "marker": {
          "color": "#636efa"
         },
         "name": "",
         "offsetgroup": "",
         "orientation": "h",
         "showlegend": false,
         "textposition": "auto",
         "type": "bar",
         "x": [
          124.12879712879999,
          28.12354568777777,
          13.47968069,
          4.4468505364999995,
          3.2013611280000003,
          2.68135850525,
          2.6318286805,
          2.4729599909999997,
          2.2494489069999997,
          2.180583013,
          2.090785391,
          1.9894654713333328,
          1.984630528,
          1.68188918,
          1.6335557757142856,
          1.628782175,
          1.6000360046000002,
          1.5120799790000001,
          1.4538609880000002,
          1.4214712180000002,
          1.4143892135,
          1.36053729,
          1.345539302,
          1.323145397,
          1.2972075303333332
         ],
         "xaxis": "x",
         "y": [
          "PKCA",
          "mTOR",
          "ATR",
          "AMPKA1",
          "EEF2K",
          "CK2A1",
          "AurA",
          "PKCT",
          "ChaK1",
          "CDK7",
          "GTF2F1",
          "CDK1",
          "PKG1",
          "CDC7",
          "CDK2",
          "ARAF",
          "Chk1",
          "RSK2",
          "PDK1",
          "PKCG",
          "AurB",
          "BRAF",
          "PKCI",
          "CAMK2A",
          "PKACA"
         ],
         "yaxis": "y"
        }
       ],
       "layout": {
        "barmode": "relative",
        "height": 600,
        "legend": {
         "tracegroupgap": 0
        },
        "template": {
         "data": {
          "bar": [
           {
            "error_x": {
             "color": "#2a3f5f"
            },
            "error_y": {
             "color": "#2a3f5f"
            },
            "marker": {
             "line": {
              "color": "#E5ECF6",
              "width": 0.5
             }
            },
            "type": "bar"
           }
          ],
          "barpolar": [
           {
            "marker": {
             "line": {
              "color": "#E5ECF6",
              "width": 0.5
             }
            },
            "type": "barpolar"
           }
          ],
          "carpet": [
           {
            "aaxis": {
             "endlinecolor": "#2a3f5f",
             "gridcolor": "white",
             "linecolor": "white",
             "minorgridcolor": "white",
             "startlinecolor": "#2a3f5f"
            },
            "baxis": {
             "endlinecolor": "#2a3f5f",
             "gridcolor": "white",
             "linecolor": "white",
             "minorgridcolor": "white",
             "startlinecolor": "#2a3f5f"
            },
            "type": "carpet"
           }
          ],
          "choropleth": [
           {
            "colorbar": {
             "outlinewidth": 0,
             "ticks": ""
            },
            "type": "choropleth"
           }
          ],
          "contour": [
           {
            "colorbar": {
             "outlinewidth": 0,
             "ticks": ""
            },
            "colorscale": [
             [
              0,
              "#0d0887"
             ],
             [
              0.1111111111111111,
              "#46039f"
             ],
             [
              0.2222222222222222,
              "#7201a8"
             ],
             [
              0.3333333333333333,
              "#9c179e"
             ],
             [
              0.4444444444444444,
              "#bd3786"
             ],
             [
              0.5555555555555556,
              "#d8576b"
             ],
             [
              0.6666666666666666,
              "#ed7953"
             ],
             [
              0.7777777777777778,
              "#fb9f3a"
             ],
             [
              0.8888888888888888,
              "#fdca26"
             ],
             [
              1,
              "#f0f921"
             ]
            ],
            "type": "contour"
           }
          ],
          "contourcarpet": [
           {
            "colorbar": {
             "outlinewidth": 0,
             "ticks": ""
            },
            "type": "contourcarpet"
           }
          ],
          "heatmap": [
           {
            "colorbar": {
             "outlinewidth": 0,
             "ticks": ""
            },
            "colorscale": [
             [
              0,
              "#0d0887"
             ],
             [
              0.1111111111111111,
              "#46039f"
             ],
             [
              0.2222222222222222,
              "#7201a8"
             ],
             [
              0.3333333333333333,
              "#9c179e"
             ],
             [
              0.4444444444444444,
              "#bd3786"
             ],
             [
              0.5555555555555556,
              "#d8576b"
             ],
             [
              0.6666666666666666,
              "#ed7953"
             ],
             [
              0.7777777777777778,
              "#fb9f3a"
             ],
             [
              0.8888888888888888,
              "#fdca26"
             ],
             [
              1,
              "#f0f921"
             ]
            ],
            "type": "heatmap"
           }
          ],
          "heatmapgl": [
           {
            "colorbar": {
             "outlinewidth": 0,
             "ticks": ""
            },
            "colorscale": [
             [
              0,
              "#0d0887"
             ],
             [
              0.1111111111111111,
              "#46039f"
             ],
             [
              0.2222222222222222,
              "#7201a8"
             ],
             [
              0.3333333333333333,
              "#9c179e"
             ],
             [
              0.4444444444444444,
              "#bd3786"
             ],
             [
              0.5555555555555556,
              "#d8576b"
             ],
             [
              0.6666666666666666,
              "#ed7953"
             ],
             [
              0.7777777777777778,
              "#fb9f3a"
             ],
             [
              0.8888888888888888,
              "#fdca26"
             ],
             [
              1,
              "#f0f921"
             ]
            ],
            "type": "heatmapgl"
           }
          ],
          "histogram": [
           {
            "marker": {
             "colorbar": {
              "outlinewidth": 0,
              "ticks": ""
             }
            },
            "type": "histogram"
           }
          ],
          "histogram2d": [
           {
            "colorbar": {
             "outlinewidth": 0,
             "ticks": ""
            },
            "colorscale": [
             [
              0,
              "#0d0887"
             ],
             [
              0.1111111111111111,
              "#46039f"
             ],
             [
              0.2222222222222222,
              "#7201a8"
             ],
             [
              0.3333333333333333,
              "#9c179e"
             ],
             [
              0.4444444444444444,
              "#bd3786"
             ],
             [
              0.5555555555555556,
              "#d8576b"
             ],
             [
              0.6666666666666666,
              "#ed7953"
             ],
             [
              0.7777777777777778,
              "#fb9f3a"
             ],
             [
              0.8888888888888888,
              "#fdca26"
             ],
             [
              1,
              "#f0f921"
             ]
            ],
            "type": "histogram2d"
           }
          ],
          "histogram2dcontour": [
           {
            "colorbar": {
             "outlinewidth": 0,
             "ticks": ""
            },
            "colorscale": [
             [
              0,
              "#0d0887"
             ],
             [
              0.1111111111111111,
              "#46039f"
             ],
             [
              0.2222222222222222,
              "#7201a8"
             ],
             [
              0.3333333333333333,
              "#9c179e"
             ],
             [
              0.4444444444444444,
              "#bd3786"
             ],
             [
              0.5555555555555556,
              "#d8576b"
             ],
             [
              0.6666666666666666,
              "#ed7953"
             ],
             [
              0.7777777777777778,
              "#fb9f3a"
             ],
             [
              0.8888888888888888,
              "#fdca26"
             ],
             [
              1,
              "#f0f921"
             ]
            ],
            "type": "histogram2dcontour"
           }
          ],
          "mesh3d": [
           {
            "colorbar": {
             "outlinewidth": 0,
             "ticks": ""
            },
            "type": "mesh3d"
           }
          ],
          "parcoords": [
           {
            "line": {
             "colorbar": {
              "outlinewidth": 0,
              "ticks": ""
             }
            },
            "type": "parcoords"
           }
          ],
          "pie": [
           {
            "automargin": true,
            "type": "pie"
           }
          ],
          "scatter": [
           {
            "marker": {
             "colorbar": {
              "outlinewidth": 0,
              "ticks": ""
             }
            },
            "type": "scatter"
           }
          ],
          "scatter3d": [
           {
            "line": {
             "colorbar": {
              "outlinewidth": 0,
              "ticks": ""
             }
            },
            "marker": {
             "colorbar": {
              "outlinewidth": 0,
              "ticks": ""
             }
            },
            "type": "scatter3d"
           }
          ],
          "scattercarpet": [
           {
            "marker": {
             "colorbar": {
              "outlinewidth": 0,
              "ticks": ""
             }
            },
            "type": "scattercarpet"
           }
          ],
          "scattergeo": [
           {
            "marker": {
             "colorbar": {
              "outlinewidth": 0,
              "ticks": ""
             }
            },
            "type": "scattergeo"
           }
          ],
          "scattergl": [
           {
            "marker": {
             "colorbar": {
              "outlinewidth": 0,
              "ticks": ""
             }
            },
            "type": "scattergl"
           }
          ],
          "scattermapbox": [
           {
            "marker": {
             "colorbar": {
              "outlinewidth": 0,
              "ticks": ""
             }
            },
            "type": "scattermapbox"
           }
          ],
          "scatterpolar": [
           {
            "marker": {
             "colorbar": {
              "outlinewidth": 0,
              "ticks": ""
             }
            },
            "type": "scatterpolar"
           }
          ],
          "scatterpolargl": [
           {
            "marker": {
             "colorbar": {
              "outlinewidth": 0,
              "ticks": ""
             }
            },
            "type": "scatterpolargl"
           }
          ],
          "scatterternary": [
           {
            "marker": {
             "colorbar": {
              "outlinewidth": 0,
              "ticks": ""
             }
            },
            "type": "scatterternary"
           }
          ],
          "surface": [
           {
            "colorbar": {
             "outlinewidth": 0,
             "ticks": ""
            },
            "colorscale": [
             [
              0,
              "#0d0887"
             ],
             [
              0.1111111111111111,
              "#46039f"
             ],
             [
              0.2222222222222222,
              "#7201a8"
             ],
             [
              0.3333333333333333,
              "#9c179e"
             ],
             [
              0.4444444444444444,
              "#bd3786"
             ],
             [
              0.5555555555555556,
              "#d8576b"
             ],
             [
              0.6666666666666666,
              "#ed7953"
             ],
             [
              0.7777777777777778,
              "#fb9f3a"
             ],
             [
              0.8888888888888888,
              "#fdca26"
             ],
             [
              1,
              "#f0f921"
             ]
            ],
            "type": "surface"
           }
          ],
          "table": [
           {
            "cells": {
             "fill": {
              "color": "#EBF0F8"
             },
             "line": {
              "color": "white"
             }
            },
            "header": {
             "fill": {
              "color": "#C8D4E3"
             },
             "line": {
              "color": "white"
             }
            },
            "type": "table"
           }
          ]
         },
         "layout": {
          "annotationdefaults": {
           "arrowcolor": "#2a3f5f",
           "arrowhead": 0,
           "arrowwidth": 1
          },
          "coloraxis": {
           "colorbar": {
            "outlinewidth": 0,
            "ticks": ""
           }
          },
          "colorscale": {
           "diverging": [
            [
             0,
             "#8e0152"
            ],
            [
             0.1,
             "#c51b7d"
            ],
            [
             0.2,
             "#de77ae"
            ],
            [
             0.3,
             "#f1b6da"
            ],
            [
             0.4,
             "#fde0ef"
            ],
            [
             0.5,
             "#f7f7f7"
            ],
            [
             0.6,
             "#e6f5d0"
            ],
            [
             0.7,
             "#b8e186"
            ],
            [
             0.8,
             "#7fbc41"
            ],
            [
             0.9,
             "#4d9221"
            ],
            [
             1,
             "#276419"
            ]
           ],
           "sequential": [
            [
             0,
             "#0d0887"
            ],
            [
             0.1111111111111111,
             "#46039f"
            ],
            [
             0.2222222222222222,
             "#7201a8"
            ],
            [
             0.3333333333333333,
             "#9c179e"
            ],
            [
             0.4444444444444444,
             "#bd3786"
            ],
            [
             0.5555555555555556,
             "#d8576b"
            ],
            [
             0.6666666666666666,
             "#ed7953"
            ],
            [
             0.7777777777777778,
             "#fb9f3a"
            ],
            [
             0.8888888888888888,
             "#fdca26"
            ],
            [
             1,
             "#f0f921"
            ]
           ],
           "sequentialminus": [
            [
             0,
             "#0d0887"
            ],
            [
             0.1111111111111111,
             "#46039f"
            ],
            [
             0.2222222222222222,
             "#7201a8"
            ],
            [
             0.3333333333333333,
             "#9c179e"
            ],
            [
             0.4444444444444444,
             "#bd3786"
            ],
            [
             0.5555555555555556,
             "#d8576b"
            ],
            [
             0.6666666666666666,
             "#ed7953"
            ],
            [
             0.7777777777777778,
             "#fb9f3a"
            ],
            [
             0.8888888888888888,
             "#fdca26"
            ],
            [
             1,
             "#f0f921"
            ]
           ]
          },
          "colorway": [
           "#636efa",
           "#EF553B",
           "#00cc96",
           "#ab63fa",
           "#FFA15A",
           "#19d3f3",
           "#FF6692",
           "#B6E880",
           "#FF97FF",
           "#FECB52"
          ],
          "font": {
           "color": "#2a3f5f"
          },
          "geo": {
           "bgcolor": "white",
           "lakecolor": "white",
           "landcolor": "#E5ECF6",
           "showlakes": true,
           "showland": true,
           "subunitcolor": "white"
          },
          "hoverlabel": {
           "align": "left"
          },
          "hovermode": "closest",
          "mapbox": {
           "style": "light"
          },
          "paper_bgcolor": "white",
          "plot_bgcolor": "#E5ECF6",
          "polar": {
           "angularaxis": {
            "gridcolor": "white",
            "linecolor": "white",
            "ticks": ""
           },
           "bgcolor": "#E5ECF6",
           "radialaxis": {
            "gridcolor": "white",
            "linecolor": "white",
            "ticks": ""
           }
          },
          "scene": {
           "xaxis": {
            "backgroundcolor": "#E5ECF6",
            "gridcolor": "white",
            "gridwidth": 2,
            "linecolor": "white",
            "showbackground": true,
            "ticks": "",
            "zerolinecolor": "white"
           },
           "yaxis": {
            "backgroundcolor": "#E5ECF6",
            "gridcolor": "white",
            "gridwidth": 2,
            "linecolor": "white",
            "showbackground": true,
            "ticks": "",
            "zerolinecolor": "white"
           },
           "zaxis": {
            "backgroundcolor": "#E5ECF6",
            "gridcolor": "white",
            "gridwidth": 2,
            "linecolor": "white",
            "showbackground": true,
            "ticks": "",
            "zerolinecolor": "white"
           }
          },
          "shapedefaults": {
           "line": {
            "color": "#2a3f5f"
           }
          },
          "ternary": {
           "aaxis": {
            "gridcolor": "white",
            "linecolor": "white",
            "ticks": ""
           },
           "baxis": {
            "gridcolor": "white",
            "linecolor": "white",
            "ticks": ""
           },
           "bgcolor": "#E5ECF6",
           "caxis": {
            "gridcolor": "white",
            "linecolor": "white",
            "ticks": ""
           }
          },
          "title": {
           "x": 0.05
          },
          "xaxis": {
           "automargin": true,
           "gridcolor": "white",
           "linecolor": "white",
           "ticks": "",
           "title": {
            "standoff": 15
           },
           "zerolinecolor": "white",
           "zerolinewidth": 2
          },
          "yaxis": {
           "automargin": true,
           "gridcolor": "white",
           "linecolor": "white",
           "ticks": "",
           "title": {
            "standoff": 15
           },
           "zerolinecolor": "white",
           "zerolinewidth": 2
          }
         }
        },
        "title": {
         "text": "Kinase Substrate Enrichment (Alternative Mean Method)"
        },
        "xaxis": {
         "anchor": "y",
         "domain": [
          0,
          1
         ],
         "title": {
          "text": "mS"
         }
        },
        "yaxis": {
         "anchor": "x",
         "domain": [
          0,
          1
         ],
         "title": {
          "text": "Kinase"
         }
        }
       }
      },
      "text/html": [
       "<div>\n",
       "        \n",
       "        \n",
       "            <div id=\"35c72ba4-6c6c-4058-8cfc-a2c869ec939d\" class=\"plotly-graph-div\" style=\"height:600px; width:100%;\"></div>\n",
       "            <script type=\"text/javascript\">\n",
       "                require([\"plotly\"], function(Plotly) {\n",
       "                    window.PLOTLYENV=window.PLOTLYENV || {};\n",
       "                    \n",
       "                if (document.getElementById(\"35c72ba4-6c6c-4058-8cfc-a2c869ec939d\")) {\n",
       "                    Plotly.newPlot(\n",
       "                        '35c72ba4-6c6c-4058-8cfc-a2c869ec939d',\n",
       "                        [{\"alignmentgroup\": \"True\", \"customdata\": [[124.12879712879999, \"PKCA\"], [28.12354568777777, \"mTOR\"], [13.47968069, \"ATR\"], [4.4468505364999995, \"AMPKA1\"], [3.2013611280000003, \"EEF2K\"], [2.68135850525, \"CK2A1\"], [2.6318286805, \"AurA\"], [2.4729599909999997, \"PKCT\"], [2.2494489069999997, \"ChaK1\"], [2.180583013, \"CDK7\"], [2.090785391, \"GTF2F1\"], [1.9894654713333328, \"CDK1\"], [1.984630528, \"PKG1\"], [1.68188918, \"CDC7\"], [1.6335557757142856, \"CDK2\"], [1.628782175, \"ARAF\"], [1.6000360046000002, \"Chk1\"], [1.5120799790000001, \"RSK2\"], [1.4538609880000002, \"PDK1\"], [1.4214712180000002, \"PKCG\"], [1.4143892135, \"AurB\"], [1.36053729, \"BRAF\"], [1.345539302, \"PKCI\"], [1.323145397, \"CAMK2A\"], [1.2972075303333332, \"PKACA\"]], \"hoverlabel\": {\"namelength\": 0}, \"hovertemplate\": \"mS=%{customdata[0]}<br>Kinase=%{customdata[1]}\", \"legendgroup\": \"\", \"marker\": {\"color\": \"#636efa\"}, \"name\": \"\", \"offsetgroup\": \"\", \"orientation\": \"h\", \"showlegend\": false, \"textposition\": \"auto\", \"type\": \"bar\", \"x\": [124.12879712879999, 28.12354568777777, 13.47968069, 4.4468505364999995, 3.2013611280000003, 2.68135850525, 2.6318286805, 2.4729599909999997, 2.2494489069999997, 2.180583013, 2.090785391, 1.9894654713333328, 1.984630528, 1.68188918, 1.6335557757142856, 1.628782175, 1.6000360046000002, 1.5120799790000001, 1.4538609880000002, 1.4214712180000002, 1.4143892135, 1.36053729, 1.345539302, 1.323145397, 1.2972075303333332], \"xaxis\": \"x\", \"y\": [\"PKCA\", \"mTOR\", \"ATR\", \"AMPKA1\", \"EEF2K\", \"CK2A1\", \"AurA\", \"PKCT\", \"ChaK1\", \"CDK7\", \"GTF2F1\", \"CDK1\", \"PKG1\", \"CDC7\", \"CDK2\", \"ARAF\", \"Chk1\", \"RSK2\", \"PDK1\", \"PKCG\", \"AurB\", \"BRAF\", \"PKCI\", \"CAMK2A\", \"PKACA\"], \"yaxis\": \"y\"}],\n",
       "                        {\"barmode\": \"relative\", \"height\": 600, \"legend\": {\"tracegroupgap\": 0}, \"template\": {\"data\": {\"bar\": [{\"error_x\": {\"color\": \"#2a3f5f\"}, \"error_y\": {\"color\": \"#2a3f5f\"}, \"marker\": {\"line\": {\"color\": \"#E5ECF6\", \"width\": 0.5}}, \"type\": \"bar\"}], \"barpolar\": [{\"marker\": {\"line\": {\"color\": \"#E5ECF6\", \"width\": 0.5}}, \"type\": \"barpolar\"}], \"carpet\": [{\"aaxis\": {\"endlinecolor\": \"#2a3f5f\", \"gridcolor\": \"white\", \"linecolor\": \"white\", \"minorgridcolor\": \"white\", \"startlinecolor\": \"#2a3f5f\"}, \"baxis\": {\"endlinecolor\": \"#2a3f5f\", \"gridcolor\": \"white\", \"linecolor\": \"white\", \"minorgridcolor\": \"white\", \"startlinecolor\": \"#2a3f5f\"}, \"type\": \"carpet\"}], \"choropleth\": [{\"colorbar\": {\"outlinewidth\": 0, \"ticks\": \"\"}, \"type\": \"choropleth\"}], \"contour\": [{\"colorbar\": {\"outlinewidth\": 0, \"ticks\": \"\"}, \"colorscale\": [[0.0, \"#0d0887\"], [0.1111111111111111, \"#46039f\"], [0.2222222222222222, \"#7201a8\"], [0.3333333333333333, \"#9c179e\"], [0.4444444444444444, \"#bd3786\"], [0.5555555555555556, \"#d8576b\"], [0.6666666666666666, \"#ed7953\"], [0.7777777777777778, \"#fb9f3a\"], [0.8888888888888888, \"#fdca26\"], [1.0, \"#f0f921\"]], \"type\": \"contour\"}], \"contourcarpet\": [{\"colorbar\": {\"outlinewidth\": 0, \"ticks\": \"\"}, \"type\": \"contourcarpet\"}], \"heatmap\": [{\"colorbar\": {\"outlinewidth\": 0, \"ticks\": \"\"}, \"colorscale\": [[0.0, \"#0d0887\"], [0.1111111111111111, \"#46039f\"], [0.2222222222222222, \"#7201a8\"], [0.3333333333333333, \"#9c179e\"], [0.4444444444444444, \"#bd3786\"], [0.5555555555555556, \"#d8576b\"], [0.6666666666666666, \"#ed7953\"], [0.7777777777777778, \"#fb9f3a\"], [0.8888888888888888, \"#fdca26\"], [1.0, \"#f0f921\"]], \"type\": \"heatmap\"}], \"heatmapgl\": [{\"colorbar\": {\"outlinewidth\": 0, \"ticks\": \"\"}, \"colorscale\": [[0.0, \"#0d0887\"], [0.1111111111111111, \"#46039f\"], [0.2222222222222222, \"#7201a8\"], [0.3333333333333333, \"#9c179e\"], [0.4444444444444444, \"#bd3786\"], [0.5555555555555556, \"#d8576b\"], [0.6666666666666666, \"#ed7953\"], [0.7777777777777778, \"#fb9f3a\"], [0.8888888888888888, \"#fdca26\"], [1.0, \"#f0f921\"]], \"type\": \"heatmapgl\"}], \"histogram\": [{\"marker\": {\"colorbar\": {\"outlinewidth\": 0, \"ticks\": \"\"}}, \"type\": \"histogram\"}], \"histogram2d\": [{\"colorbar\": {\"outlinewidth\": 0, \"ticks\": \"\"}, \"colorscale\": [[0.0, \"#0d0887\"], [0.1111111111111111, \"#46039f\"], [0.2222222222222222, \"#7201a8\"], [0.3333333333333333, \"#9c179e\"], [0.4444444444444444, \"#bd3786\"], [0.5555555555555556, \"#d8576b\"], [0.6666666666666666, \"#ed7953\"], [0.7777777777777778, \"#fb9f3a\"], [0.8888888888888888, \"#fdca26\"], [1.0, \"#f0f921\"]], \"type\": \"histogram2d\"}], \"histogram2dcontour\": [{\"colorbar\": {\"outlinewidth\": 0, \"ticks\": \"\"}, \"colorscale\": [[0.0, \"#0d0887\"], [0.1111111111111111, \"#46039f\"], [0.2222222222222222, \"#7201a8\"], [0.3333333333333333, \"#9c179e\"], [0.4444444444444444, \"#bd3786\"], [0.5555555555555556, \"#d8576b\"], [0.6666666666666666, \"#ed7953\"], [0.7777777777777778, \"#fb9f3a\"], [0.8888888888888888, \"#fdca26\"], [1.0, \"#f0f921\"]], \"type\": \"histogram2dcontour\"}], \"mesh3d\": [{\"colorbar\": {\"outlinewidth\": 0, \"ticks\": \"\"}, \"type\": \"mesh3d\"}], \"parcoords\": [{\"line\": {\"colorbar\": {\"outlinewidth\": 0, \"ticks\": \"\"}}, \"type\": \"parcoords\"}], \"pie\": [{\"automargin\": true, \"type\": \"pie\"}], \"scatter\": [{\"marker\": {\"colorbar\": {\"outlinewidth\": 0, \"ticks\": \"\"}}, \"type\": \"scatter\"}], \"scatter3d\": [{\"line\": {\"colorbar\": {\"outlinewidth\": 0, \"ticks\": \"\"}}, \"marker\": {\"colorbar\": {\"outlinewidth\": 0, \"ticks\": \"\"}}, \"type\": \"scatter3d\"}], \"scattercarpet\": [{\"marker\": {\"colorbar\": {\"outlinewidth\": 0, \"ticks\": \"\"}}, \"type\": \"scattercarpet\"}], \"scattergeo\": [{\"marker\": {\"colorbar\": {\"outlinewidth\": 0, \"ticks\": \"\"}}, \"type\": \"scattergeo\"}], \"scattergl\": [{\"marker\": {\"colorbar\": {\"outlinewidth\": 0, \"ticks\": \"\"}}, \"type\": \"scattergl\"}], \"scattermapbox\": [{\"marker\": {\"colorbar\": {\"outlinewidth\": 0, \"ticks\": \"\"}}, \"type\": \"scattermapbox\"}], \"scatterpolar\": [{\"marker\": {\"colorbar\": {\"outlinewidth\": 0, \"ticks\": \"\"}}, \"type\": \"scatterpolar\"}], \"scatterpolargl\": [{\"marker\": {\"colorbar\": {\"outlinewidth\": 0, \"ticks\": \"\"}}, \"type\": \"scatterpolargl\"}], \"scatterternary\": [{\"marker\": {\"colorbar\": {\"outlinewidth\": 0, \"ticks\": \"\"}}, \"type\": \"scatterternary\"}], \"surface\": [{\"colorbar\": {\"outlinewidth\": 0, \"ticks\": \"\"}, \"colorscale\": [[0.0, \"#0d0887\"], [0.1111111111111111, \"#46039f\"], [0.2222222222222222, \"#7201a8\"], [0.3333333333333333, \"#9c179e\"], [0.4444444444444444, \"#bd3786\"], [0.5555555555555556, \"#d8576b\"], [0.6666666666666666, \"#ed7953\"], [0.7777777777777778, \"#fb9f3a\"], [0.8888888888888888, \"#fdca26\"], [1.0, \"#f0f921\"]], \"type\": \"surface\"}], \"table\": [{\"cells\": {\"fill\": {\"color\": \"#EBF0F8\"}, \"line\": {\"color\": \"white\"}}, \"header\": {\"fill\": {\"color\": \"#C8D4E3\"}, \"line\": {\"color\": \"white\"}}, \"type\": \"table\"}]}, \"layout\": {\"annotationdefaults\": {\"arrowcolor\": \"#2a3f5f\", \"arrowhead\": 0, \"arrowwidth\": 1}, \"coloraxis\": {\"colorbar\": {\"outlinewidth\": 0, \"ticks\": \"\"}}, \"colorscale\": {\"diverging\": [[0, \"#8e0152\"], [0.1, \"#c51b7d\"], [0.2, \"#de77ae\"], [0.3, \"#f1b6da\"], [0.4, \"#fde0ef\"], [0.5, \"#f7f7f7\"], [0.6, \"#e6f5d0\"], [0.7, \"#b8e186\"], [0.8, \"#7fbc41\"], [0.9, \"#4d9221\"], [1, \"#276419\"]], \"sequential\": [[0.0, \"#0d0887\"], [0.1111111111111111, \"#46039f\"], [0.2222222222222222, \"#7201a8\"], [0.3333333333333333, \"#9c179e\"], [0.4444444444444444, \"#bd3786\"], [0.5555555555555556, \"#d8576b\"], [0.6666666666666666, \"#ed7953\"], [0.7777777777777778, \"#fb9f3a\"], [0.8888888888888888, \"#fdca26\"], [1.0, \"#f0f921\"]], \"sequentialminus\": [[0.0, \"#0d0887\"], [0.1111111111111111, \"#46039f\"], [0.2222222222222222, \"#7201a8\"], [0.3333333333333333, \"#9c179e\"], [0.4444444444444444, \"#bd3786\"], [0.5555555555555556, \"#d8576b\"], [0.6666666666666666, \"#ed7953\"], [0.7777777777777778, \"#fb9f3a\"], [0.8888888888888888, \"#fdca26\"], [1.0, \"#f0f921\"]]}, \"colorway\": [\"#636efa\", \"#EF553B\", \"#00cc96\", \"#ab63fa\", \"#FFA15A\", \"#19d3f3\", \"#FF6692\", \"#B6E880\", \"#FF97FF\", \"#FECB52\"], \"font\": {\"color\": \"#2a3f5f\"}, \"geo\": {\"bgcolor\": \"white\", \"lakecolor\": \"white\", \"landcolor\": \"#E5ECF6\", \"showlakes\": true, \"showland\": true, \"subunitcolor\": \"white\"}, \"hoverlabel\": {\"align\": \"left\"}, \"hovermode\": \"closest\", \"mapbox\": {\"style\": \"light\"}, \"paper_bgcolor\": \"white\", \"plot_bgcolor\": \"#E5ECF6\", \"polar\": {\"angularaxis\": {\"gridcolor\": \"white\", \"linecolor\": \"white\", \"ticks\": \"\"}, \"bgcolor\": \"#E5ECF6\", \"radialaxis\": {\"gridcolor\": \"white\", \"linecolor\": \"white\", \"ticks\": \"\"}}, \"scene\": {\"xaxis\": {\"backgroundcolor\": \"#E5ECF6\", \"gridcolor\": \"white\", \"gridwidth\": 2, \"linecolor\": \"white\", \"showbackground\": true, \"ticks\": \"\", \"zerolinecolor\": \"white\"}, \"yaxis\": {\"backgroundcolor\": \"#E5ECF6\", \"gridcolor\": \"white\", \"gridwidth\": 2, \"linecolor\": \"white\", \"showbackground\": true, \"ticks\": \"\", \"zerolinecolor\": \"white\"}, \"zaxis\": {\"backgroundcolor\": \"#E5ECF6\", \"gridcolor\": \"white\", \"gridwidth\": 2, \"linecolor\": \"white\", \"showbackground\": true, \"ticks\": \"\", \"zerolinecolor\": \"white\"}}, \"shapedefaults\": {\"line\": {\"color\": \"#2a3f5f\"}}, \"ternary\": {\"aaxis\": {\"gridcolor\": \"white\", \"linecolor\": \"white\", \"ticks\": \"\"}, \"baxis\": {\"gridcolor\": \"white\", \"linecolor\": \"white\", \"ticks\": \"\"}, \"bgcolor\": \"#E5ECF6\", \"caxis\": {\"gridcolor\": \"white\", \"linecolor\": \"white\", \"ticks\": \"\"}}, \"title\": {\"x\": 0.05}, \"xaxis\": {\"automargin\": true, \"gridcolor\": \"white\", \"linecolor\": \"white\", \"ticks\": \"\", \"title\": {\"standoff\": 15}, \"zerolinecolor\": \"white\", \"zerolinewidth\": 2}, \"yaxis\": {\"automargin\": true, \"gridcolor\": \"white\", \"linecolor\": \"white\", \"ticks\": \"\", \"title\": {\"standoff\": 15}, \"zerolinecolor\": \"white\", \"zerolinewidth\": 2}}}, \"title\": {\"text\": \"Kinase Substrate Enrichment (Alternative Mean Method)\"}, \"xaxis\": {\"anchor\": \"y\", \"domain\": [0.0, 1.0], \"title\": {\"text\": \"mS\"}}, \"yaxis\": {\"anchor\": \"x\", \"domain\": [0.0, 1.0], \"title\": {\"text\": \"Kinase\"}}},\n",
       "                        {\"responsive\": true}\n",
       "                    ).then(function(){\n",
       "                            \n",
       "var gd = document.getElementById('35c72ba4-6c6c-4058-8cfc-a2c869ec939d');\n",
       "var x = new MutationObserver(function (mutations, observer) {{\n",
       "        var display = window.getComputedStyle(gd).display;\n",
       "        if (!display || display === 'none') {{\n",
       "            console.log([gd, 'removed!']);\n",
       "            Plotly.purge(gd);\n",
       "            observer.disconnect();\n",
       "        }}\n",
       "}});\n",
       "\n",
       "// Listen for the removal of the full notebook cells\n",
       "var notebookContainer = gd.closest('#notebook-container');\n",
       "if (notebookContainer) {{\n",
       "    x.observe(notebookContainer, {childList: true});\n",
       "}}\n",
       "\n",
       "// Listen for the clearing of the current output cell\n",
       "var outputEl = gd.closest('.output');\n",
       "if (outputEl) {{\n",
       "    x.observe(outputEl, {childList: true});\n",
       "}}\n",
       "\n",
       "                        })\n",
       "                };\n",
       "                });\n",
       "            </script>\n",
       "        </div>"
      ]
     },
     "metadata": {},
     "output_type": "display_data"
    }
   ],
   "source": [
    "sorted_df_alt = alt_calculations_df.sort_values(by='mS', ascending=False).head(25)\n",
    "\n",
    "fig = px.bar(sorted_df_alt, x=\"mS\", y=\"Kinase\", orientation='h',\n",
    "             hover_data=[\"mS\", \"Kinase\"],\n",
    "             height=600,\n",
    "             title='Kinase Substrate Enrichment (Alternative Mean Method)')\n",
    "fig.show()"
   ]
  },
  {
   "cell_type": "code",
   "execution_count": null,
   "metadata": {},
   "outputs": [],
   "source": []
  }
 ],
 "metadata": {
  "kernelspec": {
   "display_name": "Python 2",
   "language": "python",
   "name": "python2"
  },
  "language_info": {
   "codemirror_mode": {
    "name": "ipython",
    "version": 2
   },
   "file_extension": ".py",
   "mimetype": "text/x-python",
   "name": "python",
   "nbconvert_exporter": "python",
   "pygments_lexer": "ipython2",
   "version": "2.7.16"
  }
 },
 "nbformat": 4,
 "nbformat_minor": 2
}
